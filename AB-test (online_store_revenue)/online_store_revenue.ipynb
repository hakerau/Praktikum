{
 "cells": [
  {
   "cell_type": "markdown",
   "metadata": {},
   "source": [
    "# Исследование гипотез по увеличению выручки интернет-магазина\n",
    "\n",
    "Вместе с отделом маркетинга был подготовлен список гипотез для увеличения выручки."
   ]
  },
  {
   "cell_type": "markdown",
   "metadata": {},
   "source": [
    "**Цель:** понять, какие гипотезы помогут увеличить выручку.\n",
    "\n",
    "**План работы:**\n",
    "    - приоритизировать гипотезы\n",
    "    - отобрать рабочие\n",
    "    - запустить A/B-тест\n",
    "    - проанализировать результаты"
   ]
  },
  {
   "cell_type": "code",
   "execution_count": 1,
   "metadata": {},
   "outputs": [],
   "source": [
    "# импортируем нужные библиотеки\n",
    "import pandas as pd\n",
    "import datetime as dt\n",
    "import numpy as np\n",
    "import matplotlib.pyplot as plt\n",
    "from scipy import stats as st"
   ]
  },
  {
   "cell_type": "markdown",
   "metadata": {},
   "source": [
    "## Часть 1. Приоритизация гипотез."
   ]
  },
  {
   "cell_type": "code",
   "execution_count": 2,
   "metadata": {},
   "outputs": [
    {
     "data": {
      "text/html": [
       "<div>\n",
       "<style scoped>\n",
       "    .dataframe tbody tr th:only-of-type {\n",
       "        vertical-align: middle;\n",
       "    }\n",
       "\n",
       "    .dataframe tbody tr th {\n",
       "        vertical-align: top;\n",
       "    }\n",
       "\n",
       "    .dataframe thead th {\n",
       "        text-align: right;\n",
       "    }\n",
       "</style>\n",
       "<table border=\"1\" class=\"dataframe\">\n",
       "  <thead>\n",
       "    <tr style=\"text-align: right;\">\n",
       "      <th></th>\n",
       "      <th>Hypothesis</th>\n",
       "      <th>Reach</th>\n",
       "      <th>Impact</th>\n",
       "      <th>Confidence</th>\n",
       "      <th>Efforts</th>\n",
       "    </tr>\n",
       "  </thead>\n",
       "  <tbody>\n",
       "    <tr>\n",
       "      <th>0</th>\n",
       "      <td>Добавить два новых канала привлечения трафика,...</td>\n",
       "      <td>3</td>\n",
       "      <td>10</td>\n",
       "      <td>8</td>\n",
       "      <td>6</td>\n",
       "    </tr>\n",
       "    <tr>\n",
       "      <th>1</th>\n",
       "      <td>Запустить собственную службу доставки, что сок...</td>\n",
       "      <td>2</td>\n",
       "      <td>5</td>\n",
       "      <td>4</td>\n",
       "      <td>10</td>\n",
       "    </tr>\n",
       "    <tr>\n",
       "      <th>2</th>\n",
       "      <td>Добавить блоки рекомендаций товаров на сайт ин...</td>\n",
       "      <td>8</td>\n",
       "      <td>3</td>\n",
       "      <td>7</td>\n",
       "      <td>3</td>\n",
       "    </tr>\n",
       "    <tr>\n",
       "      <th>3</th>\n",
       "      <td>Изменить структура категорий, что увеличит кон...</td>\n",
       "      <td>8</td>\n",
       "      <td>3</td>\n",
       "      <td>3</td>\n",
       "      <td>8</td>\n",
       "    </tr>\n",
       "    <tr>\n",
       "      <th>4</th>\n",
       "      <td>Изменить цвет фона главной страницы, чтобы уве...</td>\n",
       "      <td>3</td>\n",
       "      <td>1</td>\n",
       "      <td>1</td>\n",
       "      <td>1</td>\n",
       "    </tr>\n",
       "    <tr>\n",
       "      <th>5</th>\n",
       "      <td>Добавить страницу отзывов клиентов о магазине,...</td>\n",
       "      <td>3</td>\n",
       "      <td>2</td>\n",
       "      <td>2</td>\n",
       "      <td>3</td>\n",
       "    </tr>\n",
       "    <tr>\n",
       "      <th>6</th>\n",
       "      <td>Показать на главной странице баннеры с актуаль...</td>\n",
       "      <td>5</td>\n",
       "      <td>3</td>\n",
       "      <td>8</td>\n",
       "      <td>3</td>\n",
       "    </tr>\n",
       "    <tr>\n",
       "      <th>7</th>\n",
       "      <td>Добавить форму подписки на все основные страни...</td>\n",
       "      <td>10</td>\n",
       "      <td>7</td>\n",
       "      <td>8</td>\n",
       "      <td>5</td>\n",
       "    </tr>\n",
       "    <tr>\n",
       "      <th>8</th>\n",
       "      <td>Запустить акцию, дающую скидку на товар в день...</td>\n",
       "      <td>1</td>\n",
       "      <td>9</td>\n",
       "      <td>9</td>\n",
       "      <td>5</td>\n",
       "    </tr>\n",
       "  </tbody>\n",
       "</table>\n",
       "</div>"
      ],
      "text/plain": [
       "                                          Hypothesis  Reach  Impact  \\\n",
       "0  Добавить два новых канала привлечения трафика,...      3      10   \n",
       "1  Запустить собственную службу доставки, что сок...      2       5   \n",
       "2  Добавить блоки рекомендаций товаров на сайт ин...      8       3   \n",
       "3  Изменить структура категорий, что увеличит кон...      8       3   \n",
       "4  Изменить цвет фона главной страницы, чтобы уве...      3       1   \n",
       "5  Добавить страницу отзывов клиентов о магазине,...      3       2   \n",
       "6  Показать на главной странице баннеры с актуаль...      5       3   \n",
       "7  Добавить форму подписки на все основные страни...     10       7   \n",
       "8  Запустить акцию, дающую скидку на товар в день...      1       9   \n",
       "\n",
       "   Confidence  Efforts  \n",
       "0           8        6  \n",
       "1           4       10  \n",
       "2           7        3  \n",
       "3           3        8  \n",
       "4           1        1  \n",
       "5           2        3  \n",
       "6           8        3  \n",
       "7           8        5  \n",
       "8           9        5  "
      ]
     },
     "execution_count": 2,
     "metadata": {},
     "output_type": "execute_result"
    }
   ],
   "source": [
    "# Откроем файл с данными и изучим общую информацию.\n",
    "hypothesis = pd.read_csv('hypothesis.csv')\n",
    "hypothesis"
   ]
  },
  {
   "cell_type": "markdown",
   "metadata": {},
   "source": [
    "В файле видим 9 гипотез по увеличению выручки интернет-магазина с указанными параметрами Reach, Impact, Confidence, Effort. Можем оценить эти гипотезы и приоритизировать их.\n",
    "\n",
    "Для этого воспользуемся двумя методами приоритизации ICE и RICE. Они оценивают гипотезы по некоторым критериям. В ICE входят три критерия (I*C/E):\n",
    "\n",
    "- Impact — насколько сильно изменение повлияет на пользователей, их опыт и удовлетворение от продукта;\n",
    "- Confidence — насколько мы уверены, что это изменение повлияет на пользователей именно так; \n",
    "- Efforts — сколько стоит протестировать эту гипотезу. \n",
    "\n",
    "При использовании RICE добавляется еще четвертый (R*I*C/E): \n",
    "\n",
    "- Reach — скольких пользователей затронет изменение, которое мы хотитим внести.\n",
    "\n",
    "\n",
    "Сначала применим фреймворк **ICE** для приоритизации гипотез."
   ]
  },
  {
   "cell_type": "code",
   "execution_count": 3,
   "metadata": {},
   "outputs": [
    {
     "data": {
      "text/html": [
       "<div>\n",
       "<style scoped>\n",
       "    .dataframe tbody tr th:only-of-type {\n",
       "        vertical-align: middle;\n",
       "    }\n",
       "\n",
       "    .dataframe tbody tr th {\n",
       "        vertical-align: top;\n",
       "    }\n",
       "\n",
       "    .dataframe thead th {\n",
       "        text-align: right;\n",
       "    }\n",
       "</style>\n",
       "<table border=\"1\" class=\"dataframe\">\n",
       "  <thead>\n",
       "    <tr style=\"text-align: right;\">\n",
       "      <th></th>\n",
       "      <th>Hypothesis</th>\n",
       "      <th>ICE</th>\n",
       "    </tr>\n",
       "  </thead>\n",
       "  <tbody>\n",
       "    <tr>\n",
       "      <th>8</th>\n",
       "      <td>Запустить акцию, дающую скидку на товар в день рождения</td>\n",
       "      <td>16.20</td>\n",
       "    </tr>\n",
       "    <tr>\n",
       "      <th>0</th>\n",
       "      <td>Добавить два новых канала привлечения трафика, что позволит привлекать на 30% больше пользователей</td>\n",
       "      <td>13.33</td>\n",
       "    </tr>\n",
       "    <tr>\n",
       "      <th>7</th>\n",
       "      <td>Добавить форму подписки на все основные страницы, чтобы собрать базу клиентов для email-рассылок</td>\n",
       "      <td>11.20</td>\n",
       "    </tr>\n",
       "    <tr>\n",
       "      <th>6</th>\n",
       "      <td>Показать на главной странице баннеры с актуальными акциями и распродажами, чтобы увеличить конверсию</td>\n",
       "      <td>8.00</td>\n",
       "    </tr>\n",
       "    <tr>\n",
       "      <th>2</th>\n",
       "      <td>Добавить блоки рекомендаций товаров на сайт интернет магазина, чтобы повысить конверсию и средний чек заказа</td>\n",
       "      <td>7.00</td>\n",
       "    </tr>\n",
       "    <tr>\n",
       "      <th>1</th>\n",
       "      <td>Запустить собственную службу доставки, что сократит срок доставки заказов</td>\n",
       "      <td>2.00</td>\n",
       "    </tr>\n",
       "    <tr>\n",
       "      <th>5</th>\n",
       "      <td>Добавить страницу отзывов клиентов о магазине, что позволит увеличить количество заказов</td>\n",
       "      <td>1.33</td>\n",
       "    </tr>\n",
       "    <tr>\n",
       "      <th>3</th>\n",
       "      <td>Изменить структура категорий, что увеличит конверсию, т.к. пользователи быстрее найдут нужный товар</td>\n",
       "      <td>1.12</td>\n",
       "    </tr>\n",
       "    <tr>\n",
       "      <th>4</th>\n",
       "      <td>Изменить цвет фона главной страницы, чтобы увеличить вовлеченность пользователей</td>\n",
       "      <td>1.00</td>\n",
       "    </tr>\n",
       "  </tbody>\n",
       "</table>\n",
       "</div>"
      ],
      "text/plain": [
       "                                                                                                     Hypothesis  \\\n",
       "8                                                       Запустить акцию, дающую скидку на товар в день рождения   \n",
       "0            Добавить два новых канала привлечения трафика, что позволит привлекать на 30% больше пользователей   \n",
       "7              Добавить форму подписки на все основные страницы, чтобы собрать базу клиентов для email-рассылок   \n",
       "6          Показать на главной странице баннеры с актуальными акциями и распродажами, чтобы увеличить конверсию   \n",
       "2  Добавить блоки рекомендаций товаров на сайт интернет магазина, чтобы повысить конверсию и средний чек заказа   \n",
       "1                                     Запустить собственную службу доставки, что сократит срок доставки заказов   \n",
       "5                      Добавить страницу отзывов клиентов о магазине, что позволит увеличить количество заказов   \n",
       "3           Изменить структура категорий, что увеличит конверсию, т.к. пользователи быстрее найдут нужный товар   \n",
       "4                              Изменить цвет фона главной страницы, чтобы увеличить вовлеченность пользователей   \n",
       "\n",
       "     ICE  \n",
       "8  16.20  \n",
       "0  13.33  \n",
       "7  11.20  \n",
       "6   8.00  \n",
       "2   7.00  \n",
       "1   2.00  \n",
       "5   1.33  \n",
       "3   1.12  \n",
       "4   1.00  "
      ]
     },
     "execution_count": 3,
     "metadata": {},
     "output_type": "execute_result"
    }
   ],
   "source": [
    "pd.options.display.max_colwidth = 150\n",
    "hypothesis['ICE'] = (hypothesis['Impact'] * hypothesis['Confidence'] / hypothesis['Efforts']).round(2)\n",
    "hypothesis[['Hypothesis','ICE']].sort_values(by='ICE', ascending=False)"
   ]
  },
  {
   "cell_type": "markdown",
   "metadata": {},
   "source": [
    "Теперь попробуем применить фреймворк **RICE** для приоритизации гипотез (учтем охват пользователей)."
   ]
  },
  {
   "cell_type": "code",
   "execution_count": 4,
   "metadata": {},
   "outputs": [
    {
     "data": {
      "text/html": [
       "<div>\n",
       "<style scoped>\n",
       "    .dataframe tbody tr th:only-of-type {\n",
       "        vertical-align: middle;\n",
       "    }\n",
       "\n",
       "    .dataframe tbody tr th {\n",
       "        vertical-align: top;\n",
       "    }\n",
       "\n",
       "    .dataframe thead th {\n",
       "        text-align: right;\n",
       "    }\n",
       "</style>\n",
       "<table border=\"1\" class=\"dataframe\">\n",
       "  <thead>\n",
       "    <tr style=\"text-align: right;\">\n",
       "      <th></th>\n",
       "      <th>Hypothesis</th>\n",
       "      <th>RICE</th>\n",
       "    </tr>\n",
       "  </thead>\n",
       "  <tbody>\n",
       "    <tr>\n",
       "      <th>7</th>\n",
       "      <td>Добавить форму подписки на все основные страницы, чтобы собрать базу клиентов для email-рассылок</td>\n",
       "      <td>112.0</td>\n",
       "    </tr>\n",
       "    <tr>\n",
       "      <th>2</th>\n",
       "      <td>Добавить блоки рекомендаций товаров на сайт интернет магазина, чтобы повысить конверсию и средний чек заказа</td>\n",
       "      <td>56.0</td>\n",
       "    </tr>\n",
       "    <tr>\n",
       "      <th>0</th>\n",
       "      <td>Добавить два новых канала привлечения трафика, что позволит привлекать на 30% больше пользователей</td>\n",
       "      <td>40.0</td>\n",
       "    </tr>\n",
       "    <tr>\n",
       "      <th>6</th>\n",
       "      <td>Показать на главной странице баннеры с актуальными акциями и распродажами, чтобы увеличить конверсию</td>\n",
       "      <td>40.0</td>\n",
       "    </tr>\n",
       "    <tr>\n",
       "      <th>8</th>\n",
       "      <td>Запустить акцию, дающую скидку на товар в день рождения</td>\n",
       "      <td>16.2</td>\n",
       "    </tr>\n",
       "    <tr>\n",
       "      <th>3</th>\n",
       "      <td>Изменить структура категорий, что увеличит конверсию, т.к. пользователи быстрее найдут нужный товар</td>\n",
       "      <td>9.0</td>\n",
       "    </tr>\n",
       "    <tr>\n",
       "      <th>1</th>\n",
       "      <td>Запустить собственную службу доставки, что сократит срок доставки заказов</td>\n",
       "      <td>4.0</td>\n",
       "    </tr>\n",
       "    <tr>\n",
       "      <th>5</th>\n",
       "      <td>Добавить страницу отзывов клиентов о магазине, что позволит увеличить количество заказов</td>\n",
       "      <td>4.0</td>\n",
       "    </tr>\n",
       "    <tr>\n",
       "      <th>4</th>\n",
       "      <td>Изменить цвет фона главной страницы, чтобы увеличить вовлеченность пользователей</td>\n",
       "      <td>3.0</td>\n",
       "    </tr>\n",
       "  </tbody>\n",
       "</table>\n",
       "</div>"
      ],
      "text/plain": [
       "                                                                                                     Hypothesis  \\\n",
       "7              Добавить форму подписки на все основные страницы, чтобы собрать базу клиентов для email-рассылок   \n",
       "2  Добавить блоки рекомендаций товаров на сайт интернет магазина, чтобы повысить конверсию и средний чек заказа   \n",
       "0            Добавить два новых канала привлечения трафика, что позволит привлекать на 30% больше пользователей   \n",
       "6          Показать на главной странице баннеры с актуальными акциями и распродажами, чтобы увеличить конверсию   \n",
       "8                                                       Запустить акцию, дающую скидку на товар в день рождения   \n",
       "3           Изменить структура категорий, что увеличит конверсию, т.к. пользователи быстрее найдут нужный товар   \n",
       "1                                     Запустить собственную службу доставки, что сократит срок доставки заказов   \n",
       "5                      Добавить страницу отзывов клиентов о магазине, что позволит увеличить количество заказов   \n",
       "4                              Изменить цвет фона главной страницы, чтобы увеличить вовлеченность пользователей   \n",
       "\n",
       "    RICE  \n",
       "7  112.0  \n",
       "2   56.0  \n",
       "0   40.0  \n",
       "6   40.0  \n",
       "8   16.2  \n",
       "3    9.0  \n",
       "1    4.0  \n",
       "5    4.0  \n",
       "4    3.0  "
      ]
     },
     "execution_count": 4,
     "metadata": {},
     "output_type": "execute_result"
    }
   ],
   "source": [
    "hypothesis['RICE'] = hypothesis['Reach'] * hypothesis['Impact'] * hypothesis['Confidence'] / hypothesis['Efforts']\n",
    "hypothesis[['Hypothesis','RICE']].sort_values(by='RICE', ascending=False)"
   ]
  },
  {
   "cell_type": "markdown",
   "metadata": {},
   "source": [
    "Видим, что приоритеты в гипотезах сменились. Если в первом случае в топе были 9, 1 и 8 гипотезы, то во втором случае в топ три попали 8, 3 и 1 гипотезы. Это произошло потому, что гипотеза с запуском акции имеет очень низкую оценку по критерию количества пользователей, которых затронет это изменение. При этом на 4 месте в обоих случаях оказывается 7 гипотеза. Если делать выводы по двум проверкам (не уверена, что так можно, кстати), то топ 3 гипотезы будут 1, 7, 8."
   ]
  },
  {
   "cell_type": "markdown",
   "metadata": {},
   "source": [
    "## Часть 2. Анализ A/B-теста."
   ]
  },
  {
   "cell_type": "markdown",
   "metadata": {},
   "source": [
    "Был проведен A/B-тест, результаты которого необходимо изучить и проанализировать."
   ]
  },
  {
   "cell_type": "markdown",
   "metadata": {},
   "source": [
    "Откроем файлы с данными и изучим общую информацию."
   ]
  },
  {
   "cell_type": "code",
   "execution_count": 6,
   "metadata": {},
   "outputs": [
    {
     "name": "stdout",
     "output_type": "stream",
     "text": [
      "<class 'pandas.core.frame.DataFrame'>\n",
      "RangeIndex: 1197 entries, 0 to 1196\n",
      "Data columns (total 5 columns):\n",
      " #   Column         Non-Null Count  Dtype \n",
      "---  ------         --------------  ----- \n",
      " 0   transactionId  1197 non-null   int64 \n",
      " 1   visitorId      1197 non-null   int64 \n",
      " 2   date           1197 non-null   object\n",
      " 3   revenue        1197 non-null   int64 \n",
      " 4   group          1197 non-null   object\n",
      "dtypes: int64(3), object(2)\n",
      "memory usage: 46.9+ KB\n"
     ]
    }
   ],
   "source": [
    "orders.info()"
   ]
  },
  {
   "cell_type": "code",
   "execution_count": 7,
   "metadata": {},
   "outputs": [
    {
     "name": "stdout",
     "output_type": "stream",
     "text": [
      "<class 'pandas.core.frame.DataFrame'>\n",
      "RangeIndex: 62 entries, 0 to 61\n",
      "Data columns (total 3 columns):\n",
      " #   Column    Non-Null Count  Dtype \n",
      "---  ------    --------------  ----- \n",
      " 0   date      62 non-null     object\n",
      " 1   group     62 non-null     object\n",
      " 2   visitors  62 non-null     int64 \n",
      "dtypes: int64(1), object(2)\n",
      "memory usage: 1.6+ KB\n"
     ]
    }
   ],
   "source": [
    "visitors.info()"
   ]
  },
  {
   "cell_type": "code",
   "execution_count": 8,
   "metadata": {},
   "outputs": [],
   "source": [
    "# поменяем формат столбцов с датами на тип \"дата\"\n",
    "orders['date'] = orders['date'].map(lambda x: dt.datetime.strptime(x, '%Y-%m-%d'))\n",
    "visitors['date'] = visitors['date'].map(lambda x: dt.datetime.strptime(x, '%Y-%m-%d'))"
   ]
  },
  {
   "cell_type": "code",
   "execution_count": 9,
   "metadata": {},
   "outputs": [
    {
     "data": {
      "text/html": [
       "<div>\n",
       "<style scoped>\n",
       "    .dataframe tbody tr th:only-of-type {\n",
       "        vertical-align: middle;\n",
       "    }\n",
       "\n",
       "    .dataframe tbody tr th {\n",
       "        vertical-align: top;\n",
       "    }\n",
       "\n",
       "    .dataframe thead th {\n",
       "        text-align: right;\n",
       "    }\n",
       "</style>\n",
       "<table border=\"1\" class=\"dataframe\">\n",
       "  <thead>\n",
       "    <tr style=\"text-align: right;\">\n",
       "      <th></th>\n",
       "      <th>transactionId</th>\n",
       "      <th>visitorId</th>\n",
       "      <th>date</th>\n",
       "      <th>revenue</th>\n",
       "      <th>group</th>\n",
       "    </tr>\n",
       "  </thead>\n",
       "  <tbody>\n",
       "    <tr>\n",
       "      <th>0</th>\n",
       "      <td>3667963787</td>\n",
       "      <td>3312258926</td>\n",
       "      <td>2019-08-15</td>\n",
       "      <td>1650</td>\n",
       "      <td>B</td>\n",
       "    </tr>\n",
       "    <tr>\n",
       "      <th>1</th>\n",
       "      <td>2804400009</td>\n",
       "      <td>3642806036</td>\n",
       "      <td>2019-08-15</td>\n",
       "      <td>730</td>\n",
       "      <td>B</td>\n",
       "    </tr>\n",
       "    <tr>\n",
       "      <th>2</th>\n",
       "      <td>2961555356</td>\n",
       "      <td>4069496402</td>\n",
       "      <td>2019-08-15</td>\n",
       "      <td>400</td>\n",
       "      <td>A</td>\n",
       "    </tr>\n",
       "    <tr>\n",
       "      <th>3</th>\n",
       "      <td>3797467345</td>\n",
       "      <td>1196621759</td>\n",
       "      <td>2019-08-15</td>\n",
       "      <td>9759</td>\n",
       "      <td>B</td>\n",
       "    </tr>\n",
       "    <tr>\n",
       "      <th>4</th>\n",
       "      <td>2282983706</td>\n",
       "      <td>2322279887</td>\n",
       "      <td>2019-08-15</td>\n",
       "      <td>2308</td>\n",
       "      <td>B</td>\n",
       "    </tr>\n",
       "  </tbody>\n",
       "</table>\n",
       "</div>"
      ],
      "text/plain": [
       "   transactionId   visitorId       date  revenue group\n",
       "0     3667963787  3312258926 2019-08-15     1650     B\n",
       "1     2804400009  3642806036 2019-08-15      730     B\n",
       "2     2961555356  4069496402 2019-08-15      400     A\n",
       "3     3797467345  1196621759 2019-08-15     9759     B\n",
       "4     2282983706  2322279887 2019-08-15     2308     B"
      ]
     },
     "execution_count": 9,
     "metadata": {},
     "output_type": "execute_result"
    }
   ],
   "source": [
    "orders.head()"
   ]
  },
  {
   "cell_type": "code",
   "execution_count": 10,
   "metadata": {},
   "outputs": [
    {
     "data": {
      "text/html": [
       "<div>\n",
       "<style scoped>\n",
       "    .dataframe tbody tr th:only-of-type {\n",
       "        vertical-align: middle;\n",
       "    }\n",
       "\n",
       "    .dataframe tbody tr th {\n",
       "        vertical-align: top;\n",
       "    }\n",
       "\n",
       "    .dataframe thead th {\n",
       "        text-align: right;\n",
       "    }\n",
       "</style>\n",
       "<table border=\"1\" class=\"dataframe\">\n",
       "  <thead>\n",
       "    <tr style=\"text-align: right;\">\n",
       "      <th></th>\n",
       "      <th>date</th>\n",
       "      <th>group</th>\n",
       "      <th>visitors</th>\n",
       "    </tr>\n",
       "  </thead>\n",
       "  <tbody>\n",
       "    <tr>\n",
       "      <th>0</th>\n",
       "      <td>2019-08-01</td>\n",
       "      <td>A</td>\n",
       "      <td>719</td>\n",
       "    </tr>\n",
       "    <tr>\n",
       "      <th>1</th>\n",
       "      <td>2019-08-02</td>\n",
       "      <td>A</td>\n",
       "      <td>619</td>\n",
       "    </tr>\n",
       "    <tr>\n",
       "      <th>2</th>\n",
       "      <td>2019-08-03</td>\n",
       "      <td>A</td>\n",
       "      <td>507</td>\n",
       "    </tr>\n",
       "    <tr>\n",
       "      <th>3</th>\n",
       "      <td>2019-08-04</td>\n",
       "      <td>A</td>\n",
       "      <td>717</td>\n",
       "    </tr>\n",
       "    <tr>\n",
       "      <th>4</th>\n",
       "      <td>2019-08-05</td>\n",
       "      <td>A</td>\n",
       "      <td>756</td>\n",
       "    </tr>\n",
       "  </tbody>\n",
       "</table>\n",
       "</div>"
      ],
      "text/plain": [
       "        date group  visitors\n",
       "0 2019-08-01     A       719\n",
       "1 2019-08-02     A       619\n",
       "2 2019-08-03     A       507\n",
       "3 2019-08-04     A       717\n",
       "4 2019-08-05     A       756"
      ]
     },
     "execution_count": 10,
     "metadata": {},
     "output_type": "execute_result"
    }
   ],
   "source": [
    "visitors.head()"
   ]
  },
  {
   "cell_type": "code",
   "execution_count": 11,
   "metadata": {},
   "outputs": [
    {
     "name": "stdout",
     "output_type": "stream",
     "text": [
      "transactionId    0\n",
      "visitorId        0\n",
      "date             0\n",
      "revenue          0\n",
      "group            0\n",
      "dtype: int64\n",
      "date        0\n",
      "group       0\n",
      "visitors    0\n",
      "dtype: int64\n"
     ]
    }
   ],
   "source": [
    "# проверим наличие пропусков\n",
    "print(orders.isna().sum())\n",
    "print(visitors.isna().sum())"
   ]
  },
  {
   "cell_type": "code",
   "execution_count": 12,
   "metadata": {},
   "outputs": [
    {
     "name": "stdout",
     "output_type": "stream",
     "text": [
      "0\n",
      "0\n"
     ]
    }
   ],
   "source": [
    "# проверим наличие дубликатов\n",
    "print(orders.duplicated().sum())\n",
    "print(visitors.duplicated().sum())"
   ]
  },
  {
   "cell_type": "code",
   "execution_count": 13,
   "metadata": {},
   "outputs": [
    {
     "data": {
      "text/plain": [
       "array(['B', 'A'], dtype=object)"
      ]
     },
     "execution_count": 13,
     "metadata": {},
     "output_type": "execute_result"
    }
   ],
   "source": [
    "# посмотрим сколько групп в тесте\n",
    "orders.group.unique()"
   ]
  },
  {
   "cell_type": "code",
   "execution_count": 14,
   "metadata": {},
   "outputs": [
    {
     "name": "stdout",
     "output_type": "stream",
     "text": [
      "2019-08-01 00:00:00\n",
      "2019-08-31 00:00:00\n"
     ]
    }
   ],
   "source": [
    "# посмотрим также на даты начала и окончания теста\n",
    "print(orders.date.min())\n",
    "print(orders.date.max())"
   ]
  },
  {
   "cell_type": "code",
   "execution_count": 15,
   "metadata": {},
   "outputs": [
    {
     "name": "stdout",
     "output_type": "stream",
     "text": [
      "503\n",
      "586\n"
     ]
    }
   ],
   "source": [
    "# также посмотрим на количество человек в каждой группе\n",
    "print(orders.query('group == \"A\"')['visitorId'].nunique())\n",
    "print(orders.query('group == \"B\"')['visitorId'].nunique())"
   ]
  },
  {
   "cell_type": "code",
   "execution_count": 16,
   "metadata": {
    "scrolled": true
   },
   "outputs": [
    {
     "data": {
      "text/html": [
       "<div>\n",
       "<style scoped>\n",
       "    .dataframe tbody tr th:only-of-type {\n",
       "        vertical-align: middle;\n",
       "    }\n",
       "\n",
       "    .dataframe tbody tr th {\n",
       "        vertical-align: top;\n",
       "    }\n",
       "\n",
       "    .dataframe thead th {\n",
       "        text-align: right;\n",
       "    }\n",
       "</style>\n",
       "<table border=\"1\" class=\"dataframe\">\n",
       "  <thead>\n",
       "    <tr style=\"text-align: right;\">\n",
       "      <th></th>\n",
       "      <th>visitorId</th>\n",
       "      <th>group</th>\n",
       "    </tr>\n",
       "  </thead>\n",
       "  <tbody>\n",
       "    <tr>\n",
       "      <th>0</th>\n",
       "      <td>5114589</td>\n",
       "      <td>1</td>\n",
       "    </tr>\n",
       "    <tr>\n",
       "      <th>1</th>\n",
       "      <td>6958315</td>\n",
       "      <td>1</td>\n",
       "    </tr>\n",
       "    <tr>\n",
       "      <th>2</th>\n",
       "      <td>8300375</td>\n",
       "      <td>2</td>\n",
       "    </tr>\n",
       "    <tr>\n",
       "      <th>3</th>\n",
       "      <td>11685486</td>\n",
       "      <td>1</td>\n",
       "    </tr>\n",
       "    <tr>\n",
       "      <th>4</th>\n",
       "      <td>39475350</td>\n",
       "      <td>1</td>\n",
       "    </tr>\n",
       "  </tbody>\n",
       "</table>\n",
       "</div>"
      ],
      "text/plain": [
       "   visitorId  group\n",
       "0    5114589      1\n",
       "1    6958315      1\n",
       "2    8300375      2\n",
       "3   11685486      1\n",
       "4   39475350      1"
      ]
     },
     "execution_count": 16,
     "metadata": {},
     "output_type": "execute_result"
    }
   ],
   "source": [
    "# посмотрим есть ли посетители попавшие в обе группы\n",
    "visitor_group = orders.groupby('visitorId', as_index=False).agg({'group': 'nunique'})\n",
    "visitor_group.head()"
   ]
  },
  {
   "cell_type": "markdown",
   "metadata": {},
   "source": [
    "Выделим таких пользователей в отдельный список, чтобы отфильтровать исходные данные. Такие пользователи будут искажать результаты теста, поэтому мы не может использовать информацию по ним"
   ]
  },
  {
   "cell_type": "code",
   "execution_count": 17,
   "metadata": {},
   "outputs": [
    {
     "data": {
      "text/plain": [
       "(1016, 5)"
      ]
     },
     "execution_count": 17,
     "metadata": {},
     "output_type": "execute_result"
    }
   ],
   "source": [
    "dup_orders = visitor_group.query('group > 1')\n",
    "orders = orders.query('visitorId not in @dup_orders.visitorId')\n",
    "orders.shape"
   ]
  },
  {
   "cell_type": "markdown",
   "metadata": {},
   "source": [
    "Соберем кумулятивные данные, чтобы построить и изучить графики кумулятивных значений."
   ]
  },
  {
   "cell_type": "code",
   "execution_count": 18,
   "metadata": {},
   "outputs": [
    {
     "data": {
      "text/html": [
       "<div>\n",
       "<style scoped>\n",
       "    .dataframe tbody tr th:only-of-type {\n",
       "        vertical-align: middle;\n",
       "    }\n",
       "\n",
       "    .dataframe tbody tr th {\n",
       "        vertical-align: top;\n",
       "    }\n",
       "\n",
       "    .dataframe thead th {\n",
       "        text-align: right;\n",
       "    }\n",
       "</style>\n",
       "<table border=\"1\" class=\"dataframe\">\n",
       "  <thead>\n",
       "    <tr style=\"text-align: right;\">\n",
       "      <th></th>\n",
       "      <th>date</th>\n",
       "      <th>group</th>\n",
       "      <th>orders</th>\n",
       "      <th>buyers</th>\n",
       "      <th>revenue</th>\n",
       "      <th>visitors</th>\n",
       "    </tr>\n",
       "  </thead>\n",
       "  <tbody>\n",
       "    <tr>\n",
       "      <th>0</th>\n",
       "      <td>2019-08-01</td>\n",
       "      <td>A</td>\n",
       "      <td>23</td>\n",
       "      <td>19</td>\n",
       "      <td>142779</td>\n",
       "      <td>719</td>\n",
       "    </tr>\n",
       "    <tr>\n",
       "      <th>1</th>\n",
       "      <td>2019-08-01</td>\n",
       "      <td>B</td>\n",
       "      <td>17</td>\n",
       "      <td>17</td>\n",
       "      <td>59758</td>\n",
       "      <td>713</td>\n",
       "    </tr>\n",
       "    <tr>\n",
       "      <th>2</th>\n",
       "      <td>2019-08-02</td>\n",
       "      <td>A</td>\n",
       "      <td>42</td>\n",
       "      <td>36</td>\n",
       "      <td>234381</td>\n",
       "      <td>1338</td>\n",
       "    </tr>\n",
       "    <tr>\n",
       "      <th>3</th>\n",
       "      <td>2019-08-02</td>\n",
       "      <td>B</td>\n",
       "      <td>40</td>\n",
       "      <td>39</td>\n",
       "      <td>221801</td>\n",
       "      <td>1294</td>\n",
       "    </tr>\n",
       "    <tr>\n",
       "      <th>4</th>\n",
       "      <td>2019-08-03</td>\n",
       "      <td>A</td>\n",
       "      <td>66</td>\n",
       "      <td>60</td>\n",
       "      <td>346854</td>\n",
       "      <td>1845</td>\n",
       "    </tr>\n",
       "  </tbody>\n",
       "</table>\n",
       "</div>"
      ],
      "text/plain": [
       "        date group  orders  buyers  revenue  visitors\n",
       "0 2019-08-01     A      23      19   142779       719\n",
       "1 2019-08-01     B      17      17    59758       713\n",
       "2 2019-08-02     A      42      36   234381      1338\n",
       "3 2019-08-02     B      40      39   221801      1294\n",
       "4 2019-08-03     A      66      60   346854      1845"
      ]
     },
     "execution_count": 18,
     "metadata": {},
     "output_type": "execute_result"
    }
   ],
   "source": [
    "# создадим массив уникальных пар значений дат и групп теста\n",
    "datesGroups = orders[['date','group']].drop_duplicates()\n",
    "\n",
    "# получаем агрегированные кумулятивные по дням данные о заказах \n",
    "ordersAggregated = datesGroups.apply(lambda x: orders[np.logical_and(orders['date'] <= x['date'], orders['group'] == x['group'])] \\\n",
    "                              .agg({'date' : 'max', 'group' : 'max', 'transactionId' : 'nunique', 'visitorId' : 'nunique', 'revenue' : 'sum'}), axis=1) \\\n",
    "                              .sort_values(by=['date','group'])\n",
    "\n",
    "# получаем агрегированные кумулятивные по дням данные о посетителях интернет-магазина \n",
    "visitorsAggregated = datesGroups.apply(lambda x: visitors[np.logical_and(visitors['date'] <= x['date'], visitors['group'] == x['group'])] \\\n",
    "                                .agg({'date' : 'max', 'group' : 'max', 'visitors' : 'sum'}), axis=1) \\\n",
    "                                .sort_values(by=['date','group'])\n",
    "\n",
    "# объединяем кумулятивные данные в одной таблице\n",
    "cumulativeData = ordersAggregated.merge(visitorsAggregated, left_on=['date', 'group'], right_on=['date', 'group'])\n",
    "cumulativeData.columns = ['date', 'group', 'orders', 'buyers', 'revenue', 'visitors']\n",
    "\n",
    "cumulativeData.head(5)"
   ]
  },
  {
   "cell_type": "markdown",
   "metadata": {},
   "source": [
    "Чтобы посмотреть на графики куммулятивной выручки и куммулятивного среднего чека, создадим датафреймы с кумулятивным количеством заказов и кумулятивной выручкой по дням по каждой группе"
   ]
  },
  {
   "cell_type": "code",
   "execution_count": 19,
   "metadata": {},
   "outputs": [],
   "source": [
    "cumulativeRevenueA = cumulativeData[cumulativeData['group']=='A'][['date','revenue', 'orders']]\n",
    "cumulativeRevenueB = cumulativeData[cumulativeData['group']=='B'][['date','revenue', 'orders']]"
   ]
  },
  {
   "cell_type": "markdown",
   "metadata": {},
   "source": [
    "1. Построим график **кумулятивной выручки** по дням и группам A/B-тестирования."
   ]
  },
  {
   "cell_type": "code",
   "execution_count": 20,
   "metadata": {},
   "outputs": [
    {
     "data": {
      "image/png": "[encoded data removed]",
      "text/plain": [
       "<Figure size 792x360 with 1 Axes>"
      ]
     },
     "metadata": {
      "needs_background": "light"
     },
     "output_type": "display_data"
    }
   ],
   "source": [
    "plt.figure(figsize=(11, 5))\n",
    "plt.plot(cumulativeRevenueA['date'], cumulativeRevenueA['revenue'], label='A')\n",
    "plt.plot(cumulativeRevenueB['date'], cumulativeRevenueB['revenue'], label='B')\n",
    "\n",
    "plt.legend()\n",
    "plt.title('Кумулятивная выручка')\n",
    "plt.xlabel(\"Date\")\n",
    "plt.ylabel(\"Revenue\");"
   ]
  },
  {
   "cell_type": "markdown",
   "metadata": {},
   "source": [
    "Динамика увеличения выручки в целом положительная, что хорошо.\n",
    "Однако на графике видим, что в группе В был резкий рост в районе 18 августа. Это может сигнализировать о всплеске числа заказов, но также и о появлении очень дорогих заказов в выборке (выбросы)."
   ]
  },
  {
   "cell_type": "markdown",
   "metadata": {},
   "source": [
    "2. Построим также график **кумулятивного среднего чека** по дням и группам A/B-тестирования (разделим выручку на число заказов)."
   ]
  },
  {
   "cell_type": "code",
   "execution_count": 21,
   "metadata": {},
   "outputs": [
    {
     "data": {
      "image/png": "[encoded data removed]",
      "text/plain": [
       "<Figure size 792x360 with 1 Axes>"
      ]
     },
     "metadata": {
      "needs_background": "light"
     },
     "output_type": "display_data"
    }
   ],
   "source": [
    "plt.figure(figsize=(11, 5))\n",
    "plt.plot(cumulativeRevenueA['date'], cumulativeRevenueA['revenue'] / cumulativeRevenueA['orders'], label='A')\n",
    "plt.plot(cumulativeRevenueB['date'], cumulativeRevenueB['revenue'] / cumulativeRevenueB['orders'], label='B')\n",
    "\n",
    "plt.legend() \n",
    "plt.title('Кумулятивный средний чек')\n",
    "plt.xlabel(\"Date\")\n",
    "plt.ylabel(\"Average_check\");"
   ]
  },
  {
   "cell_type": "markdown",
   "metadata": {},
   "source": [
    "Средний чек становится равномерным ближе к концу теста. При этом тут мы также видим резкий скачок в группе В. Возможно, в группу B попали крупные дорогие заказы."
   ]
  },
  {
   "cell_type": "markdown",
   "metadata": {},
   "source": [
    "3. Теперь построим график **относительного изменения кумулятивного среднего чека** группы B к группе A."
   ]
  },
  {
   "cell_type": "code",
   "execution_count": 22,
   "metadata": {},
   "outputs": [
    {
     "data": {
      "image/png": "[encoded data removed]",
      "text/plain": [
       "<Figure size 792x360 with 1 Axes>"
      ]
     },
     "metadata": {
      "needs_background": "light"
     },
     "output_type": "display_data"
    }
   ],
   "source": [
    "plt.figure(figsize=(11, 5))\n",
    "\n",
    "# собираем данные в одном датафрейме\n",
    "mergedCumulativeRevenue = cumulativeRevenueA.merge(cumulativeRevenueB, left_on='date', right_on='date', how='left', suffixes=['A', 'B'])\n",
    "\n",
    "# cтроим отношение средних чеков\n",
    "plt.plot(mergedCumulativeRevenue['date'], (mergedCumulativeRevenue['revenueB']/mergedCumulativeRevenue['ordersB'])/(mergedCumulativeRevenue['revenueA']/mergedCumulativeRevenue['ordersA'])-1)\n",
    "\n",
    "# добавляем ось X\n",
    "plt.axhline(y=0, color='black', linestyle='--')\n",
    "plt.title('Относительное изменение кумулятивного среднего чека группы B к группе A')\n",
    "plt.ylabel(\"Difference\")\n",
    "plt.xlabel(\"Date\");"
   ]
  },
  {
   "cell_type": "markdown",
   "metadata": {},
   "source": [
    "В начале группа В проигрывала, однако вырвалась вперед ближе к концу теста. Но возможно выбросы также оказали влияние, так как видим, что в нескольких точках график различия между сегментами резко «скачет».\n",
    "\n",
    "В целом сейчас делать какие-либо выводы по тесту еще нельзя. Сперва стоит проанализировать аномалии, возможно, они изменят картину."
   ]
  },
  {
   "cell_type": "markdown",
   "metadata": {},
   "source": [
    "4. Посмотрим на график **кумулятивного среднего количества заказов на посетителя** по группам (отношение числа заказов к количеству посетителей)."
   ]
  },
  {
   "cell_type": "code",
   "execution_count": 23,
   "metadata": {},
   "outputs": [
    {
     "data": {
      "image/png": "[encoded data removed]",
      "text/plain": [
       "<Figure size 792x360 with 1 Axes>"
      ]
     },
     "metadata": {
      "needs_background": "light"
     },
     "output_type": "display_data"
    }
   ],
   "source": [
    "plt.figure(figsize=(11, 5)) \n",
    "\n",
    "# добавим нужную колонку к общим кумулятивным данным\n",
    "cumulativeData['avg_orders'] = cumulativeData['orders']/cumulativeData['visitors']\n",
    "\n",
    "# снова выделим данные в соответствие с группами\n",
    "cumulativeDataA = cumulativeData[cumulativeData['group']=='A']\n",
    "cumulativeDataB = cumulativeData[cumulativeData['group']=='B']\n",
    "\n",
    "# построим графики\n",
    "plt.plot(cumulativeDataA['date'], cumulativeDataA['avg_orders'], label='A')\n",
    "plt.plot(cumulativeDataB['date'], cumulativeDataB['avg_orders'], label='B')\n",
    "\n",
    "plt.legend()\n",
    "plt.title('Кумулятивное среднее количество заказов на посетителя')\n",
    "plt.xlabel(\"Date\")\n",
    "plt.ylabel(\"Mean orders per visitors\");"
   ]
  },
  {
   "cell_type": "markdown",
   "metadata": {},
   "source": [
    "В начале теста в группе А показатель среднего количетсва заказов был выше, однако почти сразу вперед вышла группа В. На данный момент есть незначительные колебания значений, но в целом они зафиксировались около определенной величины. У группы А до сих пор наблюдается небольшое снижение показателя."
   ]
  },
  {
   "cell_type": "markdown",
   "metadata": {},
   "source": [
    "5. Построим график **относительного изменения кумулятивного среднего количества заказов** на посетителя группы B к группе A."
   ]
  },
  {
   "cell_type": "code",
   "execution_count": 24,
   "metadata": {},
   "outputs": [
    {
     "data": {
      "image/png": "[encoded data removed]",
      "text/plain": [
       "<Figure size 792x360 with 1 Axes>"
      ]
     },
     "metadata": {
      "needs_background": "light"
     },
     "output_type": "display_data"
    }
   ],
   "source": [
    "plt.figure(figsize=(11, 5))\n",
    "\n",
    "# объединим данные кумулятивного среднего количества заказов в группах\n",
    "mergedCumulativeConversions = cumulativeDataA[['date','avg_orders']].merge(cumulativeDataB[['date','avg_orders']], left_on='date', right_on='date', how='left', suffixes=['A', 'B'])\n",
    "\n",
    "# построим график\n",
    "plt.plot(mergedCumulativeConversions['date'], mergedCumulativeConversions['avg_ordersB']/mergedCumulativeConversions['avg_ordersA']-1)\n",
    "plt.title('Относительное изменение кумулятивного среднего количества заказов группы B относительно группы A');\n",
    "\n",
    "plt.axhline(y=0, color='black', linestyle='--')\n",
    "plt.axhline(y=0.15, color='grey', linestyle='--')\n",
    "plt.xlabel(\"Date\")\n",
    "plt.ylabel(\"Difference\");"
   ]
  },
  {
   "cell_type": "markdown",
   "metadata": {},
   "source": [
    "Группа В лидирует по среднему количеству заказов практически с самого начала теста. На данный момент показатель колеблется в районе 15%, но незначительно."
   ]
  },
  {
   "cell_type": "markdown",
   "metadata": {},
   "source": [
    "Теперь проанализируем выбросы (крайние значения в данных).\n",
    "\n",
    "6. Построим **точечный график количества заказов** по пользователям."
   ]
  },
  {
   "cell_type": "code",
   "execution_count": 25,
   "metadata": {},
   "outputs": [
    {
     "data": {
      "image/png": "[encoded data removed]",
      "text/plain": [
       "<Figure size 792x360 with 1 Axes>"
      ]
     },
     "metadata": {
      "needs_background": "light"
     },
     "output_type": "display_data"
    }
   ],
   "source": [
    "# Подсчитаем количество заказов по пользователям\n",
    "plt.figure(figsize=(11, 5))\n",
    "ordersByUsers = (orders.groupby('visitorId', as_index=False) \\\n",
    "                       .agg({'transactionId': 'nunique'}))\n",
    "\n",
    "ordersByUsers.columns = ['userId', 'orders']\n",
    "\n",
    "# Построим точечную диаграмму числа заказов на одного пользователя\n",
    "\n",
    "x_values = pd.Series(range(0,len(ordersByUsers)))\n",
    "plt.scatter(x_values, ordersByUsers['orders'])\n",
    "plt.title('Numbers of orders per buyer')\n",
    "plt.xlabel(\"Observations\")\n",
    "plt.ylabel(\"Orders\");"
   ]
  },
  {
   "cell_type": "markdown",
   "metadata": {},
   "source": [
    "Видим, что большинство людей делает оп одному заказу, но есть также те, кто делает по 2 и 3 заказа. Но точная их доля не ясна, чтобы счесть их выбросами. Чтобы это узнать, посчитаем выборочные перцентили.\n",
    "\n",
    "7. Посчитаем **95-й и 99-й перцентили количества заказов** на пользователя."
   ]
  },
  {
   "cell_type": "code",
   "execution_count": 26,
   "metadata": {},
   "outputs": [
    {
     "data": {
      "text/plain": [
       "array([1., 2.])"
      ]
     },
     "execution_count": 26,
     "metadata": {},
     "output_type": "execute_result"
    }
   ],
   "source": [
    "np.percentile(ordersByUsers['orders'], [95, 99])"
   ]
  },
  {
   "cell_type": "markdown",
   "metadata": {},
   "source": [
    "Не более 5% пользователей оформляли больше чем 1 заказ. И 1% пользователей заказывали более двух раз. \n",
    "Так как принято отсеивать от 1% до 5% наблюдений с крайними значениями, разумно будет выбрать 2 заказа на одного пользователя за верхнюю границу числа заказов, и отсеять аномальных пользователей по ней."
   ]
  },
  {
   "cell_type": "markdown",
   "metadata": {},
   "source": [
    "8. Построим также **точечный график стоимостей заказов**."
   ]
  },
  {
   "cell_type": "code",
   "execution_count": 27,
   "metadata": {},
   "outputs": [
    {
     "data": {
      "image/png": "[encoded data removed]",
      "text/plain": [
       "<Figure size 792x360 with 1 Axes>"
      ]
     },
     "metadata": {
      "needs_background": "light"
     },
     "output_type": "display_data"
    }
   ],
   "source": [
    "# Построим точечную диаграмму стоимости заказов\n",
    "plt.figure(figsize=(11, 5))\n",
    "x_values = pd.Series(range(0,len(orders['revenue'])))\n",
    "plt.scatter(x_values, orders['revenue'])\n",
    "plt.title('Cost of orders per buyer')\n",
    "plt.xlabel(\"Observations\")\n",
    "plt.ylabel(\"Revenue\");"
   ]
  },
  {
   "cell_type": "markdown",
   "metadata": {},
   "source": [
    "На графике четко видим выбросы (очень дорогие заказы). Чтобы точнее определить их долю, посчитаем выборочные перцентили.\n",
    "\n",
    "9. Посчитаем **95-й и 99-й перцентили стоимости заказов**."
   ]
  },
  {
   "cell_type": "code",
   "execution_count": 28,
   "metadata": {},
   "outputs": [
    {
     "data": {
      "text/plain": [
       "array([26785., 53904.])"
      ]
     },
     "execution_count": 28,
     "metadata": {},
     "output_type": "execute_result"
    }
   ],
   "source": [
    "np.percentile(orders['revenue'], [95, 99])"
   ]
  },
  {
   "cell_type": "markdown",
   "metadata": {},
   "source": [
    "Не более 5% заказов дороже 26 785 рублей и не более 1% дороже 53 904 рубля. В данном случае можем определить границу в 26 785 рублей, чтобы отсеить самые сильные выбросы."
   ]
  },
  {
   "cell_type": "markdown",
   "metadata": {},
   "source": [
    "10. Посчитаем **статистическую значимость различий в среднем количестве заказов** на посетителя между группами по **«сырым»** данным (без удаления аномальных пользователей). Для этого будем использовать U-критерий Манна-Уитни, так как он подходит для оценки различий между двумя независимыми выборками, а также для оценки количественных признаков. \n",
    "\n",
    "Сформулируем гипотезы: \n",
    "\n",
    "- H0: различий в среднем количестве заказов между на посетителя группами нет\n",
    "- H1: различия в среднем количестве заказов между на посетителя группами есть"
   ]
  },
  {
   "cell_type": "markdown",
   "metadata": {},
   "source": [
    "Создадим переменные ordersByUsersA и ordersByUsersB. В них для пользователей, которые заказывали хотя бы 1 раз, укажем число совершённых заказов."
   ]
  },
  {
   "cell_type": "code",
   "execution_count": 29,
   "metadata": {},
   "outputs": [],
   "source": [
    "ordersByUsersA = (orders[orders['group'] == 'A'].groupby('visitorId', as_index=False) \\\n",
    "                                                .agg({'transactionId': pd.Series.nunique}))\n",
    "ordersByUsersA.columns = ['userId', 'orders']\n",
    "\n",
    "ordersByUsersB = (orders[orders['group'] == 'B'].groupby('visitorId', as_index=False) \\\n",
    "                                                .agg({'transactionId': pd.Series.nunique}))\n",
    "ordersByUsersB.columns = ['userId', 'orders']"
   ]
  },
  {
   "cell_type": "markdown",
   "metadata": {},
   "source": [
    "Объявим переменные sampleA и sampleB, в которых каждый элемент — число заказов определённого пользователя, в том числе ноль (число элементов sampleA — это количество пользователей, сумма всех элементов — количество заказов)."
   ]
  },
  {
   "cell_type": "code",
   "execution_count": 30,
   "metadata": {},
   "outputs": [],
   "source": [
    "sampleA = pd.concat([ordersByUsersA['orders'],pd.Series(0, index=np.arange(visitors[visitors['group'] == 'A']['visitors'].sum() - len(ordersByUsersA['orders'])), name='orders')],axis=0)\n",
    "\n",
    "sampleB = pd.concat([ordersByUsersB['orders'],pd.Series(0, index=np.arange(visitors[visitors['group'] == 'B']['visitors'].sum() - len(ordersByUsersB['orders'])), name='orders')],axis=0) "
   ]
  },
  {
   "cell_type": "markdown",
   "metadata": {},
   "source": [
    "Применим критерий и отформатируем p-value.\n",
    "Также выведем относительный прирост среднего числа заказов на посетителя группы B: среднее число заказов на посетителя группы B / среднее число заказов на посетителя группы A - 1."
   ]
  },
  {
   "cell_type": "code",
   "execution_count": 31,
   "metadata": {},
   "outputs": [
    {
     "name": "stdout",
     "output_type": "stream",
     "text": [
      "P-value: 0.011\n",
      "Относительное различие: 0.160\n"
     ]
    }
   ],
   "source": [
    "print(\"P-value: {0:.3f}\".format(st.mannwhitneyu(sampleA, sampleB)[1]))\n",
    "\n",
    "print(\"Относительное различие: {0:.3f}\".format(sampleB.mean() / sampleA.mean() - 1))"
   ]
  },
  {
   "cell_type": "markdown",
   "metadata": {},
   "source": [
    "По «сырым» данным видим, что статистически значимые различия в среднем количестве заказов на посетителя групп A и B есть. \n",
    "\n",
    "p-value = 0.011 (первое значение) меньше 0.05. Значит, нулевую гипотезу о том, что статистически значимых различий в среднем числе заказов на посетителя между группами нет, отвергаем. Относительный выигрыш группы B равен 16% (второе значение 0.160)."
   ]
  },
  {
   "cell_type": "markdown",
   "metadata": {},
   "source": [
    "11. Посчитаем **статистическую значимость различий в среднем чеке заказа** между группами по **«сырым»** данным.\n",
    "\n",
    "Сформулируем гипотезы: \n",
    "\n",
    "- H0: различий в среднем чеке между группами нет\n",
    "- H1: различия в среднем чеке между группами есть"
   ]
  },
  {
   "cell_type": "code",
   "execution_count": 32,
   "metadata": {},
   "outputs": [
    {
     "name": "stdout",
     "output_type": "stream",
     "text": [
      "P-value: 0.829\n",
      "Относительное различие: 0.287\n"
     ]
    }
   ],
   "source": [
    "# применим критерий и найдём относительные различия в среднем чеке между группами\n",
    "\n",
    "print('P-value: {0:.3f}'.format(st.mannwhitneyu(orders[orders['group']=='A']['revenue'], orders[orders['group']=='B']['revenue'])[1]))\n",
    "print('Относительное различие: {0:.3f}'.format(orders[orders['group']=='B']['revenue'].mean()/orders[orders['group']=='A']['revenue'].mean()-1))"
   ]
  },
  {
   "cell_type": "markdown",
   "metadata": {},
   "source": [
    "P-value (первое значение) значительно больше 0.05. Значит, причин отвергать нулевую гипотезу и считать, что в среднем чеке есть различия, нет. \n",
    "\n",
    "При этом средний чек группы B значительно выше среднего чека группы A (второе значение)."
   ]
  },
  {
   "cell_type": "markdown",
   "metadata": {},
   "source": [
    " "
   ]
  },
  {
   "cell_type": "markdown",
   "metadata": {},
   "source": [
    "Ранее в анализе мы обнаружили выбросы в данных. Найденные 95-й и 99-й перцентили средних чеков равны 26 785 и 53 904 рубля. А 95-й и 99-й перцентили количества заказов на одного пользователя равны 1 и 2 заказа на пользователя.\n",
    "\n",
    "Примем за аномальных пользователей тех, кто совершил от 2 заказов или совершил заказ дороже 26 785 рублей. Так мы уберём от 1% до 5% пользователей с дорогими заказами и большим количеством заказов. "
   ]
  },
  {
   "cell_type": "code",
   "execution_count": 33,
   "metadata": {
    "tags": []
   },
   "outputs": [
    {
     "name": "stdout",
     "output_type": "stream",
     "text": [
      "58\n",
      "5.96\n"
     ]
    }
   ],
   "source": [
    "# Сделаем срез пользователей с числом заказов больше 2 — usersWithManyOrders\n",
    "\n",
    "usersWithManyOrders = pd.concat([ordersByUsersA[ordersByUsersA['orders'] > np.percentile(ordersByUsersA['orders'], 99)]['userId'], \\\n",
    "                                 ordersByUsersB[ordersByUsersB['orders'] > np.percentile(ordersByUsersA['orders'], 99)]['userId']],axis=0)\n",
    "\n",
    "# Сделаем срез пользователей, совершивших заказы дороже 26 785 — usersWithExpensiveOrders\n",
    "\n",
    "usersWithExpensiveOrders = orders[orders['revenue'] > np.percentile(orders['revenue'], 95)]['visitorId']\n",
    "\n",
    "# Объединим их в таблице abnormalUsers и посмотрим, сколько их всего\n",
    "\n",
    "abnormalUsers = (pd.concat([usersWithManyOrders, usersWithExpensiveOrders], axis=0).drop_duplicates().sort_values())\n",
    "print(abnormalUsers.shape[0])\n",
    "# посмотрим также на аномальных пользователей в относительном выражении (%).\n",
    "\n",
    "print(round((len(abnormalUsers)/ orders.visitorId.nunique() * 100), 2))"
   ]
  },
  {
   "cell_type": "markdown",
   "metadata": {},
   "source": [
    "Видим, что таких пользователей всего 58. Узнаем, как их действия повлияли на результаты теста."
   ]
  },
  {
   "cell_type": "markdown",
   "metadata": {},
   "source": [
    "12. Посчитаем **статистическую значимость различий в среднем количестве заказов** на посетителя между группами по **«очищенным»** данным.\n",
    "\n",
    "Сначала подготовим \"очищенные\" выборки количества заказов по пользователям по группам теста."
   ]
  },
  {
   "cell_type": "code",
   "execution_count": 34,
   "metadata": {},
   "outputs": [],
   "source": [
    "sampleAFiltered = pd.concat([ordersByUsersA[np.logical_not(ordersByUsersA['userId']\n",
    "                                           .isin(abnormalUsers))]['orders'],pd.Series(0,index=np.arange(visitors[visitors['group'] == 'A']['visitors'].sum() - len(ordersByUsersA['orders'])),name='orders')],axis=0)\n",
    "\n",
    "sampleBFiltered = pd.concat([ordersByUsersB[np.logical_not(ordersByUsersB['userId']\n",
    "                                           .isin(abnormalUsers))]['orders'],pd.Series(0,index=np.arange(visitors[visitors['group'] == 'B']['visitors'].sum() - len(ordersByUsersB['orders'])),name='orders')],axis=0) "
   ]
  },
  {
   "cell_type": "code",
   "execution_count": 35,
   "metadata": {},
   "outputs": [
    {
     "name": "stdout",
     "output_type": "stream",
     "text": [
      "P-value: 0.012\n",
      "Относительное различие: 0.182\n"
     ]
    }
   ],
   "source": [
    "# Применим критерий \n",
    "\n",
    "print('P-value: {0:.3f}'.format(st.mannwhitneyu(sampleAFiltered, sampleBFiltered)[1]))\n",
    "print('Относительное различие: {0:.3f}'.format(sampleBFiltered.mean()/sampleAFiltered.mean()-1))"
   ]
  },
  {
   "cell_type": "markdown",
   "metadata": {},
   "source": [
    "По «очищенным» данным видим, что результаты по среднему количеству заказов на пользователя практически не изменились. Статистически значимые различия в среднем количестве заказов на пользователя групп A и B есть. \n",
    "\n",
    "p-value = 0.012 (первое значение) меньше 0.05. Значит, нулевую гипотезу о том, что статистически значимых различий в среднем числе заказов на пользователя между группами нет, отвергаем. Относительный выигрыш (второе значение) группы B равен 18.2% (увеличился)."
   ]
  },
  {
   "cell_type": "markdown",
   "metadata": {},
   "source": [
    "Теперь посчитаем **статистическую значимость различий в среднем чеке** заказа между группами по **«очищенным»** данным."
   ]
  },
  {
   "cell_type": "code",
   "execution_count": 36,
   "metadata": {},
   "outputs": [
    {
     "name": "stdout",
     "output_type": "stream",
     "text": [
      "P-value: 0.646\n",
      "Относительное различие: -0.048\n"
     ]
    }
   ],
   "source": [
    "print(\n",
    "    'P-value: {0:.3f}'.format(\n",
    "        st.mannwhitneyu(\n",
    "            orders[\n",
    "                np.logical_and(\n",
    "                    orders['group'] == 'A',\n",
    "                    np.logical_not(orders['visitorId'].isin(abnormalUsers)),\n",
    "                )\n",
    "            ]['revenue'],\n",
    "            orders[\n",
    "                np.logical_and(\n",
    "                    orders['group'] == 'B',\n",
    "                    np.logical_not(orders['visitorId'].isin(abnormalUsers)),\n",
    "                )\n",
    "            ]['revenue'],\n",
    "        )[1]\n",
    "    )\n",
    ")\n",
    "\n",
    "print(\n",
    "    \"Относительное различие: {0:.3f}\".format(\n",
    "        orders[\n",
    "            np.logical_and(\n",
    "                orders['group'] == 'B',\n",
    "                np.logical_not(orders['visitorId'].isin(abnormalUsers)),\n",
    "            )\n",
    "        ]['revenue'].mean()\n",
    "        / orders[\n",
    "            np.logical_and(\n",
    "                orders['group'] == 'A',\n",
    "                np.logical_not(orders['visitorId'].isin(abnormalUsers)),\n",
    "            )\n",
    "        ]['revenue'].mean()\n",
    "        - 1\n",
    "    )\n",
    ") "
   ]
  },
  {
   "cell_type": "markdown",
   "metadata": {},
   "source": [
    "P-value (первое значение) уменьшился, но всё еще значительно больше 0.05. Причин отвергать нулевую гипотезу и считать, что в среднем чеке есть различия, нет.\n",
    "\n",
    "Однако изменилась разница между сегментами. Теперь средний чек группы B меньше среднего чека группы A на 4.8% (второе значение)."
   ]
  },
  {
   "cell_type": "markdown",
   "metadata": {},
   "source": [
    "### 6. Вывод \n",
    "\n",
    "- Тест показал, что различия в среднем количестве заказов на пользователя групп А и В статистически значимы (как по \"сырым\", так и по \"очищенным\" данным): группа В выигрывает примерно на 18%\n",
    "- При этом статистически значимого различия по среднему чеку между группами ни по «сырым», ни по данным после фильтрации аномалий нет\n",
    "- График различия среднего количества заказов на пользователя между группами сообщает, что группа В лидирует по среднему количесвту заказов практически с самого начала теста. На данный момент показатель колеблется в районе 15%, но незначительно.\n",
    "- График различия среднего чека также показывает, что несмотря на то, что группа В проигрывала в начале, далее вырвалась вперед. Но при этом видим, что в нескольких точках график различия между сегментами резко «скачет», при том, что были обнаружены выбросы.\n",
    "\n",
    "На основании полученных данных рекомендуется остановить тест и зафиксировать победу группы В, как минимум в увеличении среднего количества заказов на пользователя."
   ]
  }
 ],
 "metadata": {
  "ExecuteTimeLog": [
   {
    "duration": 69,
    "start_time": "2023-03-30T13:38:01.896Z"
   },
   {
    "duration": 38,
    "start_time": "2023-03-30T13:38:35.183Z"
   },
   {
    "duration": 4,
    "start_time": "2023-03-30T13:38:35.444Z"
   },
   {
    "duration": 3,
    "start_time": "2023-03-30T13:38:35.568Z"
   },
   {
    "duration": 7,
    "start_time": "2023-03-30T13:38:35.701Z"
   },
   {
    "duration": 4,
    "start_time": "2023-03-30T13:38:35.868Z"
   },
   {
    "duration": 3,
    "start_time": "2023-03-30T13:38:36.258Z"
   },
   {
    "duration": 6,
    "start_time": "2023-03-30T13:38:36.515Z"
   },
   {
    "duration": 3,
    "start_time": "2023-03-30T13:38:36.677Z"
   },
   {
    "duration": 3,
    "start_time": "2023-03-30T13:38:36.813Z"
   },
   {
    "duration": 4,
    "start_time": "2023-03-30T13:38:37.113Z"
   },
   {
    "duration": 3,
    "start_time": "2023-03-30T13:38:37.277Z"
   },
   {
    "duration": 3,
    "start_time": "2023-03-30T13:38:37.443Z"
   },
   {
    "duration": 4,
    "start_time": "2023-03-30T13:38:37.576Z"
   },
   {
    "duration": 5,
    "start_time": "2023-03-30T13:38:37.702Z"
   },
   {
    "duration": 4,
    "start_time": "2023-03-30T13:38:38.307Z"
   },
   {
    "duration": 3,
    "start_time": "2023-03-30T13:38:38.448Z"
   },
   {
    "duration": 6,
    "start_time": "2023-03-30T13:38:38.610Z"
   },
   {
    "duration": 3,
    "start_time": "2023-03-30T13:38:38.718Z"
   },
   {
    "duration": 4,
    "start_time": "2023-03-30T13:38:38.958Z"
   },
   {
    "duration": 5,
    "start_time": "2023-03-30T13:38:39.156Z"
   },
   {
    "duration": 2,
    "start_time": "2023-03-30T13:38:39.274Z"
   },
   {
    "duration": 153,
    "start_time": "2023-03-30T22:14:17.837Z"
   },
   {
    "duration": 41,
    "start_time": "2023-03-30T22:14:21.378Z"
   },
   {
    "duration": 1276,
    "start_time": "2023-03-30T22:14:29.019Z"
   },
   {
    "duration": 96,
    "start_time": "2023-03-30T22:14:34.542Z"
   },
   {
    "duration": 15,
    "start_time": "2023-03-30T22:14:38.345Z"
   },
   {
    "duration": 12,
    "start_time": "2023-03-30T22:18:28.805Z"
   },
   {
    "duration": 170,
    "start_time": "2023-03-30T22:27:42.113Z"
   },
   {
    "duration": 12,
    "start_time": "2023-03-30T22:27:42.644Z"
   },
   {
    "duration": 13,
    "start_time": "2023-03-30T22:27:43.101Z"
   },
   {
    "duration": 22,
    "start_time": "2023-03-30T22:27:44.998Z"
   },
   {
    "duration": 12,
    "start_time": "2023-03-30T22:27:45.885Z"
   },
   {
    "duration": 13,
    "start_time": "2023-03-30T22:27:47.279Z"
   },
   {
    "duration": 64,
    "start_time": "2023-03-30T22:29:55.974Z"
   },
   {
    "duration": 7,
    "start_time": "2023-03-30T22:30:04.339Z"
   },
   {
    "duration": 7,
    "start_time": "2023-03-30T22:30:12.702Z"
   },
   {
    "duration": 10,
    "start_time": "2023-03-30T22:30:35.877Z"
   },
   {
    "duration": 10,
    "start_time": "2023-03-30T22:30:41.093Z"
   },
   {
    "duration": 7,
    "start_time": "2023-03-30T22:30:47.483Z"
   },
   {
    "duration": 6,
    "start_time": "2023-03-30T22:30:55.788Z"
   },
   {
    "duration": 3,
    "start_time": "2023-03-30T22:31:32.545Z"
   },
   {
    "duration": 5,
    "start_time": "2023-03-30T22:32:02.421Z"
   },
   {
    "duration": 5,
    "start_time": "2023-03-30T22:32:55.985Z"
   },
   {
    "duration": 10,
    "start_time": "2023-03-30T22:33:13.758Z"
   },
   {
    "duration": 10,
    "start_time": "2023-03-30T22:33:36.090Z"
   },
   {
    "duration": 5,
    "start_time": "2023-03-30T22:34:04.526Z"
   },
   {
    "duration": 5,
    "start_time": "2023-03-30T22:34:20.782Z"
   },
   {
    "duration": 11,
    "start_time": "2023-03-30T22:34:30.531Z"
   },
   {
    "duration": 9,
    "start_time": "2023-03-30T22:34:59.369Z"
   },
   {
    "duration": 7,
    "start_time": "2023-03-30T22:35:35.555Z"
   },
   {
    "duration": 42,
    "start_time": "2023-03-30T22:37:34.697Z"
   },
   {
    "duration": 26,
    "start_time": "2023-03-30T22:37:48.053Z"
   },
   {
    "duration": 10,
    "start_time": "2023-03-30T22:38:27.423Z"
   },
   {
    "duration": 9,
    "start_time": "2023-03-30T22:38:58.263Z"
   },
   {
    "duration": 10,
    "start_time": "2023-03-30T22:39:02.413Z"
   },
   {
    "duration": 8,
    "start_time": "2023-03-30T22:40:41.198Z"
   },
   {
    "duration": 11,
    "start_time": "2023-03-30T22:49:50.375Z"
   },
   {
    "duration": 305,
    "start_time": "2023-03-30T22:50:00.286Z"
   },
   {
    "duration": 19,
    "start_time": "2023-03-30T22:50:02.731Z"
   },
   {
    "duration": 314,
    "start_time": "2023-03-30T22:50:05.583Z"
   },
   {
    "duration": 211,
    "start_time": "2023-03-30T22:50:12.065Z"
   },
   {
    "duration": 205,
    "start_time": "2023-03-30T22:50:34.155Z"
   },
   {
    "duration": 206,
    "start_time": "2023-03-30T22:52:53.797Z"
   },
   {
    "duration": 331,
    "start_time": "2023-03-30T22:54:20.437Z"
   },
   {
    "duration": 281,
    "start_time": "2023-03-30T22:54:34.592Z"
   },
   {
    "duration": 237,
    "start_time": "2023-03-30T22:56:47.242Z"
   },
   {
    "duration": 256,
    "start_time": "2023-03-30T22:59:51.357Z"
   },
   {
    "duration": 199,
    "start_time": "2023-03-30T23:04:09.566Z"
   },
   {
    "duration": 146,
    "start_time": "2023-03-30T23:04:35.036Z"
   },
   {
    "duration": 174,
    "start_time": "2023-03-30T23:05:05.866Z"
   },
   {
    "duration": 7,
    "start_time": "2023-03-30T23:08:31.527Z"
   },
   {
    "duration": 151,
    "start_time": "2023-03-30T23:24:20.376Z"
   },
   {
    "duration": 111,
    "start_time": "2023-03-30T23:28:22.204Z"
   },
   {
    "duration": 143,
    "start_time": "2023-03-30T23:30:22.520Z"
   },
   {
    "duration": 7,
    "start_time": "2023-03-30T23:30:25.898Z"
   },
   {
    "duration": 22,
    "start_time": "2023-03-30T23:30:29.010Z"
   },
   {
    "duration": 13,
    "start_time": "2023-03-30T23:32:46.917Z"
   },
   {
    "duration": 93,
    "start_time": "2023-03-30T23:33:15.399Z"
   },
   {
    "duration": 10,
    "start_time": "2023-03-30T23:33:21.348Z"
   },
   {
    "duration": 11,
    "start_time": "2023-03-30T23:39:12.881Z"
   },
   {
    "duration": 103,
    "start_time": "2023-03-30T23:40:01.352Z"
   },
   {
    "duration": 9,
    "start_time": "2023-03-30T23:40:23.505Z"
   },
   {
    "duration": 8,
    "start_time": "2023-03-30T23:42:41.190Z"
   },
   {
    "duration": 11,
    "start_time": "2023-03-30T23:43:21.981Z"
   },
   {
    "duration": 10,
    "start_time": "2023-03-30T23:43:47.610Z"
   },
   {
    "duration": 12,
    "start_time": "2023-03-30T23:50:12.276Z"
   },
   {
    "duration": 5,
    "start_time": "2023-03-30T23:51:49.967Z"
   },
   {
    "duration": 4,
    "start_time": "2023-03-30T23:52:11.662Z"
   },
   {
    "duration": 4,
    "start_time": "2023-03-30T23:52:53.152Z"
   },
   {
    "duration": 6,
    "start_time": "2023-03-30T23:52:57.201Z"
   },
   {
    "duration": 9,
    "start_time": "2023-03-30T23:53:14.044Z"
   },
   {
    "duration": 6,
    "start_time": "2023-03-30T23:53:42.883Z"
   },
   {
    "duration": 5,
    "start_time": "2023-03-30T23:53:58.131Z"
   },
   {
    "duration": 5,
    "start_time": "2023-03-30T23:54:04.235Z"
   },
   {
    "duration": 5,
    "start_time": "2023-03-30T23:54:16.323Z"
   },
   {
    "duration": 5,
    "start_time": "2023-03-30T23:54:31.697Z"
   },
   {
    "duration": 9,
    "start_time": "2023-03-30T23:54:36.597Z"
   },
   {
    "duration": 22,
    "start_time": "2023-03-30T23:54:38.290Z"
   },
   {
    "duration": 17,
    "start_time": "2023-03-30T23:56:14.724Z"
   },
   {
    "duration": 3,
    "start_time": "2023-03-31T18:50:09.254Z"
   },
   {
    "duration": 1312,
    "start_time": "2023-03-31T18:57:36.826Z"
   },
   {
    "duration": 107,
    "start_time": "2023-03-31T18:57:38.140Z"
   },
   {
    "duration": 13,
    "start_time": "2023-03-31T18:57:38.248Z"
   },
   {
    "duration": 12,
    "start_time": "2023-03-31T18:57:38.264Z"
   },
   {
    "duration": 195,
    "start_time": "2023-03-31T18:57:38.278Z"
   },
   {
    "duration": 21,
    "start_time": "2023-03-31T18:57:38.475Z"
   },
   {
    "duration": 37,
    "start_time": "2023-03-31T18:57:38.498Z"
   },
   {
    "duration": 15,
    "start_time": "2023-03-31T18:57:38.538Z"
   },
   {
    "duration": 14,
    "start_time": "2023-03-31T18:57:38.555Z"
   },
   {
    "duration": 20,
    "start_time": "2023-03-31T18:57:38.573Z"
   },
   {
    "duration": 36,
    "start_time": "2023-03-31T18:57:38.598Z"
   },
   {
    "duration": 8,
    "start_time": "2023-03-31T18:57:38.636Z"
   },
   {
    "duration": 5,
    "start_time": "2023-03-31T18:57:38.646Z"
   },
   {
    "duration": 10,
    "start_time": "2023-03-31T18:57:38.653Z"
   },
   {
    "duration": 12,
    "start_time": "2023-03-31T18:57:38.665Z"
   },
   {
    "duration": 16,
    "start_time": "2023-03-31T18:57:38.679Z"
   },
   {
    "duration": 36,
    "start_time": "2023-03-31T18:57:38.697Z"
   },
   {
    "duration": 378,
    "start_time": "2023-03-31T18:57:38.734Z"
   },
   {
    "duration": 11,
    "start_time": "2023-03-31T18:57:39.115Z"
   },
   {
    "duration": 399,
    "start_time": "2023-03-31T18:57:39.129Z"
   },
   {
    "duration": 301,
    "start_time": "2023-03-31T18:57:39.533Z"
   },
   {
    "duration": 314,
    "start_time": "2023-03-31T18:57:39.835Z"
   },
   {
    "duration": 295,
    "start_time": "2023-03-31T18:57:40.154Z"
   },
   {
    "duration": 359,
    "start_time": "2023-03-31T18:57:40.452Z"
   },
   {
    "duration": 250,
    "start_time": "2023-03-31T18:57:40.813Z"
   },
   {
    "duration": 7,
    "start_time": "2023-03-31T18:57:41.065Z"
   },
   {
    "duration": 245,
    "start_time": "2023-03-31T18:57:41.074Z"
   },
   {
    "duration": 9,
    "start_time": "2023-03-31T18:57:41.324Z"
   },
   {
    "duration": 132,
    "start_time": "2023-03-31T18:57:41.335Z"
   },
   {
    "duration": 187,
    "start_time": "2023-03-31T18:57:41.469Z"
   },
   {
    "duration": 8,
    "start_time": "2023-03-31T18:57:41.658Z"
   },
   {
    "duration": 80,
    "start_time": "2023-03-31T18:57:41.668Z"
   },
   {
    "duration": 11,
    "start_time": "2023-03-31T18:57:41.750Z"
   },
   {
    "duration": 32,
    "start_time": "2023-03-31T18:57:41.763Z"
   },
   {
    "duration": 55,
    "start_time": "2023-03-31T18:57:41.797Z"
   },
   {
    "duration": 32,
    "start_time": "2023-03-31T18:57:41.854Z"
   },
   {
    "duration": 50,
    "start_time": "2023-03-31T18:57:41.891Z"
   },
   {
    "duration": 51,
    "start_time": "2023-03-31T18:57:41.943Z"
   },
   {
    "duration": 41,
    "start_time": "2023-03-31T18:57:41.996Z"
   },
   {
    "duration": 1225,
    "start_time": "2023-03-31T18:58:05.050Z"
   },
   {
    "duration": 42,
    "start_time": "2023-03-31T18:58:06.277Z"
   },
   {
    "duration": 14,
    "start_time": "2023-03-31T18:58:06.320Z"
   },
   {
    "duration": 12,
    "start_time": "2023-03-31T18:58:06.335Z"
   },
   {
    "duration": 69,
    "start_time": "2023-03-31T18:58:06.350Z"
   },
   {
    "duration": 15,
    "start_time": "2023-03-31T18:58:06.420Z"
   },
   {
    "duration": 13,
    "start_time": "2023-03-31T18:58:06.437Z"
   },
   {
    "duration": 19,
    "start_time": "2023-03-31T18:58:06.452Z"
   },
   {
    "duration": 11,
    "start_time": "2023-03-31T18:58:06.473Z"
   },
   {
    "duration": 26,
    "start_time": "2023-03-31T18:58:06.488Z"
   },
   {
    "duration": 15,
    "start_time": "2023-03-31T18:58:06.516Z"
   },
   {
    "duration": 11,
    "start_time": "2023-03-31T18:58:06.533Z"
   },
   {
    "duration": 11,
    "start_time": "2023-03-31T18:58:06.546Z"
   },
   {
    "duration": 6,
    "start_time": "2023-03-31T18:58:06.560Z"
   },
   {
    "duration": 28,
    "start_time": "2023-03-31T18:58:06.568Z"
   },
   {
    "duration": 25,
    "start_time": "2023-03-31T18:58:06.599Z"
   },
   {
    "duration": 9,
    "start_time": "2023-03-31T18:58:06.626Z"
   },
   {
    "duration": 327,
    "start_time": "2023-03-31T18:58:06.637Z"
   },
   {
    "duration": 6,
    "start_time": "2023-03-31T18:58:06.967Z"
   },
   {
    "duration": 332,
    "start_time": "2023-03-31T18:58:06.976Z"
   },
   {
    "duration": 229,
    "start_time": "2023-03-31T18:58:07.311Z"
   },
   {
    "duration": 316,
    "start_time": "2023-03-31T18:58:07.542Z"
   },
   {
    "duration": 273,
    "start_time": "2023-03-31T18:58:07.860Z"
   },
   {
    "duration": 349,
    "start_time": "2023-03-31T18:58:08.135Z"
   },
   {
    "duration": 158,
    "start_time": "2023-03-31T18:58:08.487Z"
   },
   {
    "duration": 5,
    "start_time": "2023-03-31T18:58:08.647Z"
   },
   {
    "duration": 167,
    "start_time": "2023-03-31T18:58:08.653Z"
   },
   {
    "duration": 5,
    "start_time": "2023-03-31T18:58:08.823Z"
   },
   {
    "duration": 131,
    "start_time": "2023-03-31T18:58:08.829Z"
   },
   {
    "duration": 163,
    "start_time": "2023-03-31T18:58:08.961Z"
   },
   {
    "duration": 7,
    "start_time": "2023-03-31T18:58:09.125Z"
   },
   {
    "duration": 56,
    "start_time": "2023-03-31T18:58:09.134Z"
   },
   {
    "duration": 24,
    "start_time": "2023-03-31T18:58:09.193Z"
   },
   {
    "duration": 12,
    "start_time": "2023-03-31T18:58:09.219Z"
   },
   {
    "duration": 5,
    "start_time": "2023-03-31T18:58:09.233Z"
   },
   {
    "duration": 12,
    "start_time": "2023-03-31T18:58:09.240Z"
   },
   {
    "duration": 14,
    "start_time": "2023-03-31T18:58:09.254Z"
   },
   {
    "duration": 55,
    "start_time": "2023-03-31T18:58:09.271Z"
   },
   {
    "duration": 20,
    "start_time": "2023-03-31T18:58:09.328Z"
   },
   {
    "duration": 64,
    "start_time": "2023-03-31T20:23:42.461Z"
   },
   {
    "duration": 1263,
    "start_time": "2023-03-31T20:24:17.594Z"
   },
   {
    "duration": 142,
    "start_time": "2023-03-31T20:24:18.859Z"
   },
   {
    "duration": 12,
    "start_time": "2023-03-31T20:24:19.003Z"
   },
   {
    "duration": 22,
    "start_time": "2023-03-31T20:24:19.016Z"
   },
   {
    "duration": 213,
    "start_time": "2023-03-31T20:24:19.040Z"
   },
   {
    "duration": 12,
    "start_time": "2023-03-31T20:24:19.255Z"
   },
   {
    "duration": 43,
    "start_time": "2023-03-31T20:24:19.269Z"
   },
   {
    "duration": 15,
    "start_time": "2023-03-31T20:24:19.313Z"
   },
   {
    "duration": 10,
    "start_time": "2023-03-31T20:24:19.330Z"
   },
   {
    "duration": 9,
    "start_time": "2023-03-31T20:24:19.341Z"
   },
   {
    "duration": 41,
    "start_time": "2023-03-31T20:24:19.352Z"
   },
   {
    "duration": 9,
    "start_time": "2023-03-31T20:24:19.398Z"
   },
   {
    "duration": 8,
    "start_time": "2023-03-31T20:24:19.408Z"
   },
   {
    "duration": 7,
    "start_time": "2023-03-31T20:24:19.419Z"
   },
   {
    "duration": 11,
    "start_time": "2023-03-31T20:24:19.427Z"
   },
   {
    "duration": 11,
    "start_time": "2023-03-31T20:24:19.439Z"
   },
   {
    "duration": 7,
    "start_time": "2023-03-31T20:24:19.451Z"
   },
   {
    "duration": 320,
    "start_time": "2023-03-31T20:24:19.460Z"
   },
   {
    "duration": 6,
    "start_time": "2023-03-31T20:24:19.781Z"
   },
   {
    "duration": 315,
    "start_time": "2023-03-31T20:24:19.789Z"
   },
   {
    "duration": 205,
    "start_time": "2023-03-31T20:24:20.106Z"
   },
   {
    "duration": 317,
    "start_time": "2023-03-31T20:24:20.313Z"
   },
   {
    "duration": 208,
    "start_time": "2023-03-31T20:24:20.632Z"
   },
   {
    "duration": 385,
    "start_time": "2023-03-31T20:24:20.842Z"
   },
   {
    "duration": 135,
    "start_time": "2023-03-31T20:24:21.229Z"
   },
   {
    "duration": 19,
    "start_time": "2023-03-31T20:24:21.366Z"
   },
   {
    "duration": 148,
    "start_time": "2023-03-31T20:24:21.393Z"
   },
   {
    "duration": 5,
    "start_time": "2023-03-31T20:24:21.543Z"
   },
   {
    "duration": 116,
    "start_time": "2023-03-31T20:24:21.550Z"
   },
   {
    "duration": 134,
    "start_time": "2023-03-31T20:24:21.667Z"
   },
   {
    "duration": 10,
    "start_time": "2023-03-31T20:24:21.806Z"
   },
   {
    "duration": 26,
    "start_time": "2023-03-31T20:24:21.817Z"
   },
   {
    "duration": 11,
    "start_time": "2023-03-31T20:24:21.844Z"
   },
   {
    "duration": 25,
    "start_time": "2023-03-31T20:24:21.856Z"
   },
   {
    "duration": 7,
    "start_time": "2023-03-31T20:24:21.882Z"
   },
   {
    "duration": 20,
    "start_time": "2023-03-31T20:24:21.890Z"
   },
   {
    "duration": 9,
    "start_time": "2023-03-31T20:24:21.912Z"
   },
   {
    "duration": 23,
    "start_time": "2023-03-31T20:24:21.922Z"
   },
   {
    "duration": 14,
    "start_time": "2023-03-31T20:24:21.947Z"
   },
   {
    "duration": 3,
    "start_time": "2023-03-31T20:24:35.633Z"
   },
   {
    "duration": 94,
    "start_time": "2023-03-31T20:24:35.639Z"
   },
   {
    "duration": 14,
    "start_time": "2023-03-31T20:24:35.735Z"
   },
   {
    "duration": 38,
    "start_time": "2023-03-31T20:24:35.751Z"
   },
   {
    "duration": 113,
    "start_time": "2023-03-31T20:24:35.791Z"
   },
   {
    "duration": 12,
    "start_time": "2023-03-31T20:24:35.905Z"
   },
   {
    "duration": 96,
    "start_time": "2023-03-31T20:24:35.918Z"
   },
   {
    "duration": 21,
    "start_time": "2023-03-31T20:24:36.015Z"
   },
   {
    "duration": 26,
    "start_time": "2023-03-31T20:24:36.037Z"
   },
   {
    "duration": 44,
    "start_time": "2023-03-31T20:24:36.064Z"
   },
   {
    "duration": 8,
    "start_time": "2023-03-31T20:24:36.110Z"
   },
   {
    "duration": 16,
    "start_time": "2023-03-31T20:24:36.119Z"
   },
   {
    "duration": 5,
    "start_time": "2023-03-31T20:24:36.136Z"
   },
   {
    "duration": 10,
    "start_time": "2023-03-31T20:24:36.142Z"
   },
   {
    "duration": 27,
    "start_time": "2023-03-31T20:24:36.154Z"
   },
   {
    "duration": 11,
    "start_time": "2023-03-31T20:24:36.182Z"
   },
   {
    "duration": 18,
    "start_time": "2023-03-31T20:24:36.195Z"
   },
   {
    "duration": 294,
    "start_time": "2023-03-31T20:24:36.215Z"
   },
   {
    "duration": 6,
    "start_time": "2023-03-31T20:24:36.511Z"
   },
   {
    "duration": 268,
    "start_time": "2023-03-31T20:24:36.518Z"
   },
   {
    "duration": 234,
    "start_time": "2023-03-31T20:24:36.788Z"
   },
   {
    "duration": 308,
    "start_time": "2023-03-31T20:24:37.023Z"
   },
   {
    "duration": 217,
    "start_time": "2023-03-31T20:24:37.333Z"
   },
   {
    "duration": 286,
    "start_time": "2023-03-31T20:24:37.551Z"
   },
   {
    "duration": 169,
    "start_time": "2023-03-31T20:24:37.838Z"
   },
   {
    "duration": 6,
    "start_time": "2023-03-31T20:24:38.009Z"
   },
   {
    "duration": 131,
    "start_time": "2023-03-31T20:24:38.016Z"
   },
   {
    "duration": 4,
    "start_time": "2023-03-31T20:24:38.149Z"
   },
   {
    "duration": 104,
    "start_time": "2023-03-31T20:24:38.156Z"
   },
   {
    "duration": 155,
    "start_time": "2023-03-31T20:24:38.262Z"
   },
   {
    "duration": 6,
    "start_time": "2023-03-31T20:24:38.418Z"
   },
   {
    "duration": 25,
    "start_time": "2023-03-31T20:24:38.425Z"
   },
   {
    "duration": 9,
    "start_time": "2023-03-31T20:24:38.451Z"
   },
   {
    "duration": 31,
    "start_time": "2023-03-31T20:24:38.462Z"
   },
   {
    "duration": 8,
    "start_time": "2023-03-31T20:24:38.498Z"
   },
   {
    "duration": 7,
    "start_time": "2023-03-31T20:24:38.508Z"
   },
   {
    "duration": 8,
    "start_time": "2023-03-31T20:24:38.516Z"
   },
   {
    "duration": 22,
    "start_time": "2023-03-31T20:24:38.525Z"
   },
   {
    "duration": 13,
    "start_time": "2023-03-31T20:24:38.548Z"
   },
   {
    "duration": 4,
    "start_time": "2023-03-31T20:27:39.647Z"
   },
   {
    "duration": 22,
    "start_time": "2023-03-31T20:29:48.388Z"
   },
   {
    "duration": 9,
    "start_time": "2023-03-31T20:32:27.114Z"
   },
   {
    "duration": 142,
    "start_time": "2023-03-31T20:33:45.140Z"
   },
   {
    "duration": 10,
    "start_time": "2023-03-31T20:33:48.120Z"
   },
   {
    "duration": 22,
    "start_time": "2023-03-31T20:37:12.704Z"
   },
   {
    "duration": 30,
    "start_time": "2023-03-31T20:40:50.872Z"
   },
   {
    "duration": 20,
    "start_time": "2023-03-31T20:40:55.939Z"
   },
   {
    "duration": 9,
    "start_time": "2023-03-31T20:42:02.294Z"
   },
   {
    "duration": 30,
    "start_time": "2023-03-31T20:42:46.063Z"
   },
   {
    "duration": 13,
    "start_time": "2023-03-31T20:43:19.860Z"
   },
   {
    "duration": 13,
    "start_time": "2023-03-31T20:54:41.598Z"
   },
   {
    "duration": 1790,
    "start_time": "2023-03-31T20:55:17.530Z"
   },
   {
    "duration": 12,
    "start_time": "2023-03-31T20:55:31.139Z"
   },
   {
    "duration": 15,
    "start_time": "2023-03-31T20:56:23.890Z"
   },
   {
    "duration": 20,
    "start_time": "2023-03-31T20:57:05.686Z"
   },
   {
    "duration": 13,
    "start_time": "2023-03-31T20:57:14.947Z"
   },
   {
    "duration": 1050,
    "start_time": "2023-04-01T16:06:41.229Z"
   },
   {
    "duration": 37,
    "start_time": "2023-04-01T16:06:42.280Z"
   },
   {
    "duration": 11,
    "start_time": "2023-04-01T16:06:42.319Z"
   },
   {
    "duration": 42,
    "start_time": "2023-04-01T16:06:42.332Z"
   },
   {
    "duration": 86,
    "start_time": "2023-04-01T16:06:42.375Z"
   },
   {
    "duration": 11,
    "start_time": "2023-04-01T16:06:42.462Z"
   },
   {
    "duration": 26,
    "start_time": "2023-04-01T16:06:42.475Z"
   },
   {
    "duration": 25,
    "start_time": "2023-04-01T16:06:42.503Z"
   },
   {
    "duration": 22,
    "start_time": "2023-04-01T16:06:42.530Z"
   },
   {
    "duration": 13,
    "start_time": "2023-04-01T16:06:42.555Z"
   },
   {
    "duration": 37,
    "start_time": "2023-04-01T16:06:42.569Z"
   },
   {
    "duration": 43,
    "start_time": "2023-04-01T16:06:42.608Z"
   },
   {
    "duration": 19,
    "start_time": "2023-04-01T16:06:42.653Z"
   },
   {
    "duration": 45,
    "start_time": "2023-04-01T16:06:42.673Z"
   },
   {
    "duration": 56,
    "start_time": "2023-04-01T16:06:42.719Z"
   },
   {
    "duration": 26,
    "start_time": "2023-04-01T16:06:42.777Z"
   },
   {
    "duration": 50,
    "start_time": "2023-04-01T16:06:42.804Z"
   },
   {
    "duration": 291,
    "start_time": "2023-04-01T16:06:42.856Z"
   },
   {
    "duration": 6,
    "start_time": "2023-04-01T16:06:43.149Z"
   },
   {
    "duration": 285,
    "start_time": "2023-04-01T16:06:43.157Z"
   },
   {
    "duration": 189,
    "start_time": "2023-04-01T16:06:43.443Z"
   },
   {
    "duration": 308,
    "start_time": "2023-04-01T16:06:43.634Z"
   },
   {
    "duration": 212,
    "start_time": "2023-04-01T16:06:43.943Z"
   },
   {
    "duration": 315,
    "start_time": "2023-04-01T16:06:44.157Z"
   },
   {
    "duration": 145,
    "start_time": "2023-04-01T16:06:44.474Z"
   },
   {
    "duration": 5,
    "start_time": "2023-04-01T16:06:44.620Z"
   },
   {
    "duration": 151,
    "start_time": "2023-04-01T16:06:44.634Z"
   },
   {
    "duration": 6,
    "start_time": "2023-04-01T16:06:44.790Z"
   },
   {
    "duration": 215,
    "start_time": "2023-04-01T16:06:44.799Z"
   },
   {
    "duration": 8,
    "start_time": "2023-04-01T16:06:45.017Z"
   },
   {
    "duration": 57,
    "start_time": "2023-04-01T16:06:45.038Z"
   },
   {
    "duration": 10,
    "start_time": "2023-04-01T16:06:45.096Z"
   },
   {
    "duration": 10,
    "start_time": "2023-04-01T16:06:45.107Z"
   },
   {
    "duration": 15,
    "start_time": "2023-04-01T16:06:45.118Z"
   },
   {
    "duration": 41,
    "start_time": "2023-04-01T16:06:45.139Z"
   },
   {
    "duration": 20,
    "start_time": "2023-04-01T16:06:45.182Z"
   },
   {
    "duration": 1159,
    "start_time": "2023-04-01T16:07:24.543Z"
   },
   {
    "duration": 37,
    "start_time": "2023-04-01T16:07:25.704Z"
   },
   {
    "duration": 16,
    "start_time": "2023-04-01T16:07:25.743Z"
   },
   {
    "duration": 27,
    "start_time": "2023-04-01T16:07:25.760Z"
   },
   {
    "duration": 69,
    "start_time": "2023-04-01T16:07:25.790Z"
   },
   {
    "duration": 11,
    "start_time": "2023-04-01T16:07:25.860Z"
   },
   {
    "duration": 33,
    "start_time": "2023-04-01T16:07:25.872Z"
   },
   {
    "duration": 15,
    "start_time": "2023-04-01T16:07:25.906Z"
   },
   {
    "duration": 23,
    "start_time": "2023-04-01T16:07:25.922Z"
   },
   {
    "duration": 22,
    "start_time": "2023-04-01T16:07:25.947Z"
   },
   {
    "duration": 15,
    "start_time": "2023-04-01T16:07:25.971Z"
   },
   {
    "duration": 23,
    "start_time": "2023-04-01T16:07:25.987Z"
   },
   {
    "duration": 26,
    "start_time": "2023-04-01T16:07:26.011Z"
   },
   {
    "duration": 22,
    "start_time": "2023-04-01T16:07:26.041Z"
   },
   {
    "duration": 17,
    "start_time": "2023-04-01T16:07:26.065Z"
   },
   {
    "duration": 15,
    "start_time": "2023-04-01T16:07:26.084Z"
   },
   {
    "duration": 8,
    "start_time": "2023-04-01T16:07:26.101Z"
   },
   {
    "duration": 286,
    "start_time": "2023-04-01T16:07:26.110Z"
   },
   {
    "duration": 6,
    "start_time": "2023-04-01T16:07:26.397Z"
   },
   {
    "duration": 269,
    "start_time": "2023-04-01T16:07:26.404Z"
   },
   {
    "duration": 199,
    "start_time": "2023-04-01T16:07:26.675Z"
   },
   {
    "duration": 273,
    "start_time": "2023-04-01T16:07:26.876Z"
   },
   {
    "duration": 217,
    "start_time": "2023-04-01T16:07:27.150Z"
   },
   {
    "duration": 299,
    "start_time": "2023-04-01T16:07:27.369Z"
   },
   {
    "duration": 159,
    "start_time": "2023-04-01T16:07:27.669Z"
   },
   {
    "duration": 7,
    "start_time": "2023-04-01T16:07:27.829Z"
   },
   {
    "duration": 150,
    "start_time": "2023-04-01T16:07:27.838Z"
   },
   {
    "duration": 6,
    "start_time": "2023-04-01T16:07:27.990Z"
   },
   {
    "duration": 140,
    "start_time": "2023-04-01T16:07:27.998Z"
   },
   {
    "duration": 9,
    "start_time": "2023-04-01T16:07:28.142Z"
   },
   {
    "duration": 50,
    "start_time": "2023-04-01T16:07:28.154Z"
   },
   {
    "duration": 9,
    "start_time": "2023-04-01T16:07:28.206Z"
   },
   {
    "duration": 16,
    "start_time": "2023-04-01T16:07:28.217Z"
   },
   {
    "duration": 30,
    "start_time": "2023-04-01T16:07:28.234Z"
   },
   {
    "duration": 34,
    "start_time": "2023-04-01T16:07:28.265Z"
   },
   {
    "duration": 15,
    "start_time": "2023-04-01T16:07:28.301Z"
   }
  ],
  "kernelspec": {
   "display_name": "Python 3 (ipykernel)",
   "language": "python",
   "name": "python3"
  },
  "language_info": {
   "codemirror_mode": {
    "name": "ipython",
    "version": 3
   },
   "file_extension": ".py",
   "mimetype": "text/x-python",
   "name": "python",
   "nbconvert_exporter": "python",
   "pygments_lexer": "ipython3",
   "version": "3.9.12"
  },
  "toc": {
   "base_numbering": 1,
   "nav_menu": {},
   "number_sections": true,
   "sideBar": true,
   "skip_h1_title": true,
   "title_cell": "Table of Contents",
   "title_sidebar": "Contents",
   "toc_cell": false,
   "toc_position": {},
   "toc_section_display": true,
   "toc_window_display": true
  }
 },
 "nbformat": 4,
 "nbformat_minor": 4
}

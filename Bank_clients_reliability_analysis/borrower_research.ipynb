{
 "cells": [
  {
   "cell_type": "markdown",
   "id": "fb3d30b4",
   "metadata": {
    "deletable": false,
    "editable": false,
    "id": "c81daeeb"
   },
   "source": [
    "# Исследование надежности заемщиков\n"
   ]
  },
  {
   "cell_type": "markdown",
   "id": "36b1cb76-9f1c-4868-8bca-11f374749772",
   "metadata": {},
   "source": [
    "**Цель:** на основе статистики о платёжеспособности клиентов исследовать, какие факторы влияют на факт возврата кредита в срок.\n",
    "\n",
    "**План работы:**\n",
    " - изучить данные \n",
    " - провести исследовательский анализ данных, понять, как различные факторы влияют на возврат кредита в срок"
   ]
  },
  {
   "cell_type": "markdown",
   "id": "f9ed410d",
   "metadata": {
    "tags": []
   },
   "source": [
    "Посмотрим на данные."
   ]
  },
  {
   "cell_type": "code",
   "execution_count": 2,
   "id": "edab0e52",
   "metadata": {
    "deletable": false,
    "id": "2a7cab99",
    "outputId": "1a8f3ef2-d323-4ec2-ddf7-89670b5944c4"
   },
   "outputs": [
    {
     "data": {
      "text/html": [
       "<div>\n",
       "<style scoped>\n",
       "    .dataframe tbody tr th:only-of-type {\n",
       "        vertical-align: middle;\n",
       "    }\n",
       "\n",
       "    .dataframe tbody tr th {\n",
       "        vertical-align: top;\n",
       "    }\n",
       "\n",
       "    .dataframe thead th {\n",
       "        text-align: right;\n",
       "    }\n",
       "</style>\n",
       "<table border=\"1\" class=\"dataframe\">\n",
       "  <thead>\n",
       "    <tr style=\"text-align: right;\">\n",
       "      <th></th>\n",
       "      <th>children</th>\n",
       "      <th>days_employed</th>\n",
       "      <th>dob_years</th>\n",
       "      <th>education</th>\n",
       "      <th>education_id</th>\n",
       "      <th>family_status</th>\n",
       "      <th>family_status_id</th>\n",
       "      <th>gender</th>\n",
       "      <th>income_type</th>\n",
       "      <th>debt</th>\n",
       "      <th>total_income</th>\n",
       "      <th>purpose</th>\n",
       "    </tr>\n",
       "  </thead>\n",
       "  <tbody>\n",
       "    <tr>\n",
       "      <th>0</th>\n",
       "      <td>1</td>\n",
       "      <td>-8437.673028</td>\n",
       "      <td>42</td>\n",
       "      <td>высшее</td>\n",
       "      <td>0</td>\n",
       "      <td>женат / замужем</td>\n",
       "      <td>0</td>\n",
       "      <td>F</td>\n",
       "      <td>сотрудник</td>\n",
       "      <td>0</td>\n",
       "      <td>253875.639453</td>\n",
       "      <td>покупка жилья</td>\n",
       "    </tr>\n",
       "    <tr>\n",
       "      <th>1</th>\n",
       "      <td>1</td>\n",
       "      <td>-4024.803754</td>\n",
       "      <td>36</td>\n",
       "      <td>среднее</td>\n",
       "      <td>1</td>\n",
       "      <td>женат / замужем</td>\n",
       "      <td>0</td>\n",
       "      <td>F</td>\n",
       "      <td>сотрудник</td>\n",
       "      <td>0</td>\n",
       "      <td>112080.014102</td>\n",
       "      <td>приобретение автомобиля</td>\n",
       "    </tr>\n",
       "    <tr>\n",
       "      <th>2</th>\n",
       "      <td>0</td>\n",
       "      <td>-5623.422610</td>\n",
       "      <td>33</td>\n",
       "      <td>Среднее</td>\n",
       "      <td>1</td>\n",
       "      <td>женат / замужем</td>\n",
       "      <td>0</td>\n",
       "      <td>M</td>\n",
       "      <td>сотрудник</td>\n",
       "      <td>0</td>\n",
       "      <td>145885.952297</td>\n",
       "      <td>покупка жилья</td>\n",
       "    </tr>\n",
       "    <tr>\n",
       "      <th>3</th>\n",
       "      <td>3</td>\n",
       "      <td>-4124.747207</td>\n",
       "      <td>32</td>\n",
       "      <td>среднее</td>\n",
       "      <td>1</td>\n",
       "      <td>женат / замужем</td>\n",
       "      <td>0</td>\n",
       "      <td>M</td>\n",
       "      <td>сотрудник</td>\n",
       "      <td>0</td>\n",
       "      <td>267628.550329</td>\n",
       "      <td>дополнительное образование</td>\n",
       "    </tr>\n",
       "    <tr>\n",
       "      <th>4</th>\n",
       "      <td>0</td>\n",
       "      <td>340266.072047</td>\n",
       "      <td>53</td>\n",
       "      <td>среднее</td>\n",
       "      <td>1</td>\n",
       "      <td>гражданский брак</td>\n",
       "      <td>1</td>\n",
       "      <td>F</td>\n",
       "      <td>пенсионер</td>\n",
       "      <td>0</td>\n",
       "      <td>158616.077870</td>\n",
       "      <td>сыграть свадьбу</td>\n",
       "    </tr>\n",
       "    <tr>\n",
       "      <th>5</th>\n",
       "      <td>0</td>\n",
       "      <td>-926.185831</td>\n",
       "      <td>27</td>\n",
       "      <td>высшее</td>\n",
       "      <td>0</td>\n",
       "      <td>гражданский брак</td>\n",
       "      <td>1</td>\n",
       "      <td>M</td>\n",
       "      <td>компаньон</td>\n",
       "      <td>0</td>\n",
       "      <td>255763.565419</td>\n",
       "      <td>покупка жилья</td>\n",
       "    </tr>\n",
       "    <tr>\n",
       "      <th>6</th>\n",
       "      <td>0</td>\n",
       "      <td>-2879.202052</td>\n",
       "      <td>43</td>\n",
       "      <td>высшее</td>\n",
       "      <td>0</td>\n",
       "      <td>женат / замужем</td>\n",
       "      <td>0</td>\n",
       "      <td>F</td>\n",
       "      <td>компаньон</td>\n",
       "      <td>0</td>\n",
       "      <td>240525.971920</td>\n",
       "      <td>операции с жильем</td>\n",
       "    </tr>\n",
       "    <tr>\n",
       "      <th>7</th>\n",
       "      <td>0</td>\n",
       "      <td>-152.779569</td>\n",
       "      <td>50</td>\n",
       "      <td>СРЕДНЕЕ</td>\n",
       "      <td>1</td>\n",
       "      <td>женат / замужем</td>\n",
       "      <td>0</td>\n",
       "      <td>M</td>\n",
       "      <td>сотрудник</td>\n",
       "      <td>0</td>\n",
       "      <td>135823.934197</td>\n",
       "      <td>образование</td>\n",
       "    </tr>\n",
       "    <tr>\n",
       "      <th>8</th>\n",
       "      <td>2</td>\n",
       "      <td>-6929.865299</td>\n",
       "      <td>35</td>\n",
       "      <td>ВЫСШЕЕ</td>\n",
       "      <td>0</td>\n",
       "      <td>гражданский брак</td>\n",
       "      <td>1</td>\n",
       "      <td>F</td>\n",
       "      <td>сотрудник</td>\n",
       "      <td>0</td>\n",
       "      <td>95856.832424</td>\n",
       "      <td>на проведение свадьбы</td>\n",
       "    </tr>\n",
       "    <tr>\n",
       "      <th>9</th>\n",
       "      <td>0</td>\n",
       "      <td>-2188.756445</td>\n",
       "      <td>41</td>\n",
       "      <td>среднее</td>\n",
       "      <td>1</td>\n",
       "      <td>женат / замужем</td>\n",
       "      <td>0</td>\n",
       "      <td>M</td>\n",
       "      <td>сотрудник</td>\n",
       "      <td>0</td>\n",
       "      <td>144425.938277</td>\n",
       "      <td>покупка жилья для семьи</td>\n",
       "    </tr>\n",
       "    <tr>\n",
       "      <th>10</th>\n",
       "      <td>2</td>\n",
       "      <td>-4171.483647</td>\n",
       "      <td>36</td>\n",
       "      <td>высшее</td>\n",
       "      <td>0</td>\n",
       "      <td>женат / замужем</td>\n",
       "      <td>0</td>\n",
       "      <td>M</td>\n",
       "      <td>компаньон</td>\n",
       "      <td>0</td>\n",
       "      <td>113943.491460</td>\n",
       "      <td>покупка недвижимости</td>\n",
       "    </tr>\n",
       "    <tr>\n",
       "      <th>11</th>\n",
       "      <td>0</td>\n",
       "      <td>-792.701887</td>\n",
       "      <td>40</td>\n",
       "      <td>среднее</td>\n",
       "      <td>1</td>\n",
       "      <td>женат / замужем</td>\n",
       "      <td>0</td>\n",
       "      <td>F</td>\n",
       "      <td>сотрудник</td>\n",
       "      <td>0</td>\n",
       "      <td>77069.234271</td>\n",
       "      <td>покупка коммерческой недвижимости</td>\n",
       "    </tr>\n",
       "    <tr>\n",
       "      <th>12</th>\n",
       "      <td>0</td>\n",
       "      <td>NaN</td>\n",
       "      <td>65</td>\n",
       "      <td>среднее</td>\n",
       "      <td>1</td>\n",
       "      <td>гражданский брак</td>\n",
       "      <td>1</td>\n",
       "      <td>M</td>\n",
       "      <td>пенсионер</td>\n",
       "      <td>0</td>\n",
       "      <td>NaN</td>\n",
       "      <td>сыграть свадьбу</td>\n",
       "    </tr>\n",
       "    <tr>\n",
       "      <th>13</th>\n",
       "      <td>0</td>\n",
       "      <td>-1846.641941</td>\n",
       "      <td>54</td>\n",
       "      <td>неоконченное высшее</td>\n",
       "      <td>2</td>\n",
       "      <td>женат / замужем</td>\n",
       "      <td>0</td>\n",
       "      <td>F</td>\n",
       "      <td>сотрудник</td>\n",
       "      <td>0</td>\n",
       "      <td>130458.228857</td>\n",
       "      <td>приобретение автомобиля</td>\n",
       "    </tr>\n",
       "    <tr>\n",
       "      <th>14</th>\n",
       "      <td>0</td>\n",
       "      <td>-1844.956182</td>\n",
       "      <td>56</td>\n",
       "      <td>высшее</td>\n",
       "      <td>0</td>\n",
       "      <td>гражданский брак</td>\n",
       "      <td>1</td>\n",
       "      <td>F</td>\n",
       "      <td>компаньон</td>\n",
       "      <td>1</td>\n",
       "      <td>165127.911772</td>\n",
       "      <td>покупка жилой недвижимости</td>\n",
       "    </tr>\n",
       "    <tr>\n",
       "      <th>15</th>\n",
       "      <td>1</td>\n",
       "      <td>-972.364419</td>\n",
       "      <td>26</td>\n",
       "      <td>среднее</td>\n",
       "      <td>1</td>\n",
       "      <td>женат / замужем</td>\n",
       "      <td>0</td>\n",
       "      <td>F</td>\n",
       "      <td>сотрудник</td>\n",
       "      <td>0</td>\n",
       "      <td>116820.904450</td>\n",
       "      <td>строительство собственной недвижимости</td>\n",
       "    </tr>\n",
       "    <tr>\n",
       "      <th>16</th>\n",
       "      <td>0</td>\n",
       "      <td>-1719.934226</td>\n",
       "      <td>35</td>\n",
       "      <td>среднее</td>\n",
       "      <td>1</td>\n",
       "      <td>женат / замужем</td>\n",
       "      <td>0</td>\n",
       "      <td>F</td>\n",
       "      <td>сотрудник</td>\n",
       "      <td>0</td>\n",
       "      <td>289202.704229</td>\n",
       "      <td>недвижимость</td>\n",
       "    </tr>\n",
       "    <tr>\n",
       "      <th>17</th>\n",
       "      <td>0</td>\n",
       "      <td>-2369.999720</td>\n",
       "      <td>33</td>\n",
       "      <td>высшее</td>\n",
       "      <td>0</td>\n",
       "      <td>гражданский брак</td>\n",
       "      <td>1</td>\n",
       "      <td>M</td>\n",
       "      <td>сотрудник</td>\n",
       "      <td>0</td>\n",
       "      <td>90410.586745</td>\n",
       "      <td>строительство недвижимости</td>\n",
       "    </tr>\n",
       "    <tr>\n",
       "      <th>18</th>\n",
       "      <td>0</td>\n",
       "      <td>400281.136913</td>\n",
       "      <td>53</td>\n",
       "      <td>среднее</td>\n",
       "      <td>1</td>\n",
       "      <td>вдовец / вдова</td>\n",
       "      <td>2</td>\n",
       "      <td>F</td>\n",
       "      <td>пенсионер</td>\n",
       "      <td>0</td>\n",
       "      <td>56823.777243</td>\n",
       "      <td>на покупку подержанного автомобиля</td>\n",
       "    </tr>\n",
       "    <tr>\n",
       "      <th>19</th>\n",
       "      <td>0</td>\n",
       "      <td>-10038.818549</td>\n",
       "      <td>48</td>\n",
       "      <td>СРЕДНЕЕ</td>\n",
       "      <td>1</td>\n",
       "      <td>в разводе</td>\n",
       "      <td>3</td>\n",
       "      <td>F</td>\n",
       "      <td>сотрудник</td>\n",
       "      <td>0</td>\n",
       "      <td>242831.107982</td>\n",
       "      <td>на покупку своего автомобиля</td>\n",
       "    </tr>\n",
       "  </tbody>\n",
       "</table>\n",
       "</div>"
      ],
      "text/plain": [
       "    children  days_employed  dob_years            education  education_id  \\\n",
       "0          1   -8437.673028         42               высшее             0   \n",
       "1          1   -4024.803754         36              среднее             1   \n",
       "2          0   -5623.422610         33              Среднее             1   \n",
       "3          3   -4124.747207         32              среднее             1   \n",
       "4          0  340266.072047         53              среднее             1   \n",
       "5          0    -926.185831         27               высшее             0   \n",
       "6          0   -2879.202052         43               высшее             0   \n",
       "7          0    -152.779569         50              СРЕДНЕЕ             1   \n",
       "8          2   -6929.865299         35               ВЫСШЕЕ             0   \n",
       "9          0   -2188.756445         41              среднее             1   \n",
       "10         2   -4171.483647         36               высшее             0   \n",
       "11         0    -792.701887         40              среднее             1   \n",
       "12         0            NaN         65              среднее             1   \n",
       "13         0   -1846.641941         54  неоконченное высшее             2   \n",
       "14         0   -1844.956182         56               высшее             0   \n",
       "15         1    -972.364419         26              среднее             1   \n",
       "16         0   -1719.934226         35              среднее             1   \n",
       "17         0   -2369.999720         33               высшее             0   \n",
       "18         0  400281.136913         53              среднее             1   \n",
       "19         0  -10038.818549         48              СРЕДНЕЕ             1   \n",
       "\n",
       "       family_status  family_status_id gender income_type  debt  \\\n",
       "0    женат / замужем                 0      F   сотрудник     0   \n",
       "1    женат / замужем                 0      F   сотрудник     0   \n",
       "2    женат / замужем                 0      M   сотрудник     0   \n",
       "3    женат / замужем                 0      M   сотрудник     0   \n",
       "4   гражданский брак                 1      F   пенсионер     0   \n",
       "5   гражданский брак                 1      M   компаньон     0   \n",
       "6    женат / замужем                 0      F   компаньон     0   \n",
       "7    женат / замужем                 0      M   сотрудник     0   \n",
       "8   гражданский брак                 1      F   сотрудник     0   \n",
       "9    женат / замужем                 0      M   сотрудник     0   \n",
       "10   женат / замужем                 0      M   компаньон     0   \n",
       "11   женат / замужем                 0      F   сотрудник     0   \n",
       "12  гражданский брак                 1      M   пенсионер     0   \n",
       "13   женат / замужем                 0      F   сотрудник     0   \n",
       "14  гражданский брак                 1      F   компаньон     1   \n",
       "15   женат / замужем                 0      F   сотрудник     0   \n",
       "16   женат / замужем                 0      F   сотрудник     0   \n",
       "17  гражданский брак                 1      M   сотрудник     0   \n",
       "18    вдовец / вдова                 2      F   пенсионер     0   \n",
       "19         в разводе                 3      F   сотрудник     0   \n",
       "\n",
       "     total_income                                 purpose  \n",
       "0   253875.639453                           покупка жилья  \n",
       "1   112080.014102                 приобретение автомобиля  \n",
       "2   145885.952297                           покупка жилья  \n",
       "3   267628.550329              дополнительное образование  \n",
       "4   158616.077870                         сыграть свадьбу  \n",
       "5   255763.565419                           покупка жилья  \n",
       "6   240525.971920                       операции с жильем  \n",
       "7   135823.934197                             образование  \n",
       "8    95856.832424                   на проведение свадьбы  \n",
       "9   144425.938277                 покупка жилья для семьи  \n",
       "10  113943.491460                    покупка недвижимости  \n",
       "11   77069.234271       покупка коммерческой недвижимости  \n",
       "12            NaN                         сыграть свадьбу  \n",
       "13  130458.228857                 приобретение автомобиля  \n",
       "14  165127.911772              покупка жилой недвижимости  \n",
       "15  116820.904450  строительство собственной недвижимости  \n",
       "16  289202.704229                            недвижимость  \n",
       "17   90410.586745              строительство недвижимости  \n",
       "18   56823.777243      на покупку подержанного автомобиля  \n",
       "19  242831.107982            на покупку своего автомобиля  "
      ]
     },
     "execution_count": 2,
     "metadata": {},
     "output_type": "execute_result"
    }
   ],
   "source": [
    "data.head(20)"
   ]
  },
  {
   "cell_type": "code",
   "execution_count": 3,
   "id": "208dc4c7",
   "metadata": {
    "deletable": false,
    "id": "2b757bca",
    "outputId": "15376089-8dad-46c9-b520-c05248d43158"
   },
   "outputs": [
    {
     "name": "stdout",
     "output_type": "stream",
     "text": [
      "<class 'pandas.core.frame.DataFrame'>\n",
      "RangeIndex: 21525 entries, 0 to 21524\n",
      "Data columns (total 12 columns):\n",
      " #   Column            Non-Null Count  Dtype  \n",
      "---  ------            --------------  -----  \n",
      " 0   children          21525 non-null  int64  \n",
      " 1   days_employed     19351 non-null  float64\n",
      " 2   dob_years         21525 non-null  int64  \n",
      " 3   education         21525 non-null  object \n",
      " 4   education_id      21525 non-null  int64  \n",
      " 5   family_status     21525 non-null  object \n",
      " 6   family_status_id  21525 non-null  int64  \n",
      " 7   gender            21525 non-null  object \n",
      " 8   income_type       21525 non-null  object \n",
      " 9   debt              21525 non-null  int64  \n",
      " 10  total_income      19351 non-null  float64\n",
      " 11  purpose           21525 non-null  object \n",
      "dtypes: float64(2), int64(5), object(5)\n",
      "memory usage: 2.0+ MB\n"
     ]
    }
   ],
   "source": [
    "data.info()"
   ]
  },
  {
   "cell_type": "markdown",
   "id": "ae8c6b44",
   "metadata": {
    "tags": []
   },
   "source": [
    "## Предобработка данных"
   ]
  },
  {
   "cell_type": "markdown",
   "id": "04880dbd",
   "metadata": {
    "tags": []
   },
   "source": [
    "Проверим наличие пропусков."
   ]
  },
  {
   "cell_type": "code",
   "execution_count": 4,
   "id": "b25eb847",
   "metadata": {
    "deletable": false,
    "id": "7f9b2309",
    "outputId": "81f4d817-781c-465c-ed15-91ce4446810d"
   },
   "outputs": [
    {
     "data": {
      "text/plain": [
       "children               0\n",
       "days_employed       2174\n",
       "dob_years              0\n",
       "education              0\n",
       "education_id           0\n",
       "family_status          0\n",
       "family_status_id       0\n",
       "gender                 0\n",
       "income_type            0\n",
       "debt                   0\n",
       "total_income        2174\n",
       "purpose                0\n",
       "dtype: int64"
      ]
     },
     "execution_count": 4,
     "metadata": {},
     "output_type": "execute_result"
    }
   ],
   "source": [
    "data.isna().sum()"
   ]
  },
  {
   "cell_type": "markdown",
   "id": "396220cc",
   "metadata": {
    "tags": []
   },
   "source": [
    "Один из столбцов с пропущенными значениями — `total_income` — хранит данные о доходах. На сумму дохода сильнее всего влияет тип занятости, поэтому заполнить пропуски в этом столбце можем медианным значением по каждому типу из столбца `income_type`. Например, у человека с типом занятости `сотрудник` пропуск в столбце `total_income` заполним медианным доходом среди всех записей с тем же типом."
   ]
  },
  {
   "cell_type": "code",
   "execution_count": 5,
   "id": "94aed70d",
   "metadata": {
    "deletable": false,
    "id": "42006a93"
   },
   "outputs": [],
   "source": [
    "for t in data['income_type'].unique():\n",
    "    data.loc[(data['income_type'] == t) & (data['total_income'].isna()), 'total_income'] = \\\n",
    "    data.loc[(data['income_type'] == t), 'total_income'].median()"
   ]
  },
  {
   "cell_type": "markdown",
   "id": "fb9684b9",
   "metadata": {
    "tags": []
   },
   "source": [
    "Отрицательное количество дней трудового стажа в столбце `days_employed` это аномалия. Заменим все отрицательные значения положительными."
   ]
  },
  {
   "cell_type": "code",
   "execution_count": 6,
   "id": "f9ed77b0",
   "metadata": {
    "deletable": false,
    "id": "f6f055bf"
   },
   "outputs": [],
   "source": [
    "data['days_employed'] = data['days_employed'].abs()"
   ]
  },
  {
   "cell_type": "markdown",
   "id": "bccf06ae",
   "metadata": {
    "tags": []
   },
   "source": [
    "Для каждого типа занятости выведем медианное значение трудового стажа `days_employed` в днях."
   ]
  },
  {
   "cell_type": "code",
   "execution_count": 7,
   "id": "8b74433e",
   "metadata": {
    "deletable": false,
    "id": "85a5faf6",
    "outputId": "801ef80e-522b-4668-f34e-565af7432bcf"
   },
   "outputs": [
    {
     "data": {
      "text/plain": [
       "income_type\n",
       "безработный        366413.652744\n",
       "в декрете            3296.759962\n",
       "госслужащий          2689.368353\n",
       "компаньон            1547.382223\n",
       "пенсионер          365213.306266\n",
       "предприниматель       520.848083\n",
       "сотрудник            1574.202821\n",
       "студент               578.751554\n",
       "Name: days_employed, dtype: float64"
      ]
     },
     "execution_count": 7,
     "metadata": {},
     "output_type": "execute_result"
    }
   ],
   "source": [
    "data.groupby('income_type')['days_employed'].agg('median')"
   ]
  },
  {
   "cell_type": "markdown",
   "id": "67b3e166",
   "metadata": {
    "tags": []
   },
   "source": [
    "Посмотрим на уникальные значения столбца `children`."
   ]
  },
  {
   "cell_type": "code",
   "execution_count": 8,
   "id": "a3f5ecfa",
   "metadata": {
    "deletable": false,
    "id": "ef5056eb",
    "outputId": "6975b15c-7f95-4697-d16d-a0c79b657b03"
   },
   "outputs": [
    {
     "data": {
      "text/plain": [
       "array([ 1,  0,  3,  2, -1,  4, 20,  5])"
      ]
     },
     "execution_count": 8,
     "metadata": {},
     "output_type": "execute_result"
    }
   ],
   "source": [
    "data['children'].unique()"
   ]
  },
  {
   "cell_type": "markdown",
   "id": "ab17e9e1",
   "metadata": {
    "tags": []
   },
   "source": [
    "В столбце `children` есть два аномальных значения. Удалим эти строки."
   ]
  },
  {
   "cell_type": "code",
   "execution_count": 9,
   "id": "24dc2d78",
   "metadata": {
    "deletable": false,
    "id": "3ff9801d"
   },
   "outputs": [],
   "source": [
    "data = data[(data['children'] != -1) & (data['children'] != 20)]"
   ]
  },
  {
   "cell_type": "markdown",
   "id": "c3a9a5ec",
   "metadata": {
    "tags": []
   },
   "source": [
    "Убедимся, что артефакты удалены."
   ]
  },
  {
   "cell_type": "code",
   "execution_count": 10,
   "id": "5f0e7ef3",
   "metadata": {
    "deletable": false,
    "id": "ad4fa8b7",
    "outputId": "b2097101-d49d-44d9-901b-32a65c9463d1"
   },
   "outputs": [
    {
     "data": {
      "text/plain": [
       "array([1, 0, 3, 2, 4, 5])"
      ]
     },
     "execution_count": 10,
     "metadata": {},
     "output_type": "execute_result"
    }
   ],
   "source": [
    "data['children'].unique()"
   ]
  },
  {
   "cell_type": "markdown",
   "id": "c53c3ba4",
   "metadata": {
    "tags": []
   },
   "source": [
    "Заполним пропуски в столбце `days_employed` медианными значениями по каждого типа занятости `income_type`."
   ]
  },
  {
   "cell_type": "code",
   "execution_count": 11,
   "id": "0ca60901",
   "metadata": {
    "deletable": false,
    "id": "af6b1a7e"
   },
   "outputs": [],
   "source": [
    "for t in data['income_type'].unique():\n",
    "    data.loc[(data['income_type'] == t) & (data['days_employed'].isna()), 'days_employed'] = \\\n",
    "    data.loc[(data['income_type'] == t), 'days_employed'].median()"
   ]
  },
  {
   "cell_type": "markdown",
   "id": "ea1d889d",
   "metadata": {
    "tags": []
   },
   "source": [
    "Убедимся, что все пропуски заполнены."
   ]
  },
  {
   "cell_type": "code",
   "execution_count": 12,
   "id": "72a8a8e2",
   "metadata": {
    "deletable": false,
    "id": "55f78bc2",
    "outputId": "8da1e4e1-358e-4e87-98c9-f261bce0a7b2"
   },
   "outputs": [
    {
     "data": {
      "text/plain": [
       "children            0\n",
       "days_employed       0\n",
       "dob_years           0\n",
       "education           0\n",
       "education_id        0\n",
       "family_status       0\n",
       "family_status_id    0\n",
       "gender              0\n",
       "income_type         0\n",
       "debt                0\n",
       "total_income        0\n",
       "purpose             0\n",
       "dtype: int64"
      ]
     },
     "execution_count": 12,
     "metadata": {},
     "output_type": "execute_result"
    }
   ],
   "source": [
    "data.isna().sum()"
   ]
  },
  {
   "cell_type": "markdown",
   "id": "2dda1235",
   "metadata": {
    "tags": []
   },
   "source": [
    "Заменим вещественный тип данных в столбце `total_income` на целочисленный."
   ]
  },
  {
   "cell_type": "code",
   "execution_count": 13,
   "id": "eeca718c",
   "metadata": {
    "deletable": false,
    "id": "920b65ad"
   },
   "outputs": [],
   "source": [
    "data['total_income'] = data['total_income'].astype(int)"
   ]
  },
  {
   "cell_type": "markdown",
   "id": "0795d8ea",
   "metadata": {
    "tags": []
   },
   "source": [
    "Обработаем неявные дубликаты в столбце `education`."
   ]
  },
  {
   "cell_type": "code",
   "execution_count": 14,
   "id": "0eae3d58",
   "metadata": {
    "deletable": false
   },
   "outputs": [],
   "source": [
    "data['education'] = data['education'].str.lower()"
   ]
  },
  {
   "cell_type": "markdown",
   "id": "16394fd9",
   "metadata": {
    "tags": []
   },
   "source": [
    "Проверим количество дубликатов и удалим, если такие имеются."
   ]
  },
  {
   "cell_type": "code",
   "execution_count": 15,
   "id": "a5d01b59",
   "metadata": {
    "deletable": false,
    "id": "3ee445e4",
    "outputId": "9684deba-1934-42d1-99e1-cda61740f822"
   },
   "outputs": [
    {
     "data": {
      "text/plain": [
       "71"
      ]
     },
     "execution_count": 15,
     "metadata": {},
     "output_type": "execute_result"
    }
   ],
   "source": [
    "data.duplicated().sum()"
   ]
  },
  {
   "cell_type": "code",
   "execution_count": 16,
   "id": "c83d0cbc",
   "metadata": {
    "deletable": false,
    "id": "8575fe05"
   },
   "outputs": [],
   "source": [
    "data = data.drop_duplicates()"
   ]
  },
  {
   "cell_type": "markdown",
   "id": "a68bfa17",
   "metadata": {
    "tags": []
   },
   "source": [
    "## Категоризация данных"
   ]
  },
  {
   "cell_type": "markdown",
   "id": "de763033",
   "metadata": {
    "tags": []
   },
   "source": [
    "Категоризируем данные, создав в датафрейме `data` столбец `total_income_category` с категориями:\n",
    "\n",
    "- 0–30000 — `'E'`\n",
    "- 30001–50000 — `'D'`\n",
    "- 50001–200000 — `'C'`\n",
    "- 200001–1000000 — `'B'`\n",
    "- 1000001 и выше — `'A'`"
   ]
  },
  {
   "cell_type": "code",
   "execution_count": 17,
   "id": "8a9c1202",
   "metadata": {
    "deletable": false,
    "id": "e1771346"
   },
   "outputs": [],
   "source": [
    "def categorize_income(income):\n",
    "    try:\n",
    "        if 0 <= income <= 30000:\n",
    "            return 'E'\n",
    "        elif 30001 <= income <= 50000:\n",
    "            return 'D'\n",
    "        elif 50001 <= income <= 200000:\n",
    "            return 'C'\n",
    "        elif 200001 <= income <= 1000000:\n",
    "            return 'B'\n",
    "        elif income >= 1000001:\n",
    "            return 'A'\n",
    "    except:\n",
    "        pass"
   ]
  },
  {
   "cell_type": "code",
   "execution_count": 18,
   "id": "e8b8d574",
   "metadata": {
    "deletable": false,
    "id": "d5f3586d"
   },
   "outputs": [],
   "source": [
    "data['total_income_category'] = data['total_income'].apply(categorize_income)"
   ]
  },
  {
   "cell_type": "markdown",
   "id": "224a7ef1",
   "metadata": {
    "tags": []
   },
   "source": [
    "Посмотрим на цели взятия кредита из столбца `purpose`."
   ]
  },
  {
   "cell_type": "code",
   "execution_count": 19,
   "id": "e4bd2552",
   "metadata": {
    "deletable": false,
    "id": "f67ce9b3",
    "outputId": "673c12d9-7d7e-4ae0-9812-c622c89dd244"
   },
   "outputs": [
    {
     "data": {
      "text/plain": [
       "array(['покупка жилья', 'приобретение автомобиля',\n",
       "       'дополнительное образование', 'сыграть свадьбу',\n",
       "       'операции с жильем', 'образование', 'на проведение свадьбы',\n",
       "       'покупка жилья для семьи', 'покупка недвижимости',\n",
       "       'покупка коммерческой недвижимости', 'покупка жилой недвижимости',\n",
       "       'строительство собственной недвижимости', 'недвижимость',\n",
       "       'строительство недвижимости', 'на покупку подержанного автомобиля',\n",
       "       'на покупку своего автомобиля',\n",
       "       'операции с коммерческой недвижимостью',\n",
       "       'строительство жилой недвижимости', 'жилье',\n",
       "       'операции со своей недвижимостью', 'автомобили',\n",
       "       'заняться образованием', 'сделка с подержанным автомобилем',\n",
       "       'получение образования', 'автомобиль', 'свадьба',\n",
       "       'получение дополнительного образования', 'покупка своего жилья',\n",
       "       'операции с недвижимостью', 'получение высшего образования',\n",
       "       'свой автомобиль', 'сделка с автомобилем',\n",
       "       'профильное образование', 'высшее образование',\n",
       "       'покупка жилья для сдачи', 'на покупку автомобиля', 'ремонт жилью',\n",
       "       'заняться высшим образованием'], dtype=object)"
      ]
     },
     "execution_count": 19,
     "metadata": {},
     "output_type": "execute_result"
    }
   ],
   "source": [
    "data['purpose'].unique()"
   ]
  },
  {
   "cell_type": "markdown",
   "id": "e2196a37",
   "metadata": {
    "tags": []
   },
   "source": [
    "Создадим функцию, которая на основании данных из столбца `purpose` сформирует новый столбец `purpose_category`, в который войдут следующие категории:\n",
    "\n",
    "- `'операции с автомобилем'`\n",
    "- `'операции с недвижимостью'`\n",
    "- `'проведение свадьбы'`\n",
    "- `'получение образования'`"
   ]
  },
  {
   "cell_type": "code",
   "execution_count": 20,
   "id": "543a7c36",
   "metadata": {
    "deletable": false,
    "id": "e149fab4"
   },
   "outputs": [],
   "source": [
    "def categorize_purpose(row):\n",
    "    try:\n",
    "        if 'автом' in row:\n",
    "            return 'операции с автомобилем'\n",
    "        elif 'жил' in row or 'недвиж' in row:\n",
    "            return 'операции с недвижимостью'\n",
    "        elif 'свад' in row:\n",
    "            return 'проведение свадьбы'\n",
    "        elif 'образов' in row:\n",
    "            return 'получение образования'\n",
    "    except:\n",
    "        return 'нет категории'"
   ]
  },
  {
   "cell_type": "code",
   "execution_count": 21,
   "id": "3c3e1230",
   "metadata": {
    "deletable": false,
    "id": "bf36e69b"
   },
   "outputs": [],
   "source": [
    "data['purpose_category'] = data['purpose'].apply(categorize_purpose)"
   ]
  },
  {
   "cell_type": "markdown",
   "id": "0ae68102",
   "metadata": {
    "tags": []
   },
   "source": [
    "## Исследовательский анализ данных"
   ]
  },
  {
   "cell_type": "markdown",
   "id": "21558256",
   "metadata": {
    "tags": []
   },
   "source": [
    "### Есть ли зависимость между количеством детей и возвратом кредита в срок?"
   ]
  },
  {
   "cell_type": "code",
   "execution_count": 22,
   "id": "3ef1c13f",
   "metadata": {
    "scrolled": true
   },
   "outputs": [
    {
     "data": {
      "text/html": [
       "<style  type=\"text/css\" >\n",
       "</style><table id=\"T_01271_\" ><thead>    <tr>        <th class=\"index_name level0\" >debt</th>        <th class=\"col_heading level0 col0\" >0</th>        <th class=\"col_heading level0 col1\" >1</th>        <th class=\"col_heading level0 col2\" >conversion</th>    </tr>    <tr>        <th class=\"index_name level0\" >children</th>        <th class=\"blank\" ></th>        <th class=\"blank\" ></th>        <th class=\"blank\" ></th>    </tr></thead><tbody>\n",
       "                <tr>\n",
       "                        <th id=\"T_01271_level0_row0\" class=\"row_heading level0 row0\" >5</th>\n",
       "                        <td id=\"T_01271_row0_col0\" class=\"data row0 col0\" >9.000000</td>\n",
       "                        <td id=\"T_01271_row0_col1\" class=\"data row0 col1\" >0.000000</td>\n",
       "                        <td id=\"T_01271_row0_col2\" class=\"data row0 col2\" >0%</td>\n",
       "            </tr>\n",
       "            <tr>\n",
       "                        <th id=\"T_01271_level0_row1\" class=\"row_heading level0 row1\" >0</th>\n",
       "                        <td id=\"T_01271_row1_col0\" class=\"data row1 col0\" >13028.000000</td>\n",
       "                        <td id=\"T_01271_row1_col1\" class=\"data row1 col1\" >1063.000000</td>\n",
       "                        <td id=\"T_01271_row1_col2\" class=\"data row1 col2\" >8%</td>\n",
       "            </tr>\n",
       "            <tr>\n",
       "                        <th id=\"T_01271_level0_row2\" class=\"row_heading level0 row2\" >3</th>\n",
       "                        <td id=\"T_01271_row2_col0\" class=\"data row2 col0\" >303.000000</td>\n",
       "                        <td id=\"T_01271_row2_col1\" class=\"data row2 col1\" >27.000000</td>\n",
       "                        <td id=\"T_01271_row2_col2\" class=\"data row2 col2\" >8%</td>\n",
       "            </tr>\n",
       "            <tr>\n",
       "                        <th id=\"T_01271_level0_row3\" class=\"row_heading level0 row3\" >1</th>\n",
       "                        <td id=\"T_01271_row3_col0\" class=\"data row3 col0\" >4364.000000</td>\n",
       "                        <td id=\"T_01271_row3_col1\" class=\"data row3 col1\" >444.000000</td>\n",
       "                        <td id=\"T_01271_row3_col2\" class=\"data row3 col2\" >9%</td>\n",
       "            </tr>\n",
       "            <tr>\n",
       "                        <th id=\"T_01271_level0_row4\" class=\"row_heading level0 row4\" >2</th>\n",
       "                        <td id=\"T_01271_row4_col0\" class=\"data row4 col0\" >1858.000000</td>\n",
       "                        <td id=\"T_01271_row4_col1\" class=\"data row4 col1\" >194.000000</td>\n",
       "                        <td id=\"T_01271_row4_col2\" class=\"data row4 col2\" >9%</td>\n",
       "            </tr>\n",
       "            <tr>\n",
       "                        <th id=\"T_01271_level0_row5\" class=\"row_heading level0 row5\" >4</th>\n",
       "                        <td id=\"T_01271_row5_col0\" class=\"data row5 col0\" >37.000000</td>\n",
       "                        <td id=\"T_01271_row5_col1\" class=\"data row5 col1\" >4.000000</td>\n",
       "                        <td id=\"T_01271_row5_col2\" class=\"data row5 col2\" >10%</td>\n",
       "            </tr>\n",
       "    </tbody></table>"
      ],
      "text/plain": [
       "<pandas.io.formats.style.Styler at 0x7f55b4c76310>"
      ]
     },
     "execution_count": 22,
     "metadata": {},
     "output_type": "execute_result"
    }
   ],
   "source": [
    "# создадим сводную таблицу по данным, которые у нас есть\n",
    "data_pivot_children = data.pivot_table(index='children', columns='debt', values='education', aggfunc='count')\n",
    "\n",
    "# добавим новую колонку с конверсией (% людей с задолженностью от общего числа заемщиков категории)\n",
    "data_pivot_children['conversion'] = data_pivot_children[1] / (data_pivot_children[0] + data_pivot_children[1])\n",
    "\n",
    "# заполним пропуски и выведем результат в % отсортированный по возрастанию\n",
    "data_pivot_children = data_pivot_children.fillna(0).sort_values(by='conversion')\n",
    "data_pivot_children = data_pivot_children.style.format({'conversion': '{:,.0%}'.format})\n",
    "data_pivot_children"
   ]
  },
  {
   "cell_type": "code",
   "execution_count": 23,
   "id": "8839ecd2",
   "metadata": {},
   "outputs": [
    {
     "data": {
      "text/html": [
       "<div>\n",
       "<style scoped>\n",
       "    .dataframe tbody tr th:only-of-type {\n",
       "        vertical-align: middle;\n",
       "    }\n",
       "\n",
       "    .dataframe tbody tr th {\n",
       "        vertical-align: top;\n",
       "    }\n",
       "\n",
       "    .dataframe thead tr th {\n",
       "        text-align: left;\n",
       "    }\n",
       "\n",
       "    .dataframe thead tr:last-of-type th {\n",
       "        text-align: right;\n",
       "    }\n",
       "</style>\n",
       "<table border=\"1\" class=\"dataframe\">\n",
       "  <thead>\n",
       "    <tr>\n",
       "      <th></th>\n",
       "      <th>sum</th>\n",
       "      <th>count</th>\n",
       "      <th>mean</th>\n",
       "    </tr>\n",
       "    <tr>\n",
       "      <th></th>\n",
       "      <th>debt</th>\n",
       "      <th>debt</th>\n",
       "      <th>debt</th>\n",
       "    </tr>\n",
       "    <tr>\n",
       "      <th>children</th>\n",
       "      <th></th>\n",
       "      <th></th>\n",
       "      <th></th>\n",
       "    </tr>\n",
       "  </thead>\n",
       "  <tbody>\n",
       "    <tr>\n",
       "      <th>0</th>\n",
       "      <td>1063</td>\n",
       "      <td>14091</td>\n",
       "      <td>0.075438</td>\n",
       "    </tr>\n",
       "    <tr>\n",
       "      <th>1</th>\n",
       "      <td>444</td>\n",
       "      <td>4808</td>\n",
       "      <td>0.092346</td>\n",
       "    </tr>\n",
       "    <tr>\n",
       "      <th>2</th>\n",
       "      <td>194</td>\n",
       "      <td>2052</td>\n",
       "      <td>0.094542</td>\n",
       "    </tr>\n",
       "    <tr>\n",
       "      <th>3</th>\n",
       "      <td>27</td>\n",
       "      <td>330</td>\n",
       "      <td>0.081818</td>\n",
       "    </tr>\n",
       "    <tr>\n",
       "      <th>4</th>\n",
       "      <td>4</td>\n",
       "      <td>41</td>\n",
       "      <td>0.097561</td>\n",
       "    </tr>\n",
       "    <tr>\n",
       "      <th>5</th>\n",
       "      <td>0</td>\n",
       "      <td>9</td>\n",
       "      <td>0.000000</td>\n",
       "    </tr>\n",
       "  </tbody>\n",
       "</table>\n",
       "</div>"
      ],
      "text/plain": [
       "           sum  count      mean\n",
       "          debt   debt      debt\n",
       "children                       \n",
       "0         1063  14091  0.075438\n",
       "1          444   4808  0.092346\n",
       "2          194   2052  0.094542\n",
       "3           27    330  0.081818\n",
       "4            4     41  0.097561\n",
       "5            0      9  0.000000"
      ]
     },
     "execution_count": 23,
     "metadata": {},
     "output_type": "execute_result"
    }
   ],
   "source": [
    "data.pivot_table(index='children', values='debt', aggfunc=['sum','count','mean'])"
   ]
  },
  {
   "cell_type": "code",
   "execution_count": 24,
   "id": "36766b35",
   "metadata": {},
   "outputs": [
    {
     "data": {
      "text/html": [
       "<div>\n",
       "<style scoped>\n",
       "    .dataframe tbody tr th:only-of-type {\n",
       "        vertical-align: middle;\n",
       "    }\n",
       "\n",
       "    .dataframe tbody tr th {\n",
       "        vertical-align: top;\n",
       "    }\n",
       "\n",
       "    .dataframe thead th {\n",
       "        text-align: right;\n",
       "    }\n",
       "</style>\n",
       "<table border=\"1\" class=\"dataframe\">\n",
       "  <thead>\n",
       "    <tr style=\"text-align: right;\">\n",
       "      <th></th>\n",
       "      <th>children</th>\n",
       "      <th>days_employed</th>\n",
       "      <th>dob_years</th>\n",
       "      <th>education</th>\n",
       "      <th>education_id</th>\n",
       "      <th>family_status</th>\n",
       "      <th>family_status_id</th>\n",
       "      <th>gender</th>\n",
       "      <th>income_type</th>\n",
       "      <th>debt</th>\n",
       "      <th>total_income</th>\n",
       "      <th>purpose</th>\n",
       "      <th>total_income_category</th>\n",
       "      <th>purpose_category</th>\n",
       "    </tr>\n",
       "  </thead>\n",
       "  <tbody>\n",
       "  </tbody>\n",
       "</table>\n",
       "</div>"
      ],
      "text/plain": [
       "Empty DataFrame\n",
       "Columns: [children, days_employed, dob_years, education, education_id, family_status, family_status_id, gender, income_type, debt, total_income, purpose, total_income_category, purpose_category]\n",
       "Index: []"
      ]
     },
     "execution_count": 24,
     "metadata": {},
     "output_type": "execute_result"
    }
   ],
   "source": [
    "# убедимся, что посчитали правильно и в изначальном датафрейме действительно не было людей с 5 детьми и задолженностью\n",
    "data.loc[(data['children'] == 5) & (data['debt'] == 1)]"
   ]
  },
  {
   "cell_type": "markdown",
   "id": "53dc0127",
   "metadata": {
    "deletable": false,
    "id": "3a6b99ec"
   },
   "source": [
    "**Вывод:** \n",
    "\n",
    "Глядя на данные о конверсии можно сказать, что с увеличением количества детей, растет процент людей с наличием задолженностей. \n",
    "\n",
    "Также видим, что те, у кого 5 детей 100% вовремя выплачивают кредиты, а в семьях с 3 детьми процент схож с семьями, где нет детей. Тут стоит обратить внимание на то, что количество людей в выборке очень маленькое, может быть не показательным.\n",
    "\n",
    "При этом есть теория о том, что такие люди могут получить дополнительные пособия или выплаты (за третьего ребенка и за пятого), что помогает им избежать задолженностей."
   ]
  },
  {
   "cell_type": "markdown",
   "id": "566c0dbf",
   "metadata": {
    "tags": []
   },
   "source": [
    "### Есть ли зависимость между семейным положением и возвратом кредита в срок?"
   ]
  },
  {
   "cell_type": "code",
   "execution_count": 25,
   "id": "612fe697",
   "metadata": {
    "deletable": false,
    "id": "dc3f7ee8"
   },
   "outputs": [
    {
     "data": {
      "text/html": [
       "<style  type=\"text/css\" >\n",
       "</style><table id=\"T_a86cc_\" ><thead>    <tr>        <th class=\"index_name level0\" >debt</th>        <th class=\"col_heading level0 col0\" >0</th>        <th class=\"col_heading level0 col1\" >1</th>        <th class=\"col_heading level0 col2\" >conversion</th>    </tr>    <tr>        <th class=\"index_name level0\" >family_status</th>        <th class=\"blank\" ></th>        <th class=\"blank\" ></th>        <th class=\"blank\" ></th>    </tr></thead><tbody>\n",
       "                <tr>\n",
       "                        <th id=\"T_a86cc_level0_row0\" class=\"row_heading level0 row0\" >вдовец / вдова</th>\n",
       "                        <td id=\"T_a86cc_row0_col0\" class=\"data row0 col0\" >888</td>\n",
       "                        <td id=\"T_a86cc_row0_col1\" class=\"data row0 col1\" >63</td>\n",
       "                        <td id=\"T_a86cc_row0_col2\" class=\"data row0 col2\" >7%</td>\n",
       "            </tr>\n",
       "            <tr>\n",
       "                        <th id=\"T_a86cc_level0_row1\" class=\"row_heading level0 row1\" >в разводе</th>\n",
       "                        <td id=\"T_a86cc_row1_col0\" class=\"data row1 col0\" >1105</td>\n",
       "                        <td id=\"T_a86cc_row1_col1\" class=\"data row1 col1\" >84</td>\n",
       "                        <td id=\"T_a86cc_row1_col2\" class=\"data row1 col2\" >7%</td>\n",
       "            </tr>\n",
       "            <tr>\n",
       "                        <th id=\"T_a86cc_level0_row2\" class=\"row_heading level0 row2\" >женат / замужем</th>\n",
       "                        <td id=\"T_a86cc_row2_col0\" class=\"data row2 col0\" >11334</td>\n",
       "                        <td id=\"T_a86cc_row2_col1\" class=\"data row2 col1\" >927</td>\n",
       "                        <td id=\"T_a86cc_row2_col2\" class=\"data row2 col2\" >8%</td>\n",
       "            </tr>\n",
       "            <tr>\n",
       "                        <th id=\"T_a86cc_level0_row3\" class=\"row_heading level0 row3\" >гражданский брак</th>\n",
       "                        <td id=\"T_a86cc_row3_col0\" class=\"data row3 col0\" >3749</td>\n",
       "                        <td id=\"T_a86cc_row3_col1\" class=\"data row3 col1\" >385</td>\n",
       "                        <td id=\"T_a86cc_row3_col2\" class=\"data row3 col2\" >9%</td>\n",
       "            </tr>\n",
       "            <tr>\n",
       "                        <th id=\"T_a86cc_level0_row4\" class=\"row_heading level0 row4\" >Не женат / не замужем</th>\n",
       "                        <td id=\"T_a86cc_row4_col0\" class=\"data row4 col0\" >2523</td>\n",
       "                        <td id=\"T_a86cc_row4_col1\" class=\"data row4 col1\" >273</td>\n",
       "                        <td id=\"T_a86cc_row4_col2\" class=\"data row4 col2\" >10%</td>\n",
       "            </tr>\n",
       "    </tbody></table>"
      ],
      "text/plain": [
       "<pandas.io.formats.style.Styler at 0x7f55f58501f0>"
      ]
     },
     "execution_count": 25,
     "metadata": {},
     "output_type": "execute_result"
    }
   ],
   "source": [
    "data_pivot_family = data.pivot_table(index='family_status', columns='debt', values='education', aggfunc='count')\n",
    "data_pivot_family['conversion'] = data_pivot_family[1] / (data_pivot_family[0] + data_pivot_family[1])\n",
    "data_pivot_family = data_pivot_family.sort_values(by='conversion')\n",
    "data_pivot_family = data_pivot_family.style.format({'conversion': '{:,.0%}'.format})\n",
    "data_pivot_family"
   ]
  },
  {
   "cell_type": "markdown",
   "id": "85ad2930",
   "metadata": {
    "deletable": false,
    "id": "1cef7837"
   },
   "source": [
    "**Вывод:** \n",
    "\n",
    "Меньше задолженностей, судя по результатам, имеют люди в разводе или вдовцы. В данном случае эти категории схожи, поэтому возможно имеет смысл объеденить их, тогда количество людей будет более схоже в разных категориях. \n",
    "\n",
    "При этом хуже всего себя показывают люди не состоящие в браке."
   ]
  },
  {
   "cell_type": "markdown",
   "id": "7335cac0",
   "metadata": {
    "tags": []
   },
   "source": [
    "### Есть ли зависимость между уровнем дохода и возвратом кредита в срок?"
   ]
  },
  {
   "cell_type": "code",
   "execution_count": 26,
   "id": "ba5cd382",
   "metadata": {
    "deletable": false,
    "id": "cd7e3720"
   },
   "outputs": [
    {
     "data": {
      "text/html": [
       "<style  type=\"text/css\" >\n",
       "</style><table id=\"T_b7ad6_\" ><thead>    <tr>        <th class=\"index_name level0\" >debt</th>        <th class=\"col_heading level0 col0\" >0</th>        <th class=\"col_heading level0 col1\" >1</th>        <th class=\"col_heading level0 col2\" >conversion</th>    </tr>    <tr>        <th class=\"index_name level0\" >total_income_category</th>        <th class=\"blank\" ></th>        <th class=\"blank\" ></th>        <th class=\"blank\" ></th>    </tr></thead><tbody>\n",
       "                <tr>\n",
       "                        <th id=\"T_b7ad6_level0_row0\" class=\"row_heading level0 row0\" >D</th>\n",
       "                        <td id=\"T_b7ad6_row0_col0\" class=\"data row0 col0\" >328</td>\n",
       "                        <td id=\"T_b7ad6_row0_col1\" class=\"data row0 col1\" >21</td>\n",
       "                        <td id=\"T_b7ad6_row0_col2\" class=\"data row0 col2\" >6%</td>\n",
       "            </tr>\n",
       "            <tr>\n",
       "                        <th id=\"T_b7ad6_level0_row1\" class=\"row_heading level0 row1\" >B</th>\n",
       "                        <td id=\"T_b7ad6_row1_col0\" class=\"data row1 col0\" >4660</td>\n",
       "                        <td id=\"T_b7ad6_row1_col1\" class=\"data row1 col1\" >354</td>\n",
       "                        <td id=\"T_b7ad6_row1_col2\" class=\"data row1 col2\" >7%</td>\n",
       "            </tr>\n",
       "            <tr>\n",
       "                        <th id=\"T_b7ad6_level0_row2\" class=\"row_heading level0 row2\" >A</th>\n",
       "                        <td id=\"T_b7ad6_row2_col0\" class=\"data row2 col0\" >23</td>\n",
       "                        <td id=\"T_b7ad6_row2_col1\" class=\"data row2 col1\" >2</td>\n",
       "                        <td id=\"T_b7ad6_row2_col2\" class=\"data row2 col2\" >8%</td>\n",
       "            </tr>\n",
       "            <tr>\n",
       "                        <th id=\"T_b7ad6_level0_row3\" class=\"row_heading level0 row3\" >C</th>\n",
       "                        <td id=\"T_b7ad6_row3_col0\" class=\"data row3 col0\" >14568</td>\n",
       "                        <td id=\"T_b7ad6_row3_col1\" class=\"data row3 col1\" >1353</td>\n",
       "                        <td id=\"T_b7ad6_row3_col2\" class=\"data row3 col2\" >8%</td>\n",
       "            </tr>\n",
       "            <tr>\n",
       "                        <th id=\"T_b7ad6_level0_row4\" class=\"row_heading level0 row4\" >E</th>\n",
       "                        <td id=\"T_b7ad6_row4_col0\" class=\"data row4 col0\" >20</td>\n",
       "                        <td id=\"T_b7ad6_row4_col1\" class=\"data row4 col1\" >2</td>\n",
       "                        <td id=\"T_b7ad6_row4_col2\" class=\"data row4 col2\" >9%</td>\n",
       "            </tr>\n",
       "    </tbody></table>"
      ],
      "text/plain": [
       "<pandas.io.formats.style.Styler at 0x7f55f5819940>"
      ]
     },
     "execution_count": 26,
     "metadata": {},
     "output_type": "execute_result"
    }
   ],
   "source": [
    "data_pivot_income = data.pivot_table(index='total_income_category', columns='debt', values='education', aggfunc='count')\n",
    "data_pivot_income['conversion'] = data_pivot_income[1] / (data_pivot_income[0] + data_pivot_income[1])\n",
    "data_pivot_income = data_pivot_income.sort_values(by='conversion')\n",
    "data_pivot_income = data_pivot_income.style.format({'conversion': '{:,.0%}'.format})\n",
    "data_pivot_income"
   ]
  },
  {
   "cell_type": "markdown",
   "id": "a67fe15c",
   "metadata": {
    "deletable": false,
    "id": "e8593def"
   },
   "source": [
    "**Вывод:** \n",
    "\n",
    "Как ни странно меньший процент людей с задолженностью в категории D, что соответствует невысокому уровню дохода. \n",
    "\n",
    "Хотя, опять же, в категории с самым высоким и самым низким уровнем дохода не так много людей, чтобы считать результаты показательными. Возможно стоит немного изменить условия категоризации (разделить на меньшее количество категорий). "
   ]
  },
  {
   "cell_type": "markdown",
   "id": "1e50429a",
   "metadata": {
    "tags": []
   },
   "source": [
    "### Как разные цели кредита влияют на его возврат в срок?"
   ]
  },
  {
   "cell_type": "code",
   "execution_count": 27,
   "id": "bfb68299",
   "metadata": {
    "deletable": false,
    "id": "2b687290"
   },
   "outputs": [
    {
     "data": {
      "text/html": [
       "<style  type=\"text/css\" >\n",
       "</style><table id=\"T_2417e_\" ><thead>    <tr>        <th class=\"index_name level0\" >debt</th>        <th class=\"col_heading level0 col0\" >0</th>        <th class=\"col_heading level0 col1\" >1</th>        <th class=\"col_heading level0 col2\" >conversion</th>    </tr>    <tr>        <th class=\"index_name level0\" >purpose_category</th>        <th class=\"blank\" ></th>        <th class=\"blank\" ></th>        <th class=\"blank\" ></th>    </tr></thead><tbody>\n",
       "                <tr>\n",
       "                        <th id=\"T_2417e_level0_row0\" class=\"row_heading level0 row0\" >операции с недвижимостью</th>\n",
       "                        <td id=\"T_2417e_row0_col0\" class=\"data row0 col0\" >9971</td>\n",
       "                        <td id=\"T_2417e_row0_col1\" class=\"data row0 col1\" >780</td>\n",
       "                        <td id=\"T_2417e_row0_col2\" class=\"data row0 col2\" >7%</td>\n",
       "            </tr>\n",
       "            <tr>\n",
       "                        <th id=\"T_2417e_level0_row1\" class=\"row_heading level0 row1\" >проведение свадьбы</th>\n",
       "                        <td id=\"T_2417e_row1_col0\" class=\"data row1 col0\" >2130</td>\n",
       "                        <td id=\"T_2417e_row1_col1\" class=\"data row1 col1\" >183</td>\n",
       "                        <td id=\"T_2417e_row1_col2\" class=\"data row1 col2\" >8%</td>\n",
       "            </tr>\n",
       "            <tr>\n",
       "                        <th id=\"T_2417e_level0_row2\" class=\"row_heading level0 row2\" >получение образования</th>\n",
       "                        <td id=\"T_2417e_row2_col0\" class=\"data row2 col0\" >3619</td>\n",
       "                        <td id=\"T_2417e_row2_col1\" class=\"data row2 col1\" >369</td>\n",
       "                        <td id=\"T_2417e_row2_col2\" class=\"data row2 col2\" >9%</td>\n",
       "            </tr>\n",
       "            <tr>\n",
       "                        <th id=\"T_2417e_level0_row3\" class=\"row_heading level0 row3\" >операции с автомобилем</th>\n",
       "                        <td id=\"T_2417e_row3_col0\" class=\"data row3 col0\" >3879</td>\n",
       "                        <td id=\"T_2417e_row3_col1\" class=\"data row3 col1\" >400</td>\n",
       "                        <td id=\"T_2417e_row3_col2\" class=\"data row3 col2\" >9%</td>\n",
       "            </tr>\n",
       "    </tbody></table>"
      ],
      "text/plain": [
       "<pandas.io.formats.style.Styler at 0x7f55f5850d90>"
      ]
     },
     "execution_count": 27,
     "metadata": {},
     "output_type": "execute_result"
    }
   ],
   "source": [
    "data_pivot_purpose = data.pivot_table(index='purpose_category', columns='debt', values='education', aggfunc='count')\n",
    "data_pivot_purpose['conversion'] = data_pivot_purpose[1] / (data_pivot_purpose[0] + data_pivot_purpose[1])\n",
    "data_pivot_purpose = data_pivot_purpose.sort_values(by='conversion')\n",
    "data_pivot_purpose = data_pivot_purpose.style.format({'conversion': '{:,.0%}'.format})\n",
    "data_pivot_purpose"
   ]
  },
  {
   "cell_type": "markdown",
   "id": "cebaf172",
   "metadata": {
    "deletable": false,
    "id": "b4bb2ce6"
   },
   "source": [
    "**Вывод:** \n",
    "\n",
    "Лучше всего в плане своевременной оплаты без задолженностей себя показывает группа людей, желающих получить кредит на операции с недвижимостью. \n",
    "\n",
    "Можно объяснить это тем, что покупка недвижимости - более серьезный и дорогостоящий шаг, чем свадьба и автомобиль.Скорее всего люди оказываются более подготовлены к этому, тщательнее всё продумывают."
   ]
  },
  {
   "cell_type": "markdown",
   "id": "7646f21d",
   "metadata": {
    "tags": []
   },
   "source": [
    "## Возможные причины появления пропусков в исходных данных."
   ]
  },
  {
   "cell_type": "code",
   "execution_count": 28,
   "id": "83745721",
   "metadata": {
    "deletable": false,
    "id": "2cacfc4a"
   },
   "outputs": [
    {
     "data": {
      "text/plain": [
       "array(['сотрудник', 'пенсионер', 'компаньон', 'госслужащий',\n",
       "       'безработный', 'предприниматель', 'студент', 'в декрете'],\n",
       "      dtype=object)"
      ]
     },
     "execution_count": 28,
     "metadata": {},
     "output_type": "execute_result"
    }
   ],
   "source": [
    "data.income_type.unique()"
   ]
  },
  {
   "cell_type": "markdown",
   "id": "b81ad57f",
   "metadata": {
    "deletable": false,
    "id": "9da2ceda"
   },
   "source": [
    "Пропуски наблюдались только в столбцах с информацией про доходы и стаж. Если мы посмотрим на значения, представленные в столбце \"тип дохода\", то увидим, что среди заемщиков есть студенты, безработные, пенсионеры, в декрете. Скорее всего некоторым из низ просто нечего указать в этих колонках. Можно будет сказать точнее, если посмотреть на группы людей, у которых они наблюдаются, если есть такой запрос.\n",
    "\n",
    "Но еще возникает вопрос логический, как они получили займы, не имея дохода. Этот ответ можно получить, если узнать логику предоставления кредитов в организации (на основании каких сведений). Если поля `доход` и `стаж` обязательны к заполнению при подаче заявки, то может иметь место какой-то баг, в результате которого информация теряется."
   ]
  },
  {
   "cell_type": "markdown",
   "id": "444a0ba8",
   "metadata": {
    "tags": []
   },
   "source": [
    "# Общий вывод"
   ]
  },
  {
   "cell_type": "markdown",
   "id": "bd6960fc",
   "metadata": {},
   "source": [
    "**Основные этапы исследования надежности заемщиков:**\n",
    "    \n",
    "1. Были выгружены и изучены данные о более чем 20 тыс. клиентов банка, содержащий следующую информацию о клиентах: `возраст, пол, образование, семейное положение, количество детей, тип занятости, трудовой стаж, ежемесячный доход, цель кредита, наличие задолженности`.\n",
    "\n",
    "2. В ходе изучения был выявлен ряд проблем:\n",
    "    - отсутсвие информации о `стаже работы` и `ежемесячном доходе` в 2174 строках\n",
    "    - отрицательные и аномальные (20) значения в данных о `количестве детей`\n",
    "    - отрицательные значения в данных о `трудовом стаже`\n",
    "    - неявные дубликаты в данных об `образовании`\n",
    "    \n",
    "3. Была проведена предобработка данных для устранения выявленных проблем и предотвращения их влияния на точность исследования, а именно:\n",
    "    - пропуски значений в данных о `ежемесячном доходе` были заполнены медианными значениями в соответствии с типом занятости, так как тип занятости влияет на ежемесячный доход. Медианные значения помогают максимально сгладить погрешности вычисления, связанные с большими выбросами (очень высокие или очень низкие значения)\n",
    "    - пропуски значений в данных о `трудовом стаже` также были заполнены медианными значениями в соответствии с типом занятости\n",
    "    - аномальные значения в данных о `количестве детей` были удалены, а отрицательные значения в данных о `трудовом стаже` были заменены на положительные\n",
    "    - неявные дубликаты в данных об `образовании` были удалены путем приведения всех значений к нижнему регистру\n",
    "    \n",
    "4. Были систематизированы данные о `ежемесячном доходе` клиентов путем присвоения клиентам определенной категории (добавлен новый столбец `категории ежемесячного дохода`:\n",
    "    - до 30000 руб/мес — 'E';\n",
    "    - 30001–50000 руб/мес — 'D';\n",
    "    - 50001–200000 руб/мес — 'C';\n",
    "    - 200001–1000000 руб/мес — 'B';\n",
    "    - 1000001 и выше руб/мес — 'A'.\n",
    "    \n",
    "5. Аналогично были систематизированы данные о `цели кредита` клиентов путем присвоения клиентам определенной категории (добавлен новый столбец `категории целей кредита` с четыремя группами:\n",
    "    - 'операции с автомобилем'\n",
    "    - 'операции с недвижимостью'\n",
    "    - 'проведение свадьбы'\n",
    "    - 'получение образования'\n",
    "\n",
    "**Основной вывод по исследованию надежности заемщиков.**\n",
    "\n",
    "Количество детей, семейное положение, уровень дохода и цели кредита влияют на возврат кредита в срок.\n",
    "    \n",
    "**Детали.**\n",
    "\n",
    "Высокую платежеспособность продемонстрировали:\n",
    "\n",
    "- люди, у которых нет детей, а также с тремя и пятью детьми\n",
    "- люди в разводе, а также вдовы/вдовцы\n",
    "- люди с уровнем дохода категории D (30001–50000 руб/мес)\n",
    "- люди, желающие получить кредит на операции с недвижимостью\n",
    "\n",
    "Данные рекомендации стоит учитывать при построении модели кредитного скоринга — специальной системы, которая оценивает способность потенциального заёмщика вернуть кредит банку."
   ]
  }
 ],
 "metadata": {
  "ExecuteTimeLog": [
   {
    "duration": 715,
    "start_time": "2022-12-05T10:03:23.121Z"
   },
   {
    "duration": 21,
    "start_time": "2022-12-05T10:03:23.838Z"
   },
   {
    "duration": 20,
    "start_time": "2022-12-05T10:03:23.860Z"
   },
   {
    "duration": 11,
    "start_time": "2022-12-05T10:03:23.881Z"
   },
   {
    "duration": 41,
    "start_time": "2022-12-05T10:03:23.894Z"
   },
   {
    "duration": 3,
    "start_time": "2022-12-05T10:03:23.937Z"
   },
   {
    "duration": 37,
    "start_time": "2022-12-05T10:03:23.942Z"
   },
   {
    "duration": 4,
    "start_time": "2022-12-05T10:03:23.981Z"
   },
   {
    "duration": 16,
    "start_time": "2022-12-05T10:03:23.987Z"
   },
   {
    "duration": 15,
    "start_time": "2022-12-05T10:03:24.006Z"
   },
   {
    "duration": 59,
    "start_time": "2022-12-05T10:03:24.023Z"
   },
   {
    "duration": 9,
    "start_time": "2022-12-05T10:03:24.084Z"
   },
   {
    "duration": 11,
    "start_time": "2022-12-05T10:03:24.095Z"
   },
   {
    "duration": 21,
    "start_time": "2022-12-05T10:03:24.108Z"
   },
   {
    "duration": 37,
    "start_time": "2022-12-05T10:03:24.131Z"
   },
   {
    "duration": 19,
    "start_time": "2022-12-05T10:03:24.169Z"
   },
   {
    "duration": 4,
    "start_time": "2022-12-05T10:03:24.189Z"
   },
   {
    "duration": 29,
    "start_time": "2022-12-05T10:03:24.195Z"
   },
   {
    "duration": 8,
    "start_time": "2022-12-05T10:03:24.226Z"
   },
   {
    "duration": 19,
    "start_time": "2022-12-05T10:03:24.236Z"
   },
   {
    "duration": 30,
    "start_time": "2022-12-05T10:03:24.258Z"
   },
   {
    "duration": 11,
    "start_time": "2022-12-05T10:03:24.290Z"
   },
   {
    "duration": 18,
    "start_time": "2022-12-05T10:03:24.303Z"
   },
   {
    "duration": 10,
    "start_time": "2022-12-05T10:03:24.323Z"
   },
   {
    "duration": 12,
    "start_time": "2022-12-05T10:03:40.759Z"
   },
   {
    "duration": 62,
    "start_time": "2022-12-05T10:06:21.873Z"
   },
   {
    "duration": 7,
    "start_time": "2022-12-05T10:06:53.767Z"
   },
   {
    "duration": 12,
    "start_time": "2022-12-05T10:07:52.196Z"
   },
   {
    "duration": 24,
    "start_time": "2022-12-05T10:08:01.869Z"
   },
   {
    "duration": 11,
    "start_time": "2022-12-05T10:09:17.191Z"
   },
   {
    "duration": 23,
    "start_time": "2022-12-05T10:09:26.579Z"
   },
   {
    "duration": 20,
    "start_time": "2022-12-05T10:18:38.906Z"
   },
   {
    "duration": 28,
    "start_time": "2022-12-05T10:19:12.999Z"
   },
   {
    "duration": 880,
    "start_time": "2022-12-05T10:20:50.580Z"
   },
   {
    "duration": 700,
    "start_time": "2022-12-05T10:21:04.156Z"
   },
   {
    "duration": 16,
    "start_time": "2022-12-05T10:21:20.932Z"
   },
   {
    "duration": 10,
    "start_time": "2022-12-05T10:22:13.234Z"
   },
   {
    "duration": 11,
    "start_time": "2022-12-05T10:22:31.483Z"
   },
   {
    "duration": 9,
    "start_time": "2022-12-05T11:21:14.140Z"
   },
   {
    "duration": 14,
    "start_time": "2022-12-05T11:21:47.305Z"
   },
   {
    "duration": 12,
    "start_time": "2022-12-05T11:22:17.847Z"
   },
   {
    "duration": 11,
    "start_time": "2022-12-05T11:22:34.793Z"
   },
   {
    "duration": 11,
    "start_time": "2022-12-05T11:23:04.922Z"
   },
   {
    "duration": 12,
    "start_time": "2022-12-05T11:23:35.619Z"
   },
   {
    "duration": 632,
    "start_time": "2022-12-05T11:25:28.549Z"
   },
   {
    "duration": 546,
    "start_time": "2022-12-05T14:38:28.979Z"
   },
   {
    "duration": 20,
    "start_time": "2022-12-05T14:38:29.527Z"
   },
   {
    "duration": 48,
    "start_time": "2022-12-05T14:38:29.548Z"
   },
   {
    "duration": 34,
    "start_time": "2022-12-05T14:38:29.599Z"
   },
   {
    "duration": 30,
    "start_time": "2022-12-05T14:38:29.635Z"
   },
   {
    "duration": 4,
    "start_time": "2022-12-05T14:38:29.666Z"
   },
   {
    "duration": 11,
    "start_time": "2022-12-05T14:38:29.671Z"
   },
   {
    "duration": 4,
    "start_time": "2022-12-05T14:38:29.684Z"
   },
   {
    "duration": 6,
    "start_time": "2022-12-05T14:38:29.689Z"
   },
   {
    "duration": 4,
    "start_time": "2022-12-05T14:38:29.699Z"
   },
   {
    "duration": 36,
    "start_time": "2022-12-05T14:38:29.704Z"
   },
   {
    "duration": 9,
    "start_time": "2022-12-05T14:38:29.741Z"
   },
   {
    "duration": 28,
    "start_time": "2022-12-05T14:38:29.752Z"
   },
   {
    "duration": 12,
    "start_time": "2022-12-05T14:38:29.782Z"
   },
   {
    "duration": 21,
    "start_time": "2022-12-05T14:38:29.795Z"
   },
   {
    "duration": 18,
    "start_time": "2022-12-05T14:38:29.818Z"
   },
   {
    "duration": 3,
    "start_time": "2022-12-05T14:38:29.838Z"
   },
   {
    "duration": 11,
    "start_time": "2022-12-05T14:38:29.842Z"
   },
   {
    "duration": 23,
    "start_time": "2022-12-05T14:38:29.855Z"
   },
   {
    "duration": 5,
    "start_time": "2022-12-05T14:38:29.880Z"
   },
   {
    "duration": 16,
    "start_time": "2022-12-05T14:38:29.886Z"
   },
   {
    "duration": 12,
    "start_time": "2022-12-05T14:38:29.903Z"
   },
   {
    "duration": 23,
    "start_time": "2022-12-05T14:38:29.916Z"
   },
   {
    "duration": 9,
    "start_time": "2022-12-05T14:38:29.941Z"
   },
   {
    "duration": 930,
    "start_time": "2022-12-05T14:38:29.951Z"
   },
   {
    "duration": 0,
    "start_time": "2022-12-05T14:38:30.883Z"
   },
   {
    "duration": 0,
    "start_time": "2022-12-05T14:38:30.884Z"
   },
   {
    "duration": 0,
    "start_time": "2022-12-05T14:38:30.886Z"
   },
   {
    "duration": 19,
    "start_time": "2022-12-05T14:39:21.950Z"
   },
   {
    "duration": 1149,
    "start_time": "2022-12-05T14:39:39.158Z"
   },
   {
    "duration": 19,
    "start_time": "2022-12-05T14:40:51.392Z"
   },
   {
    "duration": 13,
    "start_time": "2022-12-05T14:44:18.861Z"
   },
   {
    "duration": 19,
    "start_time": "2022-12-05T14:44:26.572Z"
   },
   {
    "duration": 6,
    "start_time": "2022-12-05T14:45:04.814Z"
   },
   {
    "duration": 7,
    "start_time": "2022-12-05T14:45:21.856Z"
   },
   {
    "duration": 5,
    "start_time": "2022-12-05T14:45:24.609Z"
   },
   {
    "duration": 3,
    "start_time": "2022-12-05T14:45:33.278Z"
   },
   {
    "duration": 10,
    "start_time": "2022-12-05T14:45:57.046Z"
   },
   {
    "duration": 20,
    "start_time": "2022-12-05T14:46:19.143Z"
   },
   {
    "duration": 19,
    "start_time": "2022-12-05T14:46:30.014Z"
   },
   {
    "duration": 4,
    "start_time": "2022-12-05T14:46:35.658Z"
   },
   {
    "duration": 9,
    "start_time": "2022-12-05T14:47:10.461Z"
   },
   {
    "duration": 11,
    "start_time": "2022-12-05T14:47:49.658Z"
   },
   {
    "duration": 65,
    "start_time": "2022-12-05T14:49:41.604Z"
   },
   {
    "duration": 8,
    "start_time": "2022-12-05T14:50:01.946Z"
   },
   {
    "duration": 70,
    "start_time": "2022-12-05T14:51:14.006Z"
   },
   {
    "duration": 84,
    "start_time": "2022-12-05T14:55:36.713Z"
   },
   {
    "duration": 8,
    "start_time": "2022-12-05T14:55:42.623Z"
   },
   {
    "duration": 411,
    "start_time": "2022-12-05T14:55:48.599Z"
   },
   {
    "duration": 7,
    "start_time": "2022-12-05T14:56:01.781Z"
   },
   {
    "duration": 7,
    "start_time": "2022-12-05T14:56:10.607Z"
   },
   {
    "duration": 9,
    "start_time": "2022-12-05T14:56:30.482Z"
   },
   {
    "duration": 20,
    "start_time": "2022-12-05T14:56:48.267Z"
   },
   {
    "duration": 7,
    "start_time": "2022-12-05T14:57:20.319Z"
   },
   {
    "duration": 27,
    "start_time": "2022-12-05T14:59:06.136Z"
   },
   {
    "duration": 20,
    "start_time": "2022-12-05T15:00:12.814Z"
   },
   {
    "duration": 20,
    "start_time": "2022-12-05T15:01:11.956Z"
   },
   {
    "duration": 18,
    "start_time": "2022-12-05T15:03:06.798Z"
   },
   {
    "duration": 19,
    "start_time": "2022-12-05T15:04:41.492Z"
   },
   {
    "duration": 12,
    "start_time": "2022-12-05T15:05:49.410Z"
   },
   {
    "duration": 5,
    "start_time": "2022-12-05T15:08:42.161Z"
   },
   {
    "duration": 5,
    "start_time": "2022-12-05T15:09:09.043Z"
   },
   {
    "duration": 8,
    "start_time": "2022-12-05T15:10:50.889Z"
   },
   {
    "duration": 5,
    "start_time": "2022-12-05T15:19:38.444Z"
   },
   {
    "duration": 16,
    "start_time": "2022-12-05T15:21:49.298Z"
   },
   {
    "duration": 18,
    "start_time": "2022-12-05T15:24:33.640Z"
   },
   {
    "duration": 22,
    "start_time": "2022-12-05T15:24:51.590Z"
   },
   {
    "duration": 18,
    "start_time": "2022-12-05T15:25:02.063Z"
   },
   {
    "duration": 22,
    "start_time": "2022-12-05T15:36:18.280Z"
   },
   {
    "duration": 19,
    "start_time": "2022-12-05T15:38:07.846Z"
   },
   {
    "duration": 19,
    "start_time": "2022-12-05T15:38:15.011Z"
   },
   {
    "duration": 10,
    "start_time": "2022-12-05T15:39:24.370Z"
   },
   {
    "duration": 20,
    "start_time": "2022-12-05T15:42:30.725Z"
   },
   {
    "duration": 19,
    "start_time": "2022-12-05T15:43:22.302Z"
   },
   {
    "duration": 25,
    "start_time": "2022-12-05T15:54:34.057Z"
   },
   {
    "duration": 25,
    "start_time": "2022-12-05T15:54:38.787Z"
   },
   {
    "duration": 23,
    "start_time": "2022-12-05T16:06:37.012Z"
   },
   {
    "duration": 18,
    "start_time": "2022-12-05T16:06:48.102Z"
   },
   {
    "duration": 20,
    "start_time": "2022-12-05T16:07:47.746Z"
   },
   {
    "duration": 18,
    "start_time": "2022-12-05T16:07:56.851Z"
   },
   {
    "duration": 20,
    "start_time": "2022-12-05T16:08:14.687Z"
   },
   {
    "duration": 708,
    "start_time": "2022-12-05T20:03:34.583Z"
   },
   {
    "duration": 21,
    "start_time": "2022-12-05T20:03:35.293Z"
   },
   {
    "duration": 15,
    "start_time": "2022-12-05T20:03:35.315Z"
   },
   {
    "duration": 9,
    "start_time": "2022-12-05T20:03:35.331Z"
   },
   {
    "duration": 30,
    "start_time": "2022-12-05T20:03:35.341Z"
   },
   {
    "duration": 3,
    "start_time": "2022-12-05T20:03:35.373Z"
   },
   {
    "duration": 8,
    "start_time": "2022-12-05T20:03:35.398Z"
   },
   {
    "duration": 5,
    "start_time": "2022-12-05T20:03:35.408Z"
   },
   {
    "duration": 26,
    "start_time": "2022-12-05T20:03:35.415Z"
   },
   {
    "duration": 12,
    "start_time": "2022-12-05T20:03:35.444Z"
   },
   {
    "duration": 45,
    "start_time": "2022-12-05T20:03:35.457Z"
   },
   {
    "duration": 9,
    "start_time": "2022-12-05T20:03:35.503Z"
   },
   {
    "duration": 8,
    "start_time": "2022-12-05T20:03:35.513Z"
   },
   {
    "duration": 13,
    "start_time": "2022-12-05T20:03:35.522Z"
   },
   {
    "duration": 25,
    "start_time": "2022-12-05T20:03:35.536Z"
   },
   {
    "duration": 15,
    "start_time": "2022-12-05T20:03:35.562Z"
   },
   {
    "duration": 3,
    "start_time": "2022-12-05T20:03:35.578Z"
   },
   {
    "duration": 9,
    "start_time": "2022-12-05T20:03:35.597Z"
   },
   {
    "duration": 14,
    "start_time": "2022-12-05T20:03:35.607Z"
   },
   {
    "duration": 8,
    "start_time": "2022-12-05T20:03:35.622Z"
   },
   {
    "duration": 16,
    "start_time": "2022-12-05T20:03:35.632Z"
   },
   {
    "duration": 389,
    "start_time": "2022-12-05T20:03:35.650Z"
   },
   {
    "duration": 10,
    "start_time": "2022-12-05T20:03:36.041Z"
   },
   {
    "duration": 22,
    "start_time": "2022-12-05T20:03:36.053Z"
   },
   {
    "duration": 100,
    "start_time": "2022-12-05T20:03:36.076Z"
   },
   {
    "duration": 0,
    "start_time": "2022-12-05T20:03:36.178Z"
   },
   {
    "duration": 0,
    "start_time": "2022-12-05T20:03:36.179Z"
   },
   {
    "duration": 18,
    "start_time": "2022-12-05T20:06:13.350Z"
   },
   {
    "duration": 18,
    "start_time": "2022-12-05T20:06:25.190Z"
   },
   {
    "duration": 4,
    "start_time": "2022-12-05T20:06:33.587Z"
   },
   {
    "duration": 648,
    "start_time": "2022-12-06T06:12:02.551Z"
   },
   {
    "duration": 24,
    "start_time": "2022-12-06T06:12:03.201Z"
   },
   {
    "duration": 15,
    "start_time": "2022-12-06T06:12:03.226Z"
   },
   {
    "duration": 10,
    "start_time": "2022-12-06T06:12:03.243Z"
   },
   {
    "duration": 52,
    "start_time": "2022-12-06T06:12:03.255Z"
   },
   {
    "duration": 4,
    "start_time": "2022-12-06T06:12:03.308Z"
   },
   {
    "duration": 11,
    "start_time": "2022-12-06T06:12:03.314Z"
   },
   {
    "duration": 5,
    "start_time": "2022-12-06T06:12:03.326Z"
   },
   {
    "duration": 9,
    "start_time": "2022-12-06T06:12:03.333Z"
   },
   {
    "duration": 4,
    "start_time": "2022-12-06T06:12:03.344Z"
   },
   {
    "duration": 60,
    "start_time": "2022-12-06T06:12:03.349Z"
   },
   {
    "duration": 8,
    "start_time": "2022-12-06T06:12:03.411Z"
   },
   {
    "duration": 5,
    "start_time": "2022-12-06T06:12:03.420Z"
   },
   {
    "duration": 14,
    "start_time": "2022-12-06T06:12:03.426Z"
   },
   {
    "duration": 17,
    "start_time": "2022-12-06T06:12:03.441Z"
   },
   {
    "duration": 38,
    "start_time": "2022-12-06T06:12:03.459Z"
   },
   {
    "duration": 3,
    "start_time": "2022-12-06T06:12:03.499Z"
   },
   {
    "duration": 15,
    "start_time": "2022-12-06T06:12:03.503Z"
   },
   {
    "duration": 9,
    "start_time": "2022-12-06T06:12:03.520Z"
   },
   {
    "duration": 6,
    "start_time": "2022-12-06T06:12:03.530Z"
   },
   {
    "duration": 12,
    "start_time": "2022-12-06T06:12:03.538Z"
   },
   {
    "duration": 140,
    "start_time": "2022-12-06T06:12:35.772Z"
   },
   {
    "duration": 27,
    "start_time": "2022-12-06T06:12:47.160Z"
   },
   {
    "duration": 54,
    "start_time": "2022-12-06T10:17:08.689Z"
   },
   {
    "duration": 928,
    "start_time": "2022-12-06T10:17:30.488Z"
   },
   {
    "duration": 36,
    "start_time": "2022-12-06T10:17:38.618Z"
   },
   {
    "duration": 32,
    "start_time": "2022-12-06T10:18:12.981Z"
   },
   {
    "duration": 4,
    "start_time": "2022-12-06T10:18:34.768Z"
   },
   {
    "duration": 8,
    "start_time": "2022-12-06T10:18:39.638Z"
   },
   {
    "duration": 35,
    "start_time": "2022-12-06T10:18:43.589Z"
   },
   {
    "duration": 4,
    "start_time": "2022-12-06T10:18:48.700Z"
   },
   {
    "duration": 11,
    "start_time": "2022-12-06T10:18:54.713Z"
   },
   {
    "duration": 25,
    "start_time": "2022-12-06T10:19:04.477Z"
   },
   {
    "duration": 539,
    "start_time": "2022-12-06T13:33:11.236Z"
   },
   {
    "duration": 24,
    "start_time": "2022-12-06T13:33:11.777Z"
   },
   {
    "duration": 15,
    "start_time": "2022-12-06T13:33:11.802Z"
   },
   {
    "duration": 10,
    "start_time": "2022-12-06T13:33:11.819Z"
   },
   {
    "duration": 34,
    "start_time": "2022-12-06T13:33:11.830Z"
   },
   {
    "duration": 4,
    "start_time": "2022-12-06T13:33:11.866Z"
   },
   {
    "duration": 13,
    "start_time": "2022-12-06T13:33:11.872Z"
   },
   {
    "duration": 26,
    "start_time": "2022-12-06T13:33:11.887Z"
   },
   {
    "duration": 10,
    "start_time": "2022-12-06T13:33:11.915Z"
   },
   {
    "duration": 5,
    "start_time": "2022-12-06T13:33:11.929Z"
   },
   {
    "duration": 37,
    "start_time": "2022-12-06T13:33:11.936Z"
   },
   {
    "duration": 9,
    "start_time": "2022-12-06T13:33:11.975Z"
   },
   {
    "duration": 35,
    "start_time": "2022-12-06T13:33:11.986Z"
   },
   {
    "duration": 20,
    "start_time": "2022-12-06T13:33:12.022Z"
   },
   {
    "duration": 35,
    "start_time": "2022-12-06T13:33:12.044Z"
   },
   {
    "duration": 18,
    "start_time": "2022-12-06T13:33:12.081Z"
   },
   {
    "duration": 5,
    "start_time": "2022-12-06T13:33:12.101Z"
   },
   {
    "duration": 33,
    "start_time": "2022-12-06T13:33:12.107Z"
   },
   {
    "duration": 31,
    "start_time": "2022-12-06T13:33:12.142Z"
   },
   {
    "duration": 14,
    "start_time": "2022-12-06T13:33:12.175Z"
   },
   {
    "duration": 41,
    "start_time": "2022-12-06T13:33:12.191Z"
   },
   {
    "duration": 470,
    "start_time": "2022-12-06T13:33:12.234Z"
   },
   {
    "duration": 35,
    "start_time": "2022-12-06T13:33:12.706Z"
   },
   {
    "duration": 16,
    "start_time": "2022-12-06T13:33:12.743Z"
   },
   {
    "duration": 29,
    "start_time": "2022-12-06T13:33:12.761Z"
   },
   {
    "duration": 36,
    "start_time": "2022-12-06T13:33:12.792Z"
   },
   {
    "duration": 34,
    "start_time": "2022-12-06T13:33:12.830Z"
   },
   {
    "duration": 5,
    "start_time": "2022-12-06T13:33:12.868Z"
   }
  ],
  "colab": {
   "name": "dpp_template_part2.ipynb",
   "provenance": []
  },
  "kernelspec": {
   "display_name": "Python 3 (ipykernel)",
   "language": "python",
   "name": "python3"
  },
  "language_info": {
   "codemirror_mode": {
    "name": "ipython",
    "version": 3
   },
   "file_extension": ".py",
   "mimetype": "text/x-python",
   "name": "python",
   "nbconvert_exporter": "python",
   "pygments_lexer": "ipython3",
   "version": "3.9.12"
  },
  "toc": {
   "base_numbering": 1,
   "nav_menu": {},
   "number_sections": true,
   "sideBar": true,
   "skip_h1_title": true,
   "title_cell": "Table of Contents",
   "title_sidebar": "Contents",
   "toc_cell": false,
   "toc_position": {},
   "toc_section_display": true,
   "toc_window_display": false
  }
 },
 "nbformat": 4,
 "nbformat_minor": 5
}

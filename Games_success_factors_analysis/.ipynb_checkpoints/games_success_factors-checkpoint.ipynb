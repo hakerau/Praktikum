{
 "cells": [
  {
   "cell_type": "markdown",
   "metadata": {
    "tags": []
   },
   "source": [
    "# Исследование данных о компьютерных играх\n",
    "\n",
    "Из открытых источников доступны исторические данные о продажах игр, оценки пользователей и экспертов, жанры и платформы. Нужно выявить определяющие успешность игры закономерности. Это позволит сделать ставку на потенциально популярный продукт и спланировать рекламные кампании."
   ]
  },
  {
   "cell_type": "markdown",
   "metadata": {},
   "source": [
    "**Цель:** выявить определяющие успешность игры закономерности.\n",
    "\n",
    "**План работы:**\n",
    "    - изучить данные, проверить на предмет пропусков, дубликатов\n",
    "    - провести исследовательский анализ данных, понять, какой период стоит взять для анализа, изучить популярные жанры, платформы и объемы продаж по ним\n",
    "    - рассмотреть предпочтения пользователей разных регионов\n",
    "    - проверить предположения о равенстве рейтингов у платформ Xbox One и PC, а также у жанров Action и Sports.\n",
    "    \n",
    "Также принимаем во внимание, что данные за 2016 год могут быть не полными."
   ]
  },
  {
   "cell_type": "markdown",
   "metadata": {
    "tags": []
   },
   "source": [
    "### 1. Откроем файл с данными и изучим общую информацию. "
   ]
  },
  {
   "cell_type": "code",
   "execution_count": 121,
   "metadata": {},
   "outputs": [],
   "source": [
    "import pandas as pd\n",
    "import numpy as np\n",
    "import matplotlib.pyplot as plt\n",
    "import pandas as pd\n",
    "import seaborn as sns\n",
    "from scipy import stats as st"
   ]
  },
  {
   "cell_type": "code",
   "execution_count": 122,
   "metadata": {},
   "outputs": [
    {
     "data": {
      "text/html": [
       "<div>\n",
       "<style scoped>\n",
       "    .dataframe tbody tr th:only-of-type {\n",
       "        vertical-align: middle;\n",
       "    }\n",
       "\n",
       "    .dataframe tbody tr th {\n",
       "        vertical-align: top;\n",
       "    }\n",
       "\n",
       "    .dataframe thead th {\n",
       "        text-align: right;\n",
       "    }\n",
       "</style>\n",
       "<table border=\"1\" class=\"dataframe\">\n",
       "  <thead>\n",
       "    <tr style=\"text-align: right;\">\n",
       "      <th></th>\n",
       "      <th>Name</th>\n",
       "      <th>Platform</th>\n",
       "      <th>Year_of_Release</th>\n",
       "      <th>Genre</th>\n",
       "      <th>NA_sales</th>\n",
       "      <th>EU_sales</th>\n",
       "      <th>JP_sales</th>\n",
       "      <th>Other_sales</th>\n",
       "      <th>Critic_Score</th>\n",
       "      <th>User_Score</th>\n",
       "      <th>Rating</th>\n",
       "    </tr>\n",
       "  </thead>\n",
       "  <tbody>\n",
       "    <tr>\n",
       "      <th>0</th>\n",
       "      <td>Wii Sports</td>\n",
       "      <td>Wii</td>\n",
       "      <td>2006.0</td>\n",
       "      <td>Sports</td>\n",
       "      <td>41.36</td>\n",
       "      <td>28.96</td>\n",
       "      <td>3.77</td>\n",
       "      <td>8.45</td>\n",
       "      <td>76.0</td>\n",
       "      <td>8</td>\n",
       "      <td>E</td>\n",
       "    </tr>\n",
       "    <tr>\n",
       "      <th>1</th>\n",
       "      <td>Super Mario Bros.</td>\n",
       "      <td>NES</td>\n",
       "      <td>1985.0</td>\n",
       "      <td>Platform</td>\n",
       "      <td>29.08</td>\n",
       "      <td>3.58</td>\n",
       "      <td>6.81</td>\n",
       "      <td>0.77</td>\n",
       "      <td>NaN</td>\n",
       "      <td>NaN</td>\n",
       "      <td>NaN</td>\n",
       "    </tr>\n",
       "    <tr>\n",
       "      <th>2</th>\n",
       "      <td>Mario Kart Wii</td>\n",
       "      <td>Wii</td>\n",
       "      <td>2008.0</td>\n",
       "      <td>Racing</td>\n",
       "      <td>15.68</td>\n",
       "      <td>12.76</td>\n",
       "      <td>3.79</td>\n",
       "      <td>3.29</td>\n",
       "      <td>82.0</td>\n",
       "      <td>8.3</td>\n",
       "      <td>E</td>\n",
       "    </tr>\n",
       "    <tr>\n",
       "      <th>3</th>\n",
       "      <td>Wii Sports Resort</td>\n",
       "      <td>Wii</td>\n",
       "      <td>2009.0</td>\n",
       "      <td>Sports</td>\n",
       "      <td>15.61</td>\n",
       "      <td>10.93</td>\n",
       "      <td>3.28</td>\n",
       "      <td>2.95</td>\n",
       "      <td>80.0</td>\n",
       "      <td>8</td>\n",
       "      <td>E</td>\n",
       "    </tr>\n",
       "    <tr>\n",
       "      <th>4</th>\n",
       "      <td>Pokemon Red/Pokemon Blue</td>\n",
       "      <td>GB</td>\n",
       "      <td>1996.0</td>\n",
       "      <td>Role-Playing</td>\n",
       "      <td>11.27</td>\n",
       "      <td>8.89</td>\n",
       "      <td>10.22</td>\n",
       "      <td>1.00</td>\n",
       "      <td>NaN</td>\n",
       "      <td>NaN</td>\n",
       "      <td>NaN</td>\n",
       "    </tr>\n",
       "  </tbody>\n",
       "</table>\n",
       "</div>"
      ],
      "text/plain": [
       "                       Name Platform  Year_of_Release         Genre  NA_sales  \\\n",
       "0                Wii Sports      Wii           2006.0        Sports     41.36   \n",
       "1         Super Mario Bros.      NES           1985.0      Platform     29.08   \n",
       "2            Mario Kart Wii      Wii           2008.0        Racing     15.68   \n",
       "3         Wii Sports Resort      Wii           2009.0        Sports     15.61   \n",
       "4  Pokemon Red/Pokemon Blue       GB           1996.0  Role-Playing     11.27   \n",
       "\n",
       "   EU_sales  JP_sales  Other_sales  Critic_Score User_Score Rating  \n",
       "0     28.96      3.77         8.45          76.0          8      E  \n",
       "1      3.58      6.81         0.77           NaN        NaN    NaN  \n",
       "2     12.76      3.79         3.29          82.0        8.3      E  \n",
       "3     10.93      3.28         2.95          80.0          8      E  \n",
       "4      8.89     10.22         1.00           NaN        NaN    NaN  "
      ]
     },
     "execution_count": 122,
     "metadata": {},
     "output_type": "execute_result"
    }
   ],
   "source": [
    "data.head()"
   ]
  },
  {
   "cell_type": "code",
   "execution_count": 123,
   "metadata": {},
   "outputs": [
    {
     "name": "stdout",
     "output_type": "stream",
     "text": [
      "<class 'pandas.core.frame.DataFrame'>\n",
      "RangeIndex: 16715 entries, 0 to 16714\n",
      "Data columns (total 11 columns):\n",
      " #   Column           Non-Null Count  Dtype  \n",
      "---  ------           --------------  -----  \n",
      " 0   Name             16713 non-null  object \n",
      " 1   Platform         16715 non-null  object \n",
      " 2   Year_of_Release  16446 non-null  float64\n",
      " 3   Genre            16713 non-null  object \n",
      " 4   NA_sales         16715 non-null  float64\n",
      " 5   EU_sales         16715 non-null  float64\n",
      " 6   JP_sales         16715 non-null  float64\n",
      " 7   Other_sales      16715 non-null  float64\n",
      " 8   Critic_Score     8137 non-null   float64\n",
      " 9   User_Score       10014 non-null  object \n",
      " 10  Rating           9949 non-null   object \n",
      "dtypes: float64(6), object(5)\n",
      "memory usage: 1.4+ MB\n"
     ]
    }
   ],
   "source": [
    "data.info()"
   ]
  },
  {
   "cell_type": "code",
   "execution_count": 124,
   "metadata": {},
   "outputs": [
    {
     "data": {
      "text/html": [
       "<div>\n",
       "<style scoped>\n",
       "    .dataframe tbody tr th:only-of-type {\n",
       "        vertical-align: middle;\n",
       "    }\n",
       "\n",
       "    .dataframe tbody tr th {\n",
       "        vertical-align: top;\n",
       "    }\n",
       "\n",
       "    .dataframe thead th {\n",
       "        text-align: right;\n",
       "    }\n",
       "</style>\n",
       "<table border=\"1\" class=\"dataframe\">\n",
       "  <thead>\n",
       "    <tr style=\"text-align: right;\">\n",
       "      <th></th>\n",
       "      <th>Year_of_Release</th>\n",
       "      <th>NA_sales</th>\n",
       "      <th>EU_sales</th>\n",
       "      <th>JP_sales</th>\n",
       "      <th>Other_sales</th>\n",
       "      <th>Critic_Score</th>\n",
       "    </tr>\n",
       "  </thead>\n",
       "  <tbody>\n",
       "    <tr>\n",
       "      <th>count</th>\n",
       "      <td>16446.000000</td>\n",
       "      <td>16715.000000</td>\n",
       "      <td>16715.000000</td>\n",
       "      <td>16715.000000</td>\n",
       "      <td>16715.000000</td>\n",
       "      <td>8137.000000</td>\n",
       "    </tr>\n",
       "    <tr>\n",
       "      <th>mean</th>\n",
       "      <td>2006.484616</td>\n",
       "      <td>0.263377</td>\n",
       "      <td>0.145060</td>\n",
       "      <td>0.077617</td>\n",
       "      <td>0.047342</td>\n",
       "      <td>68.967679</td>\n",
       "    </tr>\n",
       "    <tr>\n",
       "      <th>std</th>\n",
       "      <td>5.877050</td>\n",
       "      <td>0.813604</td>\n",
       "      <td>0.503339</td>\n",
       "      <td>0.308853</td>\n",
       "      <td>0.186731</td>\n",
       "      <td>13.938165</td>\n",
       "    </tr>\n",
       "    <tr>\n",
       "      <th>min</th>\n",
       "      <td>1980.000000</td>\n",
       "      <td>0.000000</td>\n",
       "      <td>0.000000</td>\n",
       "      <td>0.000000</td>\n",
       "      <td>0.000000</td>\n",
       "      <td>13.000000</td>\n",
       "    </tr>\n",
       "    <tr>\n",
       "      <th>25%</th>\n",
       "      <td>2003.000000</td>\n",
       "      <td>0.000000</td>\n",
       "      <td>0.000000</td>\n",
       "      <td>0.000000</td>\n",
       "      <td>0.000000</td>\n",
       "      <td>60.000000</td>\n",
       "    </tr>\n",
       "    <tr>\n",
       "      <th>50%</th>\n",
       "      <td>2007.000000</td>\n",
       "      <td>0.080000</td>\n",
       "      <td>0.020000</td>\n",
       "      <td>0.000000</td>\n",
       "      <td>0.010000</td>\n",
       "      <td>71.000000</td>\n",
       "    </tr>\n",
       "    <tr>\n",
       "      <th>75%</th>\n",
       "      <td>2010.000000</td>\n",
       "      <td>0.240000</td>\n",
       "      <td>0.110000</td>\n",
       "      <td>0.040000</td>\n",
       "      <td>0.030000</td>\n",
       "      <td>79.000000</td>\n",
       "    </tr>\n",
       "    <tr>\n",
       "      <th>max</th>\n",
       "      <td>2016.000000</td>\n",
       "      <td>41.360000</td>\n",
       "      <td>28.960000</td>\n",
       "      <td>10.220000</td>\n",
       "      <td>10.570000</td>\n",
       "      <td>98.000000</td>\n",
       "    </tr>\n",
       "  </tbody>\n",
       "</table>\n",
       "</div>"
      ],
      "text/plain": [
       "       Year_of_Release      NA_sales      EU_sales      JP_sales  \\\n",
       "count     16446.000000  16715.000000  16715.000000  16715.000000   \n",
       "mean       2006.484616      0.263377      0.145060      0.077617   \n",
       "std           5.877050      0.813604      0.503339      0.308853   \n",
       "min        1980.000000      0.000000      0.000000      0.000000   \n",
       "25%        2003.000000      0.000000      0.000000      0.000000   \n",
       "50%        2007.000000      0.080000      0.020000      0.000000   \n",
       "75%        2010.000000      0.240000      0.110000      0.040000   \n",
       "max        2016.000000     41.360000     28.960000     10.220000   \n",
       "\n",
       "        Other_sales  Critic_Score  \n",
       "count  16715.000000   8137.000000  \n",
       "mean       0.047342     68.967679  \n",
       "std        0.186731     13.938165  \n",
       "min        0.000000     13.000000  \n",
       "25%        0.000000     60.000000  \n",
       "50%        0.010000     71.000000  \n",
       "75%        0.030000     79.000000  \n",
       "max       10.570000     98.000000  "
      ]
     },
     "execution_count": 124,
     "metadata": {},
     "output_type": "execute_result"
    }
   ],
   "source": [
    "data.describe()"
   ]
  },
  {
   "cell_type": "markdown",
   "metadata": {},
   "source": [
    "Изучив общую информацию видим, что:\n",
    "\n",
    "   - датафрейм содержит данные о продаже игр с 1980 по 2016 год\n",
    "   - в данных есть некоторое количество пропусков в колонках `Name`, `Year_of_Release`, `Genre`, `Critic_Score`, `User_Score`, `Rating`\n",
    "   - выбросов не обнаружено; все значения выглядят вполне реальными"
   ]
  },
  {
   "cell_type": "markdown",
   "metadata": {},
   "source": [
    "### 2. Подготовим данные к анализу"
   ]
  },
  {
   "cell_type": "code",
   "execution_count": 125,
   "metadata": {},
   "outputs": [],
   "source": [
    "# приведем названия столбцов к нижнему регистру\n",
    "data.columns = [x.lower() for x in data.columns]"
   ]
  },
  {
   "cell_type": "markdown",
   "metadata": {},
   "source": [
    "Обработаем проспуски в колонках."
   ]
  },
  {
   "cell_type": "code",
   "execution_count": 126,
   "metadata": {},
   "outputs": [
    {
     "data": {
      "text/plain": [
       "name                  2\n",
       "platform              0\n",
       "year_of_release     269\n",
       "genre                 2\n",
       "na_sales              0\n",
       "eu_sales              0\n",
       "jp_sales              0\n",
       "other_sales           0\n",
       "critic_score       8578\n",
       "user_score         6701\n",
       "rating             6766\n",
       "dtype: int64"
      ]
     },
     "execution_count": 126,
     "metadata": {},
     "output_type": "execute_result"
    }
   ],
   "source": [
    "# Подсчитаем количество пропусков\n",
    "data.isna().sum()"
   ]
  },
  {
   "cell_type": "markdown",
   "metadata": {},
   "source": [
    "Можем удалить пропуски в колонке `name`, потому что их всего 2, это не повлияет на дальнейший анализ. Скорее всего таким образом мы также избавимся от пропусков в колонке `genre`. Проспуски, скорее всего, появились в результате какой-то технической ошибки при сборе данных или при выгрузке, лучше сообщить об этом разработке."
   ]
  },
  {
   "cell_type": "code",
   "execution_count": 127,
   "metadata": {},
   "outputs": [
    {
     "data": {
      "text/html": [
       "<div>\n",
       "<style scoped>\n",
       "    .dataframe tbody tr th:only-of-type {\n",
       "        vertical-align: middle;\n",
       "    }\n",
       "\n",
       "    .dataframe tbody tr th {\n",
       "        vertical-align: top;\n",
       "    }\n",
       "\n",
       "    .dataframe thead th {\n",
       "        text-align: right;\n",
       "    }\n",
       "</style>\n",
       "<table border=\"1\" class=\"dataframe\">\n",
       "  <thead>\n",
       "    <tr style=\"text-align: right;\">\n",
       "      <th></th>\n",
       "      <th>name</th>\n",
       "      <th>platform</th>\n",
       "      <th>year_of_release</th>\n",
       "      <th>genre</th>\n",
       "      <th>na_sales</th>\n",
       "      <th>eu_sales</th>\n",
       "      <th>jp_sales</th>\n",
       "      <th>other_sales</th>\n",
       "      <th>critic_score</th>\n",
       "      <th>user_score</th>\n",
       "      <th>rating</th>\n",
       "    </tr>\n",
       "  </thead>\n",
       "  <tbody>\n",
       "    <tr>\n",
       "      <th>659</th>\n",
       "      <td>NaN</td>\n",
       "      <td>GEN</td>\n",
       "      <td>1993.0</td>\n",
       "      <td>NaN</td>\n",
       "      <td>1.78</td>\n",
       "      <td>0.53</td>\n",
       "      <td>0.00</td>\n",
       "      <td>0.08</td>\n",
       "      <td>NaN</td>\n",
       "      <td>NaN</td>\n",
       "      <td>NaN</td>\n",
       "    </tr>\n",
       "    <tr>\n",
       "      <th>14244</th>\n",
       "      <td>NaN</td>\n",
       "      <td>GEN</td>\n",
       "      <td>1993.0</td>\n",
       "      <td>NaN</td>\n",
       "      <td>0.00</td>\n",
       "      <td>0.00</td>\n",
       "      <td>0.03</td>\n",
       "      <td>0.00</td>\n",
       "      <td>NaN</td>\n",
       "      <td>NaN</td>\n",
       "      <td>NaN</td>\n",
       "    </tr>\n",
       "  </tbody>\n",
       "</table>\n",
       "</div>"
      ],
      "text/plain": [
       "      name platform  year_of_release genre  na_sales  eu_sales  jp_sales  \\\n",
       "659    NaN      GEN           1993.0   NaN      1.78      0.53      0.00   \n",
       "14244  NaN      GEN           1993.0   NaN      0.00      0.00      0.03   \n",
       "\n",
       "       other_sales  critic_score user_score rating  \n",
       "659           0.08           NaN        NaN    NaN  \n",
       "14244         0.00           NaN        NaN    NaN  "
      ]
     },
     "execution_count": 127,
     "metadata": {},
     "output_type": "execute_result"
    }
   ],
   "source": [
    "# посмотрим на данные с пропущенными значениями в столбце `name`\n",
    "data[data['name'].isna()]"
   ]
  },
  {
   "cell_type": "code",
   "execution_count": 128,
   "metadata": {},
   "outputs": [],
   "source": [
    "# удалим строки с пропущенными значениями в столбце `name`\n",
    "data = data.dropna(subset=['name'])"
   ]
  },
  {
   "cell_type": "markdown",
   "metadata": {},
   "source": [
    "Пропуски в колонке `year_of_release` можно также удалить, потому что их не много."
   ]
  },
  {
   "cell_type": "code",
   "execution_count": 129,
   "metadata": {},
   "outputs": [
    {
     "data": {
      "text/plain": [
       "1.61"
      ]
     },
     "execution_count": 129,
     "metadata": {},
     "output_type": "execute_result"
    }
   ],
   "source": [
    "# подсчитаем долю пропусков\n",
    "(data['year_of_release'].isna().sum() / len(data) * 100).round(2)"
   ]
  },
  {
   "cell_type": "code",
   "execution_count": 130,
   "metadata": {},
   "outputs": [],
   "source": [
    "# удалим пропуски\n",
    "data = data.dropna(subset=['year_of_release'])"
   ]
  },
  {
   "cell_type": "markdown",
   "metadata": {},
   "source": [
    "Пропусков в столбцах `critic_score` и `user_score` достаточно много, их нельзя удалить."
   ]
  },
  {
   "cell_type": "code",
   "execution_count": 131,
   "metadata": {},
   "outputs": [
    {
     "data": {
      "text/plain": [
       "array([76., nan, 82., 80., 89., 58., 87., 91., 61., 97., 95., 77., 88.,\n",
       "       83., 94., 93., 85., 86., 98., 96., 90., 84., 73., 74., 78., 92.,\n",
       "       71., 72., 68., 62., 49., 67., 81., 66., 56., 79., 70., 59., 64.,\n",
       "       75., 60., 63., 69., 50., 25., 42., 44., 55., 48., 57., 29., 47.,\n",
       "       65., 54., 20., 53., 37., 38., 33., 52., 30., 32., 43., 45., 51.,\n",
       "       40., 46., 39., 34., 41., 36., 31., 27., 35., 26., 19., 28., 23.,\n",
       "       24., 21., 17., 13.])"
      ]
     },
     "execution_count": 131,
     "metadata": {},
     "output_type": "execute_result"
    }
   ],
   "source": [
    "# посмотрим на уникальные значения столбцов\n",
    "data.critic_score.unique()"
   ]
  },
  {
   "cell_type": "code",
   "execution_count": 132,
   "metadata": {},
   "outputs": [
    {
     "data": {
      "text/plain": [
       "array(['8', nan, '8.3', '8.5', '6.6', '8.4', '8.6', '7.7', '6.3', '7.4',\n",
       "       '8.2', '9', '7.9', '8.1', '8.7', '7.1', '3.4', '5.3', '4.8', '3.2',\n",
       "       '8.9', '6.4', '7.8', '7.5', '2.6', '7.2', '9.2', '7', '7.3', '4.3',\n",
       "       '7.6', '5.7', '5', '9.1', '6.5', 'tbd', '8.8', '6.9', '9.4', '6.8',\n",
       "       '6.1', '6.7', '5.4', '4', '4.9', '4.5', '9.3', '6.2', '4.2', '6',\n",
       "       '3.7', '4.1', '5.8', '5.6', '5.5', '4.4', '4.6', '5.9', '3.9',\n",
       "       '3.1', '2.9', '5.2', '3.3', '4.7', '5.1', '3.5', '2.5', '1.9', '3',\n",
       "       '2.7', '2.2', '2', '9.5', '2.1', '3.6', '2.8', '1.8', '3.8', '0',\n",
       "       '1.6', '9.6', '2.4', '1.7', '1.1', '0.3', '1.5', '0.7', '1.2',\n",
       "       '2.3', '0.5', '1.3', '0.2', '0.6', '1.4', '0.9', '1', '9.7'],\n",
       "      dtype=object)"
      ]
     },
     "execution_count": 132,
     "metadata": {},
     "output_type": "execute_result"
    }
   ],
   "source": [
    "data.user_score.unique()"
   ]
  },
  {
   "cell_type": "markdown",
   "metadata": {},
   "source": [
    "В колонке с оценками критиков нет 0 значений. Можно предположить, что отсутствующие значения это нули, но мы не можем быть уверены наверняка. Поэтому можем оставить значения NaN, так как оно может использоваться как числовое. В колонке с оценками пользователей есть нули. Проспуски могут означать, что оценки не были проставлены, но и технические причины исключать нельзя. \n",
    "\n",
    "При этом в колонке `user_score` также есть строковое значение **tbd**. Скорее всего это аббевиатура to be defined или to be done. Возможно пользователей еще не просили оценить игру. Можем заменить эти значения на NaN, так как точной оценки мы всё равно не знаем."
   ]
  },
  {
   "cell_type": "code",
   "execution_count": 133,
   "metadata": {},
   "outputs": [],
   "source": [
    "data['user_score'].replace('tbd', np.NaN, inplace=True)"
   ]
  },
  {
   "cell_type": "markdown",
   "metadata": {},
   "source": [
    "Пропуски в столбце `rating` мы также не можем заменить на точные значения, поэтому можем проставить **undefined**. Скорее всего рейтинг просто не был проставлен и категория не определена."
   ]
  },
  {
   "cell_type": "code",
   "execution_count": 134,
   "metadata": {},
   "outputs": [],
   "source": [
    "data['rating'].fillna('undefined', inplace=True)"
   ]
  },
  {
   "cell_type": "code",
   "execution_count": 135,
   "metadata": {},
   "outputs": [
    {
     "data": {
      "text/plain": [
       "name                  0\n",
       "platform              0\n",
       "year_of_release       0\n",
       "genre                 0\n",
       "na_sales              0\n",
       "eu_sales              0\n",
       "jp_sales              0\n",
       "other_sales           0\n",
       "critic_score       8461\n",
       "user_score         8981\n",
       "rating                0\n",
       "dtype: int64"
      ]
     },
     "execution_count": 135,
     "metadata": {},
     "output_type": "execute_result"
    }
   ],
   "source": [
    "#проверим еще раз количество пропусков\n",
    "data.isna().sum()"
   ]
  },
  {
   "cell_type": "markdown",
   "metadata": {},
   "source": [
    "Изменим типы данных в столбцах `year_of_release` на int, `user_score` на float, потому что год является целым числом, а оценка пользователя дробным."
   ]
  },
  {
   "cell_type": "code",
   "execution_count": 136,
   "metadata": {},
   "outputs": [
    {
     "name": "stdout",
     "output_type": "stream",
     "text": [
      "<class 'pandas.core.frame.DataFrame'>\n",
      "Int64Index: 16444 entries, 0 to 16714\n",
      "Data columns (total 11 columns):\n",
      " #   Column           Non-Null Count  Dtype  \n",
      "---  ------           --------------  -----  \n",
      " 0   name             16444 non-null  object \n",
      " 1   platform         16444 non-null  object \n",
      " 2   year_of_release  16444 non-null  int64  \n",
      " 3   genre            16444 non-null  object \n",
      " 4   na_sales         16444 non-null  float64\n",
      " 5   eu_sales         16444 non-null  float64\n",
      " 6   jp_sales         16444 non-null  float64\n",
      " 7   other_sales      16444 non-null  float64\n",
      " 8   critic_score     7983 non-null   float64\n",
      " 9   user_score       7463 non-null   float64\n",
      " 10  rating           16444 non-null  object \n",
      "dtypes: float64(6), int64(1), object(4)\n",
      "memory usage: 1.5+ MB\n"
     ]
    }
   ],
   "source": [
    "data['year_of_release'] = data.year_of_release.astype(int)\n",
    "data['user_score'] = data.user_score.astype(float)\n",
    "data.info()"
   ]
  },
  {
   "cell_type": "markdown",
   "metadata": {},
   "source": [
    "Посчитаем сумму продаж во всех регионах и добавим эту информацию в датафрейм."
   ]
  },
  {
   "cell_type": "code",
   "execution_count": 137,
   "metadata": {},
   "outputs": [],
   "source": [
    "data['total_sales'] = data['na_sales'] + data['eu_sales'] + data['jp_sales'] + data['other_sales']"
   ]
  },
  {
   "cell_type": "code",
   "execution_count": 138,
   "metadata": {},
   "outputs": [
    {
     "data": {
      "text/html": [
       "<div>\n",
       "<style scoped>\n",
       "    .dataframe tbody tr th:only-of-type {\n",
       "        vertical-align: middle;\n",
       "    }\n",
       "\n",
       "    .dataframe tbody tr th {\n",
       "        vertical-align: top;\n",
       "    }\n",
       "\n",
       "    .dataframe thead th {\n",
       "        text-align: right;\n",
       "    }\n",
       "</style>\n",
       "<table border=\"1\" class=\"dataframe\">\n",
       "  <thead>\n",
       "    <tr style=\"text-align: right;\">\n",
       "      <th></th>\n",
       "      <th>name</th>\n",
       "      <th>platform</th>\n",
       "      <th>year_of_release</th>\n",
       "      <th>genre</th>\n",
       "      <th>na_sales</th>\n",
       "      <th>eu_sales</th>\n",
       "      <th>jp_sales</th>\n",
       "      <th>other_sales</th>\n",
       "      <th>critic_score</th>\n",
       "      <th>user_score</th>\n",
       "      <th>rating</th>\n",
       "      <th>total_sales</th>\n",
       "    </tr>\n",
       "  </thead>\n",
       "  <tbody>\n",
       "    <tr>\n",
       "      <th>0</th>\n",
       "      <td>Wii Sports</td>\n",
       "      <td>Wii</td>\n",
       "      <td>2006</td>\n",
       "      <td>Sports</td>\n",
       "      <td>41.36</td>\n",
       "      <td>28.96</td>\n",
       "      <td>3.77</td>\n",
       "      <td>8.45</td>\n",
       "      <td>76.0</td>\n",
       "      <td>8.0</td>\n",
       "      <td>E</td>\n",
       "      <td>82.54</td>\n",
       "    </tr>\n",
       "    <tr>\n",
       "      <th>1</th>\n",
       "      <td>Super Mario Bros.</td>\n",
       "      <td>NES</td>\n",
       "      <td>1985</td>\n",
       "      <td>Platform</td>\n",
       "      <td>29.08</td>\n",
       "      <td>3.58</td>\n",
       "      <td>6.81</td>\n",
       "      <td>0.77</td>\n",
       "      <td>NaN</td>\n",
       "      <td>NaN</td>\n",
       "      <td>undefined</td>\n",
       "      <td>40.24</td>\n",
       "    </tr>\n",
       "    <tr>\n",
       "      <th>2</th>\n",
       "      <td>Mario Kart Wii</td>\n",
       "      <td>Wii</td>\n",
       "      <td>2008</td>\n",
       "      <td>Racing</td>\n",
       "      <td>15.68</td>\n",
       "      <td>12.76</td>\n",
       "      <td>3.79</td>\n",
       "      <td>3.29</td>\n",
       "      <td>82.0</td>\n",
       "      <td>8.3</td>\n",
       "      <td>E</td>\n",
       "      <td>35.52</td>\n",
       "    </tr>\n",
       "    <tr>\n",
       "      <th>3</th>\n",
       "      <td>Wii Sports Resort</td>\n",
       "      <td>Wii</td>\n",
       "      <td>2009</td>\n",
       "      <td>Sports</td>\n",
       "      <td>15.61</td>\n",
       "      <td>10.93</td>\n",
       "      <td>3.28</td>\n",
       "      <td>2.95</td>\n",
       "      <td>80.0</td>\n",
       "      <td>8.0</td>\n",
       "      <td>E</td>\n",
       "      <td>32.77</td>\n",
       "    </tr>\n",
       "    <tr>\n",
       "      <th>4</th>\n",
       "      <td>Pokemon Red/Pokemon Blue</td>\n",
       "      <td>GB</td>\n",
       "      <td>1996</td>\n",
       "      <td>Role-Playing</td>\n",
       "      <td>11.27</td>\n",
       "      <td>8.89</td>\n",
       "      <td>10.22</td>\n",
       "      <td>1.00</td>\n",
       "      <td>NaN</td>\n",
       "      <td>NaN</td>\n",
       "      <td>undefined</td>\n",
       "      <td>31.38</td>\n",
       "    </tr>\n",
       "  </tbody>\n",
       "</table>\n",
       "</div>"
      ],
      "text/plain": [
       "                       name platform  year_of_release         genre  na_sales  \\\n",
       "0                Wii Sports      Wii             2006        Sports     41.36   \n",
       "1         Super Mario Bros.      NES             1985      Platform     29.08   \n",
       "2            Mario Kart Wii      Wii             2008        Racing     15.68   \n",
       "3         Wii Sports Resort      Wii             2009        Sports     15.61   \n",
       "4  Pokemon Red/Pokemon Blue       GB             1996  Role-Playing     11.27   \n",
       "\n",
       "   eu_sales  jp_sales  other_sales  critic_score  user_score     rating  \\\n",
       "0     28.96      3.77         8.45          76.0         8.0          E   \n",
       "1      3.58      6.81         0.77           NaN         NaN  undefined   \n",
       "2     12.76      3.79         3.29          82.0         8.3          E   \n",
       "3     10.93      3.28         2.95          80.0         8.0          E   \n",
       "4      8.89     10.22         1.00           NaN         NaN  undefined   \n",
       "\n",
       "   total_sales  \n",
       "0        82.54  \n",
       "1        40.24  \n",
       "2        35.52  \n",
       "3        32.77  \n",
       "4        31.38  "
      ]
     },
     "execution_count": 138,
     "metadata": {},
     "output_type": "execute_result"
    }
   ],
   "source": [
    "data.head()"
   ]
  },
  {
   "cell_type": "markdown",
   "metadata": {},
   "source": [
    "**Вывод:**\n",
    "\n",
    "Во время предобработки данных были замечены и обработаны пропущенные значения в следующих столбцах:\n",
    "\n",
    "   - name - строки с пропущенными значениями удалены (было всего 2 строки)\n",
    "   - year_of_release - строки с пропущенными значенями были удалены (269 строк)\n",
    "   - critic_score - пропуски были оставлены, так как не известно точное значение\n",
    "   - user_score - пропущенные значения также оставлены, значения 'tbd' заменены на NaN.\n",
    "   - rating - пропуски заменены на 'undefined'\n",
    "    \n",
    "Также в данные была добавлена информация о суммарных продажах во всех регионах - создана колонка `total_sales`"
   ]
  },
  {
   "cell_type": "code",
   "execution_count": 139,
   "metadata": {},
   "outputs": [
    {
     "data": {
      "text/plain": [
       "0"
      ]
     },
     "execution_count": 139,
     "metadata": {},
     "output_type": "execute_result"
    }
   ],
   "source": [
    "# проверим, есть ли в данных дублирующиеся строки\n",
    "data.duplicated().sum()"
   ]
  },
  {
   "cell_type": "markdown",
   "metadata": {},
   "source": [
    "### 3. Проведем исследовательский анализ данных"
   ]
  },
  {
   "cell_type": "markdown",
   "metadata": {},
   "source": [
    "Посмотрим, сколько игр выпускалось в разные годы. Возможно стоит взять для анализа данные не за весь период."
   ]
  },
  {
   "cell_type": "code",
   "execution_count": 140,
   "metadata": {},
   "outputs": [
    {
     "data": {
      "text/html": [
       "<div>\n",
       "<style scoped>\n",
       "    .dataframe tbody tr th:only-of-type {\n",
       "        vertical-align: middle;\n",
       "    }\n",
       "\n",
       "    .dataframe tbody tr th {\n",
       "        vertical-align: top;\n",
       "    }\n",
       "\n",
       "    .dataframe thead th {\n",
       "        text-align: right;\n",
       "    }\n",
       "</style>\n",
       "<table border=\"1\" class=\"dataframe\">\n",
       "  <thead>\n",
       "    <tr style=\"text-align: right;\">\n",
       "      <th></th>\n",
       "      <th>name</th>\n",
       "    </tr>\n",
       "    <tr>\n",
       "      <th>year_of_release</th>\n",
       "      <th></th>\n",
       "    </tr>\n",
       "  </thead>\n",
       "  <tbody>\n",
       "    <tr>\n",
       "      <th>1980</th>\n",
       "      <td>9</td>\n",
       "    </tr>\n",
       "    <tr>\n",
       "      <th>1981</th>\n",
       "      <td>46</td>\n",
       "    </tr>\n",
       "    <tr>\n",
       "      <th>1982</th>\n",
       "      <td>36</td>\n",
       "    </tr>\n",
       "    <tr>\n",
       "      <th>1983</th>\n",
       "      <td>17</td>\n",
       "    </tr>\n",
       "    <tr>\n",
       "      <th>1984</th>\n",
       "      <td>14</td>\n",
       "    </tr>\n",
       "    <tr>\n",
       "      <th>1985</th>\n",
       "      <td>14</td>\n",
       "    </tr>\n",
       "    <tr>\n",
       "      <th>1986</th>\n",
       "      <td>21</td>\n",
       "    </tr>\n",
       "    <tr>\n",
       "      <th>1987</th>\n",
       "      <td>16</td>\n",
       "    </tr>\n",
       "    <tr>\n",
       "      <th>1988</th>\n",
       "      <td>15</td>\n",
       "    </tr>\n",
       "    <tr>\n",
       "      <th>1989</th>\n",
       "      <td>17</td>\n",
       "    </tr>\n",
       "    <tr>\n",
       "      <th>1990</th>\n",
       "      <td>16</td>\n",
       "    </tr>\n",
       "    <tr>\n",
       "      <th>1991</th>\n",
       "      <td>41</td>\n",
       "    </tr>\n",
       "    <tr>\n",
       "      <th>1992</th>\n",
       "      <td>43</td>\n",
       "    </tr>\n",
       "    <tr>\n",
       "      <th>1993</th>\n",
       "      <td>60</td>\n",
       "    </tr>\n",
       "    <tr>\n",
       "      <th>1994</th>\n",
       "      <td>121</td>\n",
       "    </tr>\n",
       "    <tr>\n",
       "      <th>1995</th>\n",
       "      <td>219</td>\n",
       "    </tr>\n",
       "    <tr>\n",
       "      <th>1996</th>\n",
       "      <td>263</td>\n",
       "    </tr>\n",
       "    <tr>\n",
       "      <th>1997</th>\n",
       "      <td>289</td>\n",
       "    </tr>\n",
       "    <tr>\n",
       "      <th>1998</th>\n",
       "      <td>379</td>\n",
       "    </tr>\n",
       "    <tr>\n",
       "      <th>1999</th>\n",
       "      <td>338</td>\n",
       "    </tr>\n",
       "    <tr>\n",
       "      <th>2000</th>\n",
       "      <td>350</td>\n",
       "    </tr>\n",
       "    <tr>\n",
       "      <th>2001</th>\n",
       "      <td>482</td>\n",
       "    </tr>\n",
       "    <tr>\n",
       "      <th>2002</th>\n",
       "      <td>829</td>\n",
       "    </tr>\n",
       "    <tr>\n",
       "      <th>2003</th>\n",
       "      <td>775</td>\n",
       "    </tr>\n",
       "    <tr>\n",
       "      <th>2004</th>\n",
       "      <td>762</td>\n",
       "    </tr>\n",
       "    <tr>\n",
       "      <th>2005</th>\n",
       "      <td>939</td>\n",
       "    </tr>\n",
       "    <tr>\n",
       "      <th>2006</th>\n",
       "      <td>1006</td>\n",
       "    </tr>\n",
       "    <tr>\n",
       "      <th>2007</th>\n",
       "      <td>1197</td>\n",
       "    </tr>\n",
       "    <tr>\n",
       "      <th>2008</th>\n",
       "      <td>1427</td>\n",
       "    </tr>\n",
       "    <tr>\n",
       "      <th>2009</th>\n",
       "      <td>1426</td>\n",
       "    </tr>\n",
       "    <tr>\n",
       "      <th>2010</th>\n",
       "      <td>1255</td>\n",
       "    </tr>\n",
       "    <tr>\n",
       "      <th>2011</th>\n",
       "      <td>1136</td>\n",
       "    </tr>\n",
       "    <tr>\n",
       "      <th>2012</th>\n",
       "      <td>653</td>\n",
       "    </tr>\n",
       "    <tr>\n",
       "      <th>2013</th>\n",
       "      <td>544</td>\n",
       "    </tr>\n",
       "    <tr>\n",
       "      <th>2014</th>\n",
       "      <td>581</td>\n",
       "    </tr>\n",
       "    <tr>\n",
       "      <th>2015</th>\n",
       "      <td>606</td>\n",
       "    </tr>\n",
       "    <tr>\n",
       "      <th>2016</th>\n",
       "      <td>502</td>\n",
       "    </tr>\n",
       "  </tbody>\n",
       "</table>\n",
       "</div>"
      ],
      "text/plain": [
       "                 name\n",
       "year_of_release      \n",
       "1980                9\n",
       "1981               46\n",
       "1982               36\n",
       "1983               17\n",
       "1984               14\n",
       "1985               14\n",
       "1986               21\n",
       "1987               16\n",
       "1988               15\n",
       "1989               17\n",
       "1990               16\n",
       "1991               41\n",
       "1992               43\n",
       "1993               60\n",
       "1994              121\n",
       "1995              219\n",
       "1996              263\n",
       "1997              289\n",
       "1998              379\n",
       "1999              338\n",
       "2000              350\n",
       "2001              482\n",
       "2002              829\n",
       "2003              775\n",
       "2004              762\n",
       "2005              939\n",
       "2006             1006\n",
       "2007             1197\n",
       "2008             1427\n",
       "2009             1426\n",
       "2010             1255\n",
       "2011             1136\n",
       "2012              653\n",
       "2013              544\n",
       "2014              581\n",
       "2015              606\n",
       "2016              502"
      ]
     },
     "execution_count": 140,
     "metadata": {},
     "output_type": "execute_result"
    }
   ],
   "source": [
    "data.groupby('year_of_release').agg({'name':'count'})"
   ]
  },
  {
   "cell_type": "markdown",
   "metadata": {},
   "source": [
    "Видим, что до 1995 года выпускалось малое количество игр. Можем взять данные начиная с 1995 года."
   ]
  },
  {
   "cell_type": "code",
   "execution_count": 141,
   "metadata": {},
   "outputs": [
    {
     "data": {
      "text/plain": [
       "<AxesSubplot:xlabel='year_of_release'>"
      ]
     },
     "execution_count": 141,
     "metadata": {},
     "output_type": "execute_result"
    },
    {
     "data": {
      "image/png": "[encoded data removed]",
      "text/plain": [
       "<Figure size 720x360 with 1 Axes>"
      ]
     },
     "metadata": {
      "needs_background": "light"
     },
     "output_type": "display_data"
    }
   ],
   "source": [
    "data.groupby('year_of_release').agg(number_of_sales=('name','count')).plot(kind='bar', figsize=(10,5))"
   ]
  },
  {
   "cell_type": "code",
   "execution_count": 142,
   "metadata": {},
   "outputs": [
    {
     "data": {
      "text/plain": [
       "(15958, 12)"
      ]
     },
     "execution_count": 142,
     "metadata": {},
     "output_type": "execute_result"
    }
   ],
   "source": [
    "data_upd = data.query('year_of_release > 1994')\n",
    "data_upd.shape"
   ]
  },
  {
   "cell_type": "markdown",
   "metadata": {},
   "source": [
    "Посмотрим, как менялись продажи по платформам."
   ]
  },
  {
   "cell_type": "code",
   "execution_count": 143,
   "metadata": {},
   "outputs": [
    {
     "data": {
      "text/html": [
       "<div>\n",
       "<style scoped>\n",
       "    .dataframe tbody tr th:only-of-type {\n",
       "        vertical-align: middle;\n",
       "    }\n",
       "\n",
       "    .dataframe tbody tr th {\n",
       "        vertical-align: top;\n",
       "    }\n",
       "\n",
       "    .dataframe thead th {\n",
       "        text-align: right;\n",
       "    }\n",
       "</style>\n",
       "<table border=\"1\" class=\"dataframe\">\n",
       "  <thead>\n",
       "    <tr style=\"text-align: right;\">\n",
       "      <th></th>\n",
       "      <th>total_sales</th>\n",
       "    </tr>\n",
       "    <tr>\n",
       "      <th>platform</th>\n",
       "      <th></th>\n",
       "    </tr>\n",
       "  </thead>\n",
       "  <tbody>\n",
       "    <tr>\n",
       "      <th>PS2</th>\n",
       "      <td>1233.56</td>\n",
       "    </tr>\n",
       "    <tr>\n",
       "      <th>X360</th>\n",
       "      <td>961.24</td>\n",
       "    </tr>\n",
       "    <tr>\n",
       "      <th>PS3</th>\n",
       "      <td>931.34</td>\n",
       "    </tr>\n",
       "    <tr>\n",
       "      <th>Wii</th>\n",
       "      <td>891.18</td>\n",
       "    </tr>\n",
       "    <tr>\n",
       "      <th>DS</th>\n",
       "      <td>802.76</td>\n",
       "    </tr>\n",
       "    <tr>\n",
       "      <th>PS</th>\n",
       "      <td>721.55</td>\n",
       "    </tr>\n",
       "    <tr>\n",
       "      <th>PS4</th>\n",
       "      <td>314.14</td>\n",
       "    </tr>\n",
       "    <tr>\n",
       "      <th>GBA</th>\n",
       "      <td>312.88</td>\n",
       "    </tr>\n",
       "    <tr>\n",
       "      <th>PSP</th>\n",
       "      <td>289.53</td>\n",
       "    </tr>\n",
       "    <tr>\n",
       "      <th>3DS</th>\n",
       "      <td>257.81</td>\n",
       "    </tr>\n",
       "    <tr>\n",
       "      <th>XB</th>\n",
       "      <td>251.57</td>\n",
       "    </tr>\n",
       "    <tr>\n",
       "      <th>PC</th>\n",
       "      <td>239.79</td>\n",
       "    </tr>\n",
       "    <tr>\n",
       "      <th>N64</th>\n",
       "      <td>218.01</td>\n",
       "    </tr>\n",
       "    <tr>\n",
       "      <th>GC</th>\n",
       "      <td>196.73</td>\n",
       "    </tr>\n",
       "    <tr>\n",
       "      <th>XOne</th>\n",
       "      <td>159.32</td>\n",
       "    </tr>\n",
       "    <tr>\n",
       "      <th>GB</th>\n",
       "      <td>139.90</td>\n",
       "    </tr>\n",
       "    <tr>\n",
       "      <th>WiiU</th>\n",
       "      <td>82.19</td>\n",
       "    </tr>\n",
       "    <tr>\n",
       "      <th>PSV</th>\n",
       "      <td>53.81</td>\n",
       "    </tr>\n",
       "    <tr>\n",
       "      <th>SNES</th>\n",
       "      <td>49.59</td>\n",
       "    </tr>\n",
       "    <tr>\n",
       "      <th>SAT</th>\n",
       "      <td>29.94</td>\n",
       "    </tr>\n",
       "    <tr>\n",
       "      <th>DC</th>\n",
       "      <td>15.95</td>\n",
       "    </tr>\n",
       "    <tr>\n",
       "      <th>WS</th>\n",
       "      <td>1.42</td>\n",
       "    </tr>\n",
       "    <tr>\n",
       "      <th>NG</th>\n",
       "      <td>0.43</td>\n",
       "    </tr>\n",
       "    <tr>\n",
       "      <th>TG16</th>\n",
       "      <td>0.16</td>\n",
       "    </tr>\n",
       "    <tr>\n",
       "      <th>3DO</th>\n",
       "      <td>0.08</td>\n",
       "    </tr>\n",
       "    <tr>\n",
       "      <th>PCFX</th>\n",
       "      <td>0.03</td>\n",
       "    </tr>\n",
       "  </tbody>\n",
       "</table>\n",
       "</div>"
      ],
      "text/plain": [
       "          total_sales\n",
       "platform             \n",
       "PS2           1233.56\n",
       "X360           961.24\n",
       "PS3            931.34\n",
       "Wii            891.18\n",
       "DS             802.76\n",
       "PS             721.55\n",
       "PS4            314.14\n",
       "GBA            312.88\n",
       "PSP            289.53\n",
       "3DS            257.81\n",
       "XB             251.57\n",
       "PC             239.79\n",
       "N64            218.01\n",
       "GC             196.73\n",
       "XOne           159.32\n",
       "GB             139.90\n",
       "WiiU            82.19\n",
       "PSV             53.81\n",
       "SNES            49.59\n",
       "SAT             29.94\n",
       "DC              15.95\n",
       "WS               1.42\n",
       "NG               0.43\n",
       "TG16             0.16\n",
       "3DO              0.08\n",
       "PCFX             0.03"
      ]
     },
     "execution_count": 143,
     "metadata": {},
     "output_type": "execute_result"
    }
   ],
   "source": [
    "# посчитаем суммарные продажи по платформам\n",
    "data_upd.groupby('platform').agg({'total_sales': 'sum'}).sort_values(by='total_sales', ascending=False)"
   ]
  },
  {
   "cell_type": "markdown",
   "metadata": {},
   "source": [
    "Видим, что выделяются 5 топ платформ по суммарным продажам: 'PS2', 'X360', 'PS3', 'Wii', 'DS'. Построим распределение по годам."
   ]
  },
  {
   "cell_type": "code",
   "execution_count": 144,
   "metadata": {},
   "outputs": [],
   "source": [
    "# оставим данные только по top 5 платформам\n",
    "data_top5 = data_upd[data_upd['platform'].isin(['PS2', 'X360', 'PS3', 'Wii', 'DS'])]"
   ]
  },
  {
   "cell_type": "code",
   "execution_count": 145,
   "metadata": {},
   "outputs": [
    {
     "data": {
      "text/plain": [
       "Text(0, 0.5, 'Sales')"
      ]
     },
     "execution_count": 145,
     "metadata": {},
     "output_type": "execute_result"
    },
    {
     "data": {
      "image/png": "[encoded data removed]",
      "text/plain": [
       "<Figure size 720x360 with 1 Axes>"
      ]
     },
     "metadata": {
      "needs_background": "light"
     },
     "output_type": "display_data"
    }
   ],
   "source": [
    "# сделаем сводную таблицу и построим график\n",
    "data_top5.pivot_table(index='year_of_release', columns='platform', values='total_sales', aggfunc='sum').plot(figsize=(10, 5))\n",
    "plt.title(\"TOP5 Platforms\", loc='center', fontsize=12, fontweight=0, color='purple')\n",
    "plt.xlabel(\"Year\")\n",
    "plt.ylabel(\"Sales\")"
   ]
  },
  {
   "cell_type": "markdown",
   "metadata": {},
   "source": [
    "Видим, что характерный срок существования (активных продаж) платформ 5-6 лет. После этого продажи идут на спад."
   ]
  },
  {
   "cell_type": "markdown",
   "metadata": {},
   "source": [
    "В такой динамично меняющейся индустрии, как компьютерные игры, идеальным для прогноза на следующий год будет взять данные за последние 2-3 года (2014-2016 гг.), чтобы не захватывать уже отжившие тренды."
   ]
  },
  {
   "cell_type": "code",
   "execution_count": 146,
   "metadata": {},
   "outputs": [
    {
     "data": {
      "text/plain": [
       "(1689, 12)"
      ]
     },
     "execution_count": 146,
     "metadata": {},
     "output_type": "execute_result"
    }
   ],
   "source": [
    "data_new = data.query('year_of_release > 2013')\n",
    "data_new.shape"
   ]
  },
  {
   "cell_type": "markdown",
   "metadata": {},
   "source": [
    "Посмотрим, какие платформы лидируют по продажам."
   ]
  },
  {
   "cell_type": "code",
   "execution_count": 147,
   "metadata": {},
   "outputs": [
    {
     "data": {
      "text/plain": [
       "<matplotlib.legend.Legend at 0x7f75e8c5ea60>"
      ]
     },
     "execution_count": 147,
     "metadata": {},
     "output_type": "execute_result"
    },
    {
     "data": {
      "image/png": "[encoded data removed]",
      "text/plain": [
       "<Figure size 720x360 with 1 Axes>"
      ]
     },
     "metadata": {
      "needs_background": "light"
     },
     "output_type": "display_data"
    }
   ],
   "source": [
    "data_new.pivot_table(index='year_of_release', columns='platform', values='total_sales', aggfunc='sum').plot(figsize=(10, 5))\n",
    "plt.title(\"Platforms\", loc='center', fontsize=12, fontweight=0, color='purple')\n",
    "plt.xlabel(\"Year\")\n",
    "plt.ylabel(\"Sales\")\n",
    "plt.legend(loc=2, ncol=2)"
   ]
  },
  {
   "cell_type": "markdown",
   "metadata": {},
   "source": [
    "Видим, что на фоне других выделяются 2 платформы 'PS4' и 'XOne' (берем во внимание, что данные за 2016 год могут быть не полные). Они существуют только 4 года, в то время как остальные платформы более старые, и продажи по ним стремятся к 0. Однако и срок жизни этих двух платформ подходит к концу, стоит задуматься о выпуске новых."
   ]
  },
  {
   "cell_type": "markdown",
   "metadata": {},
   "source": [
    "Посмотрим на распределение продаж игр в разбивке по платформам."
   ]
  },
  {
   "cell_type": "code",
   "execution_count": 148,
   "metadata": {},
   "outputs": [
    {
     "data": {
      "text/plain": [
       "<AxesSubplot:xlabel='platform', ylabel='total_sales'>"
      ]
     },
     "execution_count": 148,
     "metadata": {},
     "output_type": "execute_result"
    },
    {
     "data": {
      "image/png": "[encoded data removed]",
      "text/plain": [
       "<Figure size 720x720 with 1 Axes>"
      ]
     },
     "metadata": {
      "needs_background": "light"
     },
     "output_type": "display_data"
    }
   ],
   "source": [
    "plt.figure(figsize=(10, 10))\n",
    "sns.boxplot(x=data_new[\"platform\"], y=data_new[\"total_sales\"])"
   ]
  },
  {
   "cell_type": "markdown",
   "metadata": {},
   "source": [
    "Видим, что тут выделяются 4 платформы: 'PS3', 'X360', 'PS4', 'XOne'. Две из них как мы выяснили в следующем году еще могут принести достаточно хорошую прибыль, при этом показатели 'PS3' и 'X360' стремительно падают вниз, но и существуют эти платформы достаточно давно. "
   ]
  },
  {
   "cell_type": "markdown",
   "metadata": {},
   "source": [
    " "
   ]
  },
  {
   "cell_type": "markdown",
   "metadata": {},
   "source": [
    "Посмотриим, как влияют на продажи внутри одной популярной платформы отзывы пользователей и критиков. Возьмем платформу X360, она была достаточно популярна в последние годы, при этом на данный момент практически завершила свой цикл. \n",
    "\n",
    "Построим диаграмму рассеяния и посчитаем корреляцию между отзывами и продажами."
   ]
  },
  {
   "cell_type": "code",
   "execution_count": 149,
   "metadata": {},
   "outputs": [
    {
     "data": {
      "text/html": [
       "<div>\n",
       "<style scoped>\n",
       "    .dataframe tbody tr th:only-of-type {\n",
       "        vertical-align: middle;\n",
       "    }\n",
       "\n",
       "    .dataframe tbody tr th {\n",
       "        vertical-align: top;\n",
       "    }\n",
       "\n",
       "    .dataframe thead th {\n",
       "        text-align: right;\n",
       "    }\n",
       "</style>\n",
       "<table border=\"1\" class=\"dataframe\">\n",
       "  <thead>\n",
       "    <tr style=\"text-align: right;\">\n",
       "      <th></th>\n",
       "      <th>critic_score</th>\n",
       "      <th>user_score</th>\n",
       "      <th>total_sales</th>\n",
       "    </tr>\n",
       "  </thead>\n",
       "  <tbody>\n",
       "    <tr>\n",
       "      <th>critic_score</th>\n",
       "      <td>1.000000</td>\n",
       "      <td>0.625309</td>\n",
       "      <td>0.525723</td>\n",
       "    </tr>\n",
       "    <tr>\n",
       "      <th>user_score</th>\n",
       "      <td>0.625309</td>\n",
       "      <td>1.000000</td>\n",
       "      <td>-0.138445</td>\n",
       "    </tr>\n",
       "    <tr>\n",
       "      <th>total_sales</th>\n",
       "      <td>0.525723</td>\n",
       "      <td>-0.138445</td>\n",
       "      <td>1.000000</td>\n",
       "    </tr>\n",
       "  </tbody>\n",
       "</table>\n",
       "</div>"
      ],
      "text/plain": [
       "              critic_score  user_score  total_sales\n",
       "critic_score      1.000000    0.625309     0.525723\n",
       "user_score        0.625309    1.000000    -0.138445\n",
       "total_sales       0.525723   -0.138445     1.000000"
      ]
     },
     "execution_count": 149,
     "metadata": {},
     "output_type": "execute_result"
    },
    {
     "data": {
      "image/png": "[encoded data removed]",
      "text/plain": [
       "<Figure size 432x288 with 1 Axes>"
      ]
     },
     "metadata": {
      "needs_background": "light"
     },
     "output_type": "display_data"
    },
    {
     "data": {
      "image/png": "[encoded data removed]",
      "text/plain": [
       "<Figure size 432x288 with 1 Axes>"
      ]
     },
     "metadata": {
      "needs_background": "light"
     },
     "output_type": "display_data"
    }
   ],
   "source": [
    "X360 = data_new.query('platform == \"X360\"')[['critic_score','user_score', 'total_sales']]\n",
    "X360.plot(x='user_score', y='total_sales', kind='scatter', alpha=0.3)\n",
    "X360.plot(x='critic_score', y='total_sales', kind='scatter', alpha=0.3)\n",
    "X360.corr()"
   ]
  },
  {
   "cell_type": "markdown",
   "metadata": {},
   "source": [
    "Судя по данным, которые мы получили на примере этой платформы, видим, что взаимосвязи между оценками и продажами практически нет. В случае с оценками критиков она немного больше, видимо люди больше доверяют им больше при покупке, чем мнению аудитории."
   ]
  },
  {
   "cell_type": "markdown",
   "metadata": {},
   "source": [
    "Сравним результаты также с продажами игр на других популярных платформах: PS3, PS4, XOne."
   ]
  },
  {
   "cell_type": "code",
   "execution_count": 150,
   "metadata": {},
   "outputs": [
    {
     "data": {
      "text/html": [
       "<div>\n",
       "<style scoped>\n",
       "    .dataframe tbody tr th:only-of-type {\n",
       "        vertical-align: middle;\n",
       "    }\n",
       "\n",
       "    .dataframe tbody tr th {\n",
       "        vertical-align: top;\n",
       "    }\n",
       "\n",
       "    .dataframe thead th {\n",
       "        text-align: right;\n",
       "    }\n",
       "</style>\n",
       "<table border=\"1\" class=\"dataframe\">\n",
       "  <thead>\n",
       "    <tr style=\"text-align: right;\">\n",
       "      <th></th>\n",
       "      <th>critic_score</th>\n",
       "      <th>user_score</th>\n",
       "      <th>total_sales</th>\n",
       "    </tr>\n",
       "  </thead>\n",
       "  <tbody>\n",
       "    <tr>\n",
       "      <th>critic_score</th>\n",
       "      <td>1.000000</td>\n",
       "      <td>0.693445</td>\n",
       "      <td>0.446575</td>\n",
       "    </tr>\n",
       "    <tr>\n",
       "      <th>user_score</th>\n",
       "      <td>0.693445</td>\n",
       "      <td>1.000000</td>\n",
       "      <td>-0.166761</td>\n",
       "    </tr>\n",
       "    <tr>\n",
       "      <th>total_sales</th>\n",
       "      <td>0.446575</td>\n",
       "      <td>-0.166761</td>\n",
       "      <td>1.000000</td>\n",
       "    </tr>\n",
       "  </tbody>\n",
       "</table>\n",
       "</div>"
      ],
      "text/plain": [
       "              critic_score  user_score  total_sales\n",
       "critic_score      1.000000    0.693445     0.446575\n",
       "user_score        0.693445    1.000000    -0.166761\n",
       "total_sales       0.446575   -0.166761     1.000000"
      ]
     },
     "execution_count": 150,
     "metadata": {},
     "output_type": "execute_result"
    },
    {
     "data": {
      "image/png": "[encoded data removed]",
      "text/plain": [
       "<Figure size 432x288 with 1 Axes>"
      ]
     },
     "metadata": {
      "needs_background": "light"
     },
     "output_type": "display_data"
    },
    {
     "data": {
      "image/png": "[encoded data removed]",
      "text/plain": [
       "<Figure size 432x288 with 1 Axes>"
      ]
     },
     "metadata": {
      "needs_background": "light"
     },
     "output_type": "display_data"
    }
   ],
   "source": [
    "PS3 = data_new.query('platform == \"PS3\"')[['critic_score','user_score', 'total_sales']]\n",
    "PS3.plot(x='user_score', y='total_sales', kind='scatter', alpha=0.3)\n",
    "PS3.plot(x='critic_score', y='total_sales', kind='scatter', alpha=0.3)\n",
    "PS3.corr()"
   ]
  },
  {
   "cell_type": "code",
   "execution_count": 151,
   "metadata": {},
   "outputs": [
    {
     "data": {
      "text/html": [
       "<div>\n",
       "<style scoped>\n",
       "    .dataframe tbody tr th:only-of-type {\n",
       "        vertical-align: middle;\n",
       "    }\n",
       "\n",
       "    .dataframe tbody tr th {\n",
       "        vertical-align: top;\n",
       "    }\n",
       "\n",
       "    .dataframe thead th {\n",
       "        text-align: right;\n",
       "    }\n",
       "</style>\n",
       "<table border=\"1\" class=\"dataframe\">\n",
       "  <thead>\n",
       "    <tr style=\"text-align: right;\">\n",
       "      <th></th>\n",
       "      <th>critic_score</th>\n",
       "      <th>user_score</th>\n",
       "      <th>total_sales</th>\n",
       "    </tr>\n",
       "  </thead>\n",
       "  <tbody>\n",
       "    <tr>\n",
       "      <th>critic_score</th>\n",
       "      <td>1.000000</td>\n",
       "      <td>0.546434</td>\n",
       "      <td>0.402661</td>\n",
       "    </tr>\n",
       "    <tr>\n",
       "      <th>user_score</th>\n",
       "      <td>0.546434</td>\n",
       "      <td>1.000000</td>\n",
       "      <td>-0.040132</td>\n",
       "    </tr>\n",
       "    <tr>\n",
       "      <th>total_sales</th>\n",
       "      <td>0.402661</td>\n",
       "      <td>-0.040132</td>\n",
       "      <td>1.000000</td>\n",
       "    </tr>\n",
       "  </tbody>\n",
       "</table>\n",
       "</div>"
      ],
      "text/plain": [
       "              critic_score  user_score  total_sales\n",
       "critic_score      1.000000    0.546434     0.402661\n",
       "user_score        0.546434    1.000000    -0.040132\n",
       "total_sales       0.402661   -0.040132     1.000000"
      ]
     },
     "execution_count": 151,
     "metadata": {},
     "output_type": "execute_result"
    },
    {
     "data": {
      "image/png": "[encoded data removed]",
      "text/plain": [
       "<Figure size 432x288 with 1 Axes>"
      ]
     },
     "metadata": {
      "needs_background": "light"
     },
     "output_type": "display_data"
    },
    {
     "data": {
      "image/png": "[encoded data removed]",
      "text/plain": [
       "<Figure size 432x288 with 1 Axes>"
      ]
     },
     "metadata": {
      "needs_background": "light"
     },
     "output_type": "display_data"
    }
   ],
   "source": [
    "PS4 = data_new.query('platform == \"PS4\"')[['critic_score','user_score', 'total_sales']]\n",
    "PS4.plot(x='user_score', y='total_sales', kind='scatter', alpha=0.3)\n",
    "PS4.plot(x='critic_score', y='total_sales', kind='scatter', alpha=0.3)\n",
    "PS4.corr()"
   ]
  },
  {
   "cell_type": "code",
   "execution_count": 152,
   "metadata": {},
   "outputs": [
    {
     "data": {
      "text/html": [
       "<div>\n",
       "<style scoped>\n",
       "    .dataframe tbody tr th:only-of-type {\n",
       "        vertical-align: middle;\n",
       "    }\n",
       "\n",
       "    .dataframe tbody tr th {\n",
       "        vertical-align: top;\n",
       "    }\n",
       "\n",
       "    .dataframe thead th {\n",
       "        text-align: right;\n",
       "    }\n",
       "</style>\n",
       "<table border=\"1\" class=\"dataframe\">\n",
       "  <thead>\n",
       "    <tr style=\"text-align: right;\">\n",
       "      <th></th>\n",
       "      <th>critic_score</th>\n",
       "      <th>user_score</th>\n",
       "      <th>total_sales</th>\n",
       "    </tr>\n",
       "  </thead>\n",
       "  <tbody>\n",
       "    <tr>\n",
       "      <th>critic_score</th>\n",
       "      <td>1.000000</td>\n",
       "      <td>0.440977</td>\n",
       "      <td>0.428677</td>\n",
       "    </tr>\n",
       "    <tr>\n",
       "      <th>user_score</th>\n",
       "      <td>0.440977</td>\n",
       "      <td>1.000000</td>\n",
       "      <td>-0.070384</td>\n",
       "    </tr>\n",
       "    <tr>\n",
       "      <th>total_sales</th>\n",
       "      <td>0.428677</td>\n",
       "      <td>-0.070384</td>\n",
       "      <td>1.000000</td>\n",
       "    </tr>\n",
       "  </tbody>\n",
       "</table>\n",
       "</div>"
      ],
      "text/plain": [
       "              critic_score  user_score  total_sales\n",
       "critic_score      1.000000    0.440977     0.428677\n",
       "user_score        0.440977    1.000000    -0.070384\n",
       "total_sales       0.428677   -0.070384     1.000000"
      ]
     },
     "execution_count": 152,
     "metadata": {},
     "output_type": "execute_result"
    },
    {
     "data": {
      "image/png": "[encoded data removed]",
      "text/plain": [
       "<Figure size 432x288 with 1 Axes>"
      ]
     },
     "metadata": {
      "needs_background": "light"
     },
     "output_type": "display_data"
    },
    {
     "data": {
      "image/png": "[encoded data removed]",
      "text/plain": [
       "<Figure size 432x288 with 1 Axes>"
      ]
     },
     "metadata": {
      "needs_background": "light"
     },
     "output_type": "display_data"
    }
   ],
   "source": [
    "XOne = data_new.query('platform == \"XOne\"')[['critic_score','user_score', 'total_sales']]\n",
    "XOne.plot(x='user_score', y='total_sales', kind='scatter', alpha=0.3)\n",
    "XOne.plot(x='critic_score', y='total_sales', kind='scatter', alpha=0.3)\n",
    "XOne.corr()"
   ]
  },
  {
   "cell_type": "markdown",
   "metadata": {},
   "source": [
    "Проанализировав полученные результаты, видим, что в целом по популярным платформам отзывы критиков оказывают небольшое влияние на объемы продаж, в то время как от отзывов пользователей ничего не зависит. Однако и имеющаяся зависимость слабая."
   ]
  },
  {
   "cell_type": "markdown",
   "metadata": {},
   "source": [
    " "
   ]
  },
  {
   "cell_type": "markdown",
   "metadata": {},
   "source": [
    "Теперь посмотрим на общее распределение игр по жанрам."
   ]
  },
  {
   "cell_type": "code",
   "execution_count": 153,
   "metadata": {},
   "outputs": [
    {
     "data": {
      "text/plain": [
       "<AxesSubplot:xlabel='genre'>"
      ]
     },
     "execution_count": 153,
     "metadata": {},
     "output_type": "execute_result"
    },
    {
     "data": {
      "image/png": "[encoded data removed]",
      "text/plain": [
       "<Figure size 432x288 with 1 Axes>"
      ]
     },
     "metadata": {
      "needs_background": "light"
     },
     "output_type": "display_data"
    }
   ],
   "source": [
    "data_new.groupby('genre') \\\n",
    "        .agg({'total_sales': 'median'}) \\\n",
    "        .sort_values(ascending=False, by = 'total_sales') \\\n",
    "        .plot(kind='bar')"
   ]
  },
  {
   "cell_type": "markdown",
   "metadata": {},
   "source": [
    "Видим, что стабильно прибыльным жанром является Shooter, он заметно выделяется на фоне остальных. Также в топ 5 входят: Sports, Platform, Fighting, Role-Playing. При этом жанры Puzzle и Adventure наименее популярны и прибыльны."
   ]
  },
  {
   "cell_type": "markdown",
   "metadata": {},
   "source": [
    "**Вывод:**\n",
    "\n",
    "Был проведен исследовательский анализ данных, во время которого были сделаны следующие выводы:\n",
    "  1. До 1995 года выпускалось малое количество игр.\n",
    "  2. Выделяются топ 5 платформ по суммарным продажам: 'PS2', 'X360', 'PS3', 'Wii', 'DS'.\n",
    "  3. Характерный срок существования (активных продаж) платформ 5-6 лет. После этого продажи идут на спад. \n",
    "  4. В такой динамично меняющейся индустрии, как компьютерные игры, идеальным для прогноза на следующий год будет взять данные за последние 2-3 года (2014-2016 гг.), чтобы не захватывать уже отжившие тренды.\n",
    "  5. По объему продаж на фоне других выделяются 2 платформы 'PS4' и 'XOne'. Они существуют только 4 года, в то время как остальные платформы более старые, и продажи по ним уже стремятся к 0. Однако и срок жизни этих двух платформ подходит к концу, стоит задуматься о выпуске новых.\n",
    "  6. В целом по популярным платформам отзывы критиков оказывают небольшое влияние на объемы продаж, в то время как от отзывов пользователей ничего не зависит. Однако и имеющаяся зависимость слабая.\n",
    "  7. Стабильно прибыльным жанром является Shooter, он заметно выделяется на фоне остальных. Также в топ 5 входят: Sports, Platform, Fighting, Role-Playing. При этом жанры Puzzle и Adventure наименее популярны и прибыльны."
   ]
  },
  {
   "cell_type": "markdown",
   "metadata": {},
   "source": [
    "### 4. Составим портрет пользователя каждого региона (NA, EU, JP)."
   ]
  },
  {
   "cell_type": "markdown",
   "metadata": {},
   "source": [
    "Для каждого региона посмотрим на топ 5 популярных платформ, топ 5 популярных жанров, а также посмотрим, влияет ли на продажи рейтинг ESRB."
   ]
  },
  {
   "cell_type": "code",
   "execution_count": 154,
   "metadata": {},
   "outputs": [
    {
     "data": {
      "text/html": [
       "<div>\n",
       "<style scoped>\n",
       "    .dataframe tbody tr th:only-of-type {\n",
       "        vertical-align: middle;\n",
       "    }\n",
       "\n",
       "    .dataframe tbody tr th {\n",
       "        vertical-align: top;\n",
       "    }\n",
       "\n",
       "    .dataframe thead th {\n",
       "        text-align: right;\n",
       "    }\n",
       "</style>\n",
       "<table border=\"1\" class=\"dataframe\">\n",
       "  <thead>\n",
       "    <tr style=\"text-align: right;\">\n",
       "      <th></th>\n",
       "      <th>na_sales</th>\n",
       "    </tr>\n",
       "    <tr>\n",
       "      <th>platform</th>\n",
       "      <th></th>\n",
       "    </tr>\n",
       "  </thead>\n",
       "  <tbody>\n",
       "    <tr>\n",
       "      <th>X360</th>\n",
       "      <td>0.10</td>\n",
       "    </tr>\n",
       "    <tr>\n",
       "      <th>XOne</th>\n",
       "      <td>0.10</td>\n",
       "    </tr>\n",
       "    <tr>\n",
       "      <th>WiiU</th>\n",
       "      <td>0.09</td>\n",
       "    </tr>\n",
       "    <tr>\n",
       "      <th>PS4</th>\n",
       "      <td>0.05</td>\n",
       "    </tr>\n",
       "    <tr>\n",
       "      <th>Wii</th>\n",
       "      <td>0.04</td>\n",
       "    </tr>\n",
       "  </tbody>\n",
       "</table>\n",
       "</div>"
      ],
      "text/plain": [
       "          na_sales\n",
       "platform          \n",
       "X360          0.10\n",
       "XOne          0.10\n",
       "WiiU          0.09\n",
       "PS4           0.05\n",
       "Wii           0.04"
      ]
     },
     "execution_count": 154,
     "metadata": {},
     "output_type": "execute_result"
    }
   ],
   "source": [
    "# Самые популярные платформы (топ-5) для пользователей na\n",
    "data_new.groupby('platform').agg({'na_sales': 'median'}).sort_values(by='na_sales', ascending=False).head()"
   ]
  },
  {
   "cell_type": "code",
   "execution_count": 155,
   "metadata": {},
   "outputs": [
    {
     "data": {
      "text/html": [
       "<div>\n",
       "<style scoped>\n",
       "    .dataframe tbody tr th:only-of-type {\n",
       "        vertical-align: middle;\n",
       "    }\n",
       "\n",
       "    .dataframe tbody tr th {\n",
       "        vertical-align: top;\n",
       "    }\n",
       "\n",
       "    .dataframe thead th {\n",
       "        text-align: right;\n",
       "    }\n",
       "</style>\n",
       "<table border=\"1\" class=\"dataframe\">\n",
       "  <thead>\n",
       "    <tr style=\"text-align: right;\">\n",
       "      <th></th>\n",
       "      <th>eu_sales</th>\n",
       "    </tr>\n",
       "    <tr>\n",
       "      <th>platform</th>\n",
       "      <th></th>\n",
       "    </tr>\n",
       "  </thead>\n",
       "  <tbody>\n",
       "    <tr>\n",
       "      <th>Wii</th>\n",
       "      <td>0.12</td>\n",
       "    </tr>\n",
       "    <tr>\n",
       "      <th>PS4</th>\n",
       "      <td>0.07</td>\n",
       "    </tr>\n",
       "    <tr>\n",
       "      <th>XOne</th>\n",
       "      <td>0.07</td>\n",
       "    </tr>\n",
       "    <tr>\n",
       "      <th>WiiU</th>\n",
       "      <td>0.06</td>\n",
       "    </tr>\n",
       "    <tr>\n",
       "      <th>PC</th>\n",
       "      <td>0.05</td>\n",
       "    </tr>\n",
       "  </tbody>\n",
       "</table>\n",
       "</div>"
      ],
      "text/plain": [
       "          eu_sales\n",
       "platform          \n",
       "Wii           0.12\n",
       "PS4           0.07\n",
       "XOne          0.07\n",
       "WiiU          0.06\n",
       "PC            0.05"
      ]
     },
     "execution_count": 155,
     "metadata": {},
     "output_type": "execute_result"
    }
   ],
   "source": [
    "# Самые популярные платформы (топ-5) для пользователей eu\n",
    "data_new.groupby('platform').agg({'eu_sales': 'median'}).sort_values(by='eu_sales', ascending=False).head()"
   ]
  },
  {
   "cell_type": "code",
   "execution_count": 156,
   "metadata": {},
   "outputs": [
    {
     "data": {
      "text/html": [
       "<div>\n",
       "<style scoped>\n",
       "    .dataframe tbody tr th:only-of-type {\n",
       "        vertical-align: middle;\n",
       "    }\n",
       "\n",
       "    .dataframe tbody tr th {\n",
       "        vertical-align: top;\n",
       "    }\n",
       "\n",
       "    .dataframe thead th {\n",
       "        text-align: right;\n",
       "    }\n",
       "</style>\n",
       "<table border=\"1\" class=\"dataframe\">\n",
       "  <thead>\n",
       "    <tr style=\"text-align: right;\">\n",
       "      <th></th>\n",
       "      <th>jp_sales</th>\n",
       "    </tr>\n",
       "    <tr>\n",
       "      <th>platform</th>\n",
       "      <th></th>\n",
       "    </tr>\n",
       "  </thead>\n",
       "  <tbody>\n",
       "    <tr>\n",
       "      <th>3DS</th>\n",
       "      <td>0.055</td>\n",
       "    </tr>\n",
       "    <tr>\n",
       "      <th>PSV</th>\n",
       "      <td>0.030</td>\n",
       "    </tr>\n",
       "    <tr>\n",
       "      <th>PS3</th>\n",
       "      <td>0.020</td>\n",
       "    </tr>\n",
       "    <tr>\n",
       "      <th>PSP</th>\n",
       "      <td>0.020</td>\n",
       "    </tr>\n",
       "    <tr>\n",
       "      <th>PS4</th>\n",
       "      <td>0.015</td>\n",
       "    </tr>\n",
       "  </tbody>\n",
       "</table>\n",
       "</div>"
      ],
      "text/plain": [
       "          jp_sales\n",
       "platform          \n",
       "3DS          0.055\n",
       "PSV          0.030\n",
       "PS3          0.020\n",
       "PSP          0.020\n",
       "PS4          0.015"
      ]
     },
     "execution_count": 156,
     "metadata": {},
     "output_type": "execute_result"
    }
   ],
   "source": [
    "# Самые популярные платформы (топ-5) для пользователей jp\n",
    "data_new.groupby('platform').agg({'jp_sales': 'median'}).sort_values(by='jp_sales', ascending=False).head()"
   ]
  },
  {
   "cell_type": "code",
   "execution_count": 157,
   "metadata": {},
   "outputs": [
    {
     "data": {
      "image/png": "[encoded data removed]",
      "text/plain": [
       "<Figure size 720x360 with 3 Axes>"
      ]
     },
     "metadata": {
      "needs_background": "light"
     },
     "output_type": "display_data"
    }
   ],
   "source": [
    "fig = plt.figure(figsize=(10,5))\n",
    "\n",
    "plt.subplot(2, 3, 1)\n",
    "plt.plot(data_new.groupby('platform').agg({'na_sales': 'median'}).sort_values(by='na_sales', ascending=False).head())\n",
    "plt.title(\"NA Sales\", loc='center', fontsize=12, fontweight=0, color='purple')\n",
    "\n",
    "plt.subplot(2, 3, 2)\n",
    "plt.plot(data_new.groupby('platform').agg({'eu_sales': 'median'}).sort_values(by='eu_sales', ascending=False).head())\n",
    "plt.title(\"EU Sales\", loc='center', fontsize=12, fontweight=0, color='purple')\n",
    "\n",
    "plt.subplot(2, 3, 3)\n",
    "plt.plot(data_new.groupby('platform').agg({'jp_sales': 'median'}).sort_values(by='jp_sales', ascending=False).head())\n",
    "plt.title(\"JP Sales\", loc='center', fontsize=12, fontweight=0, color='purple')\n",
    "\n",
    "plt.show()"
   ]
  },
  {
   "cell_type": "markdown",
   "metadata": {},
   "source": [
    "Популярные платформы различаются в зависимости от региона."
   ]
  },
  {
   "cell_type": "code",
   "execution_count": 158,
   "metadata": {},
   "outputs": [
    {
     "data": {
      "text/html": [
       "<div>\n",
       "<style scoped>\n",
       "    .dataframe tbody tr th:only-of-type {\n",
       "        vertical-align: middle;\n",
       "    }\n",
       "\n",
       "    .dataframe tbody tr th {\n",
       "        vertical-align: top;\n",
       "    }\n",
       "\n",
       "    .dataframe thead th {\n",
       "        text-align: right;\n",
       "    }\n",
       "</style>\n",
       "<table border=\"1\" class=\"dataframe\">\n",
       "  <thead>\n",
       "    <tr style=\"text-align: right;\">\n",
       "      <th></th>\n",
       "      <th>na_sales</th>\n",
       "    </tr>\n",
       "    <tr>\n",
       "      <th>genre</th>\n",
       "      <th></th>\n",
       "    </tr>\n",
       "  </thead>\n",
       "  <tbody>\n",
       "    <tr>\n",
       "      <th>Shooter</th>\n",
       "      <td>0.220</td>\n",
       "    </tr>\n",
       "    <tr>\n",
       "      <th>Platform</th>\n",
       "      <td>0.075</td>\n",
       "    </tr>\n",
       "    <tr>\n",
       "      <th>Sports</th>\n",
       "      <td>0.070</td>\n",
       "    </tr>\n",
       "    <tr>\n",
       "      <th>Fighting</th>\n",
       "      <td>0.040</td>\n",
       "    </tr>\n",
       "    <tr>\n",
       "      <th>Racing</th>\n",
       "      <td>0.030</td>\n",
       "    </tr>\n",
       "  </tbody>\n",
       "</table>\n",
       "</div>"
      ],
      "text/plain": [
       "          na_sales\n",
       "genre             \n",
       "Shooter      0.220\n",
       "Platform     0.075\n",
       "Sports       0.070\n",
       "Fighting     0.040\n",
       "Racing       0.030"
      ]
     },
     "execution_count": 158,
     "metadata": {},
     "output_type": "execute_result"
    }
   ],
   "source": [
    "# Самые популярные жанры (топ-5) для пользователей na\n",
    "data_new.groupby('genre').agg({'na_sales': 'median'}).sort_values(by='na_sales', ascending=False).head()"
   ]
  },
  {
   "cell_type": "code",
   "execution_count": 159,
   "metadata": {},
   "outputs": [
    {
     "data": {
      "text/html": [
       "<div>\n",
       "<style scoped>\n",
       "    .dataframe tbody tr th:only-of-type {\n",
       "        vertical-align: middle;\n",
       "    }\n",
       "\n",
       "    .dataframe tbody tr th {\n",
       "        vertical-align: top;\n",
       "    }\n",
       "\n",
       "    .dataframe thead th {\n",
       "        text-align: right;\n",
       "    }\n",
       "</style>\n",
       "<table border=\"1\" class=\"dataframe\">\n",
       "  <thead>\n",
       "    <tr style=\"text-align: right;\">\n",
       "      <th></th>\n",
       "      <th>eu_sales</th>\n",
       "    </tr>\n",
       "    <tr>\n",
       "      <th>genre</th>\n",
       "      <th></th>\n",
       "    </tr>\n",
       "  </thead>\n",
       "  <tbody>\n",
       "    <tr>\n",
       "      <th>Shooter</th>\n",
       "      <td>0.220</td>\n",
       "    </tr>\n",
       "    <tr>\n",
       "      <th>Platform</th>\n",
       "      <td>0.055</td>\n",
       "    </tr>\n",
       "    <tr>\n",
       "      <th>Racing</th>\n",
       "      <td>0.050</td>\n",
       "    </tr>\n",
       "    <tr>\n",
       "      <th>Sports</th>\n",
       "      <td>0.050</td>\n",
       "    </tr>\n",
       "    <tr>\n",
       "      <th>Simulation</th>\n",
       "      <td>0.030</td>\n",
       "    </tr>\n",
       "  </tbody>\n",
       "</table>\n",
       "</div>"
      ],
      "text/plain": [
       "            eu_sales\n",
       "genre               \n",
       "Shooter        0.220\n",
       "Platform       0.055\n",
       "Racing         0.050\n",
       "Sports         0.050\n",
       "Simulation     0.030"
      ]
     },
     "execution_count": 159,
     "metadata": {},
     "output_type": "execute_result"
    }
   ],
   "source": [
    "# Самые популярные жанры (топ-5) для пользователей eu\n",
    "data_new.groupby('genre').agg({'eu_sales': 'median'}).sort_values(by='eu_sales', ascending=False).head()"
   ]
  },
  {
   "cell_type": "code",
   "execution_count": 160,
   "metadata": {},
   "outputs": [
    {
     "data": {
      "text/html": [
       "<div>\n",
       "<style scoped>\n",
       "    .dataframe tbody tr th:only-of-type {\n",
       "        vertical-align: middle;\n",
       "    }\n",
       "\n",
       "    .dataframe tbody tr th {\n",
       "        vertical-align: top;\n",
       "    }\n",
       "\n",
       "    .dataframe thead th {\n",
       "        text-align: right;\n",
       "    }\n",
       "</style>\n",
       "<table border=\"1\" class=\"dataframe\">\n",
       "  <thead>\n",
       "    <tr style=\"text-align: right;\">\n",
       "      <th></th>\n",
       "      <th>jp_sales</th>\n",
       "    </tr>\n",
       "    <tr>\n",
       "      <th>genre</th>\n",
       "      <th></th>\n",
       "    </tr>\n",
       "  </thead>\n",
       "  <tbody>\n",
       "    <tr>\n",
       "      <th>Role-Playing</th>\n",
       "      <td>0.05</td>\n",
       "    </tr>\n",
       "    <tr>\n",
       "      <th>Fighting</th>\n",
       "      <td>0.03</td>\n",
       "    </tr>\n",
       "    <tr>\n",
       "      <th>Puzzle</th>\n",
       "      <td>0.03</td>\n",
       "    </tr>\n",
       "    <tr>\n",
       "      <th>Action</th>\n",
       "      <td>0.01</td>\n",
       "    </tr>\n",
       "    <tr>\n",
       "      <th>Adventure</th>\n",
       "      <td>0.01</td>\n",
       "    </tr>\n",
       "  </tbody>\n",
       "</table>\n",
       "</div>"
      ],
      "text/plain": [
       "              jp_sales\n",
       "genre                 \n",
       "Role-Playing      0.05\n",
       "Fighting          0.03\n",
       "Puzzle            0.03\n",
       "Action            0.01\n",
       "Adventure         0.01"
      ]
     },
     "execution_count": 160,
     "metadata": {},
     "output_type": "execute_result"
    }
   ],
   "source": [
    "# Самые популярные жанры (топ-5) для пользователей jp\n",
    "data_new.groupby('genre').agg({'jp_sales': 'median'}).sort_values(by='jp_sales', ascending=False).head()"
   ]
  },
  {
   "cell_type": "code",
   "execution_count": 161,
   "metadata": {},
   "outputs": [
    {
     "data": {
      "image/png": "[encoded data removed]",
      "text/plain": [
       "<Figure size 1008x360 with 3 Axes>"
      ]
     },
     "metadata": {
      "needs_background": "light"
     },
     "output_type": "display_data"
    }
   ],
   "source": [
    "fig = plt.figure(figsize=(14,5))\n",
    "\n",
    "plt.subplot(2, 3, 1)\n",
    "plt.plot(data_new.groupby('genre').agg({'na_sales': 'median'}).sort_values(by='na_sales', ascending=False).head())\n",
    "plt.title(\"NA Sales\", loc='center', fontsize=12, fontweight=0, color='purple')\n",
    "\n",
    "plt.subplot(2, 3, 2)\n",
    "plt.plot(data_new.groupby('genre').agg({'eu_sales': 'median'}).sort_values(by='eu_sales', ascending=False).head())\n",
    "plt.title(\"EU Sales\", loc='center', fontsize=12, fontweight=0, color='purple')\n",
    "\n",
    "plt.subplot(2, 3, 3)\n",
    "plt.plot(data_new.groupby('genre').agg({'jp_sales': 'median'}).sort_values(by='jp_sales', ascending=False).head())\n",
    "plt.title(\"JP Sales\", loc='center', fontsize=12, fontweight=0, color='purple')\n",
    "\n",
    "plt.show()"
   ]
  },
  {
   "cell_type": "markdown",
   "metadata": {},
   "source": [
    "Пользователи na и eu предпочитают преимущественно одинаковые жанры (в топе Shooter, Platform), в то время как пользователи jp предпочитают Role-Playing, Fighting."
   ]
  },
  {
   "cell_type": "code",
   "execution_count": 162,
   "metadata": {},
   "outputs": [
    {
     "data": {
      "text/html": [
       "<div>\n",
       "<style scoped>\n",
       "    .dataframe tbody tr th:only-of-type {\n",
       "        vertical-align: middle;\n",
       "    }\n",
       "\n",
       "    .dataframe tbody tr th {\n",
       "        vertical-align: top;\n",
       "    }\n",
       "\n",
       "    .dataframe thead th {\n",
       "        text-align: right;\n",
       "    }\n",
       "</style>\n",
       "<table border=\"1\" class=\"dataframe\">\n",
       "  <thead>\n",
       "    <tr style=\"text-align: right;\">\n",
       "      <th></th>\n",
       "      <th>critic_score</th>\n",
       "      <th>na_sales</th>\n",
       "    </tr>\n",
       "  </thead>\n",
       "  <tbody>\n",
       "    <tr>\n",
       "      <th>critic_score</th>\n",
       "      <td>1.000000</td>\n",
       "      <td>0.333306</td>\n",
       "    </tr>\n",
       "    <tr>\n",
       "      <th>na_sales</th>\n",
       "      <td>0.333306</td>\n",
       "      <td>1.000000</td>\n",
       "    </tr>\n",
       "  </tbody>\n",
       "</table>\n",
       "</div>"
      ],
      "text/plain": [
       "              critic_score  na_sales\n",
       "critic_score      1.000000  0.333306\n",
       "na_sales          0.333306  1.000000"
      ]
     },
     "execution_count": 162,
     "metadata": {},
     "output_type": "execute_result"
    },
    {
     "data": {
      "image/png": "[encoded data removed]",
      "text/plain": [
       "<Figure size 432x288 with 1 Axes>"
      ]
     },
     "metadata": {
      "needs_background": "light"
     },
     "output_type": "display_data"
    }
   ],
   "source": [
    "# Влияние рейтинга ESRB на продажи в na\n",
    "na = data_new[['critic_score', 'na_sales']]\n",
    "na.plot(x='critic_score', y='na_sales', kind='scatter', alpha=0.3)\n",
    "na.corr()"
   ]
  },
  {
   "cell_type": "code",
   "execution_count": 163,
   "metadata": {},
   "outputs": [
    {
     "data": {
      "text/html": [
       "<div>\n",
       "<style scoped>\n",
       "    .dataframe tbody tr th:only-of-type {\n",
       "        vertical-align: middle;\n",
       "    }\n",
       "\n",
       "    .dataframe tbody tr th {\n",
       "        vertical-align: top;\n",
       "    }\n",
       "\n",
       "    .dataframe thead th {\n",
       "        text-align: right;\n",
       "    }\n",
       "</style>\n",
       "<table border=\"1\" class=\"dataframe\">\n",
       "  <thead>\n",
       "    <tr style=\"text-align: right;\">\n",
       "      <th></th>\n",
       "      <th>critic_score</th>\n",
       "      <th>eu_sales</th>\n",
       "    </tr>\n",
       "  </thead>\n",
       "  <tbody>\n",
       "    <tr>\n",
       "      <th>critic_score</th>\n",
       "      <td>1.000000</td>\n",
       "      <td>0.270826</td>\n",
       "    </tr>\n",
       "    <tr>\n",
       "      <th>eu_sales</th>\n",
       "      <td>0.270826</td>\n",
       "      <td>1.000000</td>\n",
       "    </tr>\n",
       "  </tbody>\n",
       "</table>\n",
       "</div>"
      ],
      "text/plain": [
       "              critic_score  eu_sales\n",
       "critic_score      1.000000  0.270826\n",
       "eu_sales          0.270826  1.000000"
      ]
     },
     "execution_count": 163,
     "metadata": {},
     "output_type": "execute_result"
    },
    {
     "data": {
      "image/png": "[encoded data removed]",
      "text/plain": [
       "<Figure size 432x288 with 1 Axes>"
      ]
     },
     "metadata": {
      "needs_background": "light"
     },
     "output_type": "display_data"
    }
   ],
   "source": [
    "# Влияние рейтинга ESRB на продажи в eu\n",
    "eu = data_new[['critic_score', 'eu_sales']]\n",
    "eu.plot(x='critic_score', y='eu_sales', kind='scatter', alpha=0.3)\n",
    "eu.corr()"
   ]
  },
  {
   "cell_type": "code",
   "execution_count": 164,
   "metadata": {},
   "outputs": [
    {
     "data": {
      "text/html": [
       "<div>\n",
       "<style scoped>\n",
       "    .dataframe tbody tr th:only-of-type {\n",
       "        vertical-align: middle;\n",
       "    }\n",
       "\n",
       "    .dataframe tbody tr th {\n",
       "        vertical-align: top;\n",
       "    }\n",
       "\n",
       "    .dataframe thead th {\n",
       "        text-align: right;\n",
       "    }\n",
       "</style>\n",
       "<table border=\"1\" class=\"dataframe\">\n",
       "  <thead>\n",
       "    <tr style=\"text-align: right;\">\n",
       "      <th></th>\n",
       "      <th>critic_score</th>\n",
       "      <th>jp_sales</th>\n",
       "    </tr>\n",
       "  </thead>\n",
       "  <tbody>\n",
       "    <tr>\n",
       "      <th>critic_score</th>\n",
       "      <td>1.000000</td>\n",
       "      <td>0.130316</td>\n",
       "    </tr>\n",
       "    <tr>\n",
       "      <th>jp_sales</th>\n",
       "      <td>0.130316</td>\n",
       "      <td>1.000000</td>\n",
       "    </tr>\n",
       "  </tbody>\n",
       "</table>\n",
       "</div>"
      ],
      "text/plain": [
       "              critic_score  jp_sales\n",
       "critic_score      1.000000  0.130316\n",
       "jp_sales          0.130316  1.000000"
      ]
     },
     "execution_count": 164,
     "metadata": {},
     "output_type": "execute_result"
    },
    {
     "data": {
      "image/png": "[encoded data removed]",
      "text/plain": [
       "<Figure size 432x288 with 1 Axes>"
      ]
     },
     "metadata": {
      "needs_background": "light"
     },
     "output_type": "display_data"
    }
   ],
   "source": [
    "# Влияние рейтинга ESRB на продажи в jp\n",
    "jp = data_new[['critic_score', 'jp_sales']]\n",
    "jp.plot(x='critic_score', y='jp_sales', kind='scatter', alpha=0.3)\n",
    "jp.corr()"
   ]
  },
  {
   "cell_type": "code",
   "execution_count": 165,
   "metadata": {},
   "outputs": [
    {
     "data": {
      "text/plain": [
       "na_sales    101.30\n",
       "eu_sales     90.57\n",
       "jp_sales     62.65\n",
       "dtype: float64"
      ]
     },
     "execution_count": 165,
     "metadata": {},
     "output_type": "execute_result"
    }
   ],
   "source": [
    "# посмотрим на объем продаж игр без рейтинга по регионам\n",
    "no_critic_score = data_new.query('critic_score.isna()')\n",
    "no_critic_score[['na_sales', 'eu_sales', 'jp_sales']].sum()"
   ]
  },
  {
   "cell_type": "code",
   "execution_count": 166,
   "metadata": {},
   "outputs": [
    {
     "data": {
      "text/plain": [
       "na_sales    182.76\n",
       "eu_sales    180.11\n",
       "jp_sales     30.44\n",
       "dtype: float64"
      ]
     },
     "execution_count": 166,
     "metadata": {},
     "output_type": "execute_result"
    }
   ],
   "source": [
    "# посмотрим на объем продаж игр с проставленным рейтингом по регионам\n",
    "critic_score = data_new.query('not critic_score.isna()')\n",
    "critic_score[['na_sales', 'eu_sales', 'jp_sales']].sum()"
   ]
  },
  {
   "cell_type": "markdown",
   "metadata": {},
   "source": [
    "Отзывы критиков оказывают не сильное влияние на продажи (как мы выяснили ранее). При этом в сравнении можно отметить, что отзывы более важны для пользователей na и eu, а у пользователей jp зависимость продаж от отзывов критиков практически отсутствует.\n",
    "\n",
    "Также видим, что в na и eu бОльший объем продаж у игр, где рейтинг проставлен, а у jp бОльшие объемы показывают игры без проставленной оценки критиков.\n",
    "\n",
    "В целом можно сделать вывод, что портреты пользователей из na и eu схожи, а jp принципиально отличается."
   ]
  },
  {
   "cell_type": "markdown",
   "metadata": {},
   "source": [
    "**Вывод:**\n",
    "\n",
    "Был составлен портрет пользователя по каждому из 3-х регионов (NA, EU, JP) и  сделаны следующие выводы:\n",
    "  1. Популярные платформы различаются в зависимости от региона. Самая популярная платформа NA - X360, для EU - PS3, у JP это 3DS.\n",
    "  2. Пользователи na и eu предпочитают преимущественно одинаковые жанры (в топе Shooter, Platform), в то время как пользователи jp предпочитают Role-Playing, Fighting.\n",
    "  3. Отзывы критиков более важны для пользователей na и eu, но в целом, как отмечалось ранее, оказывают слабое влияние, а у пользователей jp зависимость продаж от отзывов критиков практически отсутствует. Также видим, что в na и eu бОльший объем продаж у игр, где рейтинг проставлен, а у jp бОльшие объемы показывают игры без проставленной оценки критиков.\n",
    "\n",
    "В целом можно сделать вывод, что портреты пользователей из na и eu схожи, а jp принципиально отличается."
   ]
  },
  {
   "cell_type": "markdown",
   "metadata": {},
   "source": [
    " "
   ]
  },
  {
   "cell_type": "markdown",
   "metadata": {},
   "source": [
    "### 5. Проверим гипотезы"
   ]
  },
  {
   "cell_type": "markdown",
   "metadata": {},
   "source": [
    "Посмотрим на средние рейтинги платформ Xbox One и PC."
   ]
  },
  {
   "cell_type": "code",
   "execution_count": 167,
   "metadata": {},
   "outputs": [
    {
     "data": {
      "text/plain": [
       "6.8"
      ]
     },
     "execution_count": 167,
     "metadata": {},
     "output_type": "execute_result"
    }
   ],
   "source": [
    "data_new.query('platform == \"XOne\" and not user_score.isna()')['user_score'].median()"
   ]
  },
  {
   "cell_type": "code",
   "execution_count": 168,
   "metadata": {},
   "outputs": [
    {
     "data": {
      "text/plain": [
       "6.8"
      ]
     },
     "execution_count": 168,
     "metadata": {},
     "output_type": "execute_result"
    }
   ],
   "source": [
    "data_new.query('platform == \"PC\" and not user_score.isna()')['user_score'].median()"
   ]
  },
  {
   "cell_type": "markdown",
   "metadata": {},
   "source": [
    "С виду они равны.\n",
    "\n",
    "Проверим гипотезу о том, что средние пользовательские рейтинги платформ Xbox One и PC одинаковые. Так как нулевая гипотеза обычно говорит о равенстве, сформулируем нулевую и альтернативную гипотезы следующим образом:\n",
    "\n",
    "Н0 - средние пользовательские рейтинги платформ Xbox One и PC равны\n",
    "\n",
    "Н1 - средние пользовательские рейтинги платформ Xbox One и PC не равны"
   ]
  },
  {
   "cell_type": "code",
   "execution_count": 169,
   "metadata": {},
   "outputs": [
    {
     "name": "stdout",
     "output_type": "stream",
     "text": [
      "p-значение:  0.11601398086668832\n",
      "Не сможем отвергнуть нулевую гипотезу\n"
     ]
    }
   ],
   "source": [
    "Xbox_One = data_new.query('platform == \"XOne\" and not user_score.isna()')['user_score']\n",
    "PC = data_new.query('platform == \"PC\" and not user_score.isna()')['user_score']\n",
    "results = st.ttest_ind(Xbox_One, PC, equal_var=False)\n",
    "print('p-значение: ', results.pvalue)\n",
    "\n",
    "alpha = 0.05\n",
    "\n",
    "if results.pvalue < alpha:\n",
    "    print('Отвергаем нулевую гипотезу')\n",
    "else:\n",
    "    print('Не сможем отвергнуть нулевую гипотезу')"
   ]
  },
  {
   "cell_type": "markdown",
   "metadata": {},
   "source": [
    "В данном случае мы не можем отвергнуть нулевую гипотезу, то есть, можно говорить о том, что различия в средних оценках пользователей платформ Xbox One и PC не статзначимы, а значит можно считать, что они равны."
   ]
  },
  {
   "cell_type": "markdown",
   "metadata": {},
   "source": [
    " "
   ]
  },
  {
   "cell_type": "markdown",
   "metadata": {},
   "source": [
    "Теперь посмотрим на средние рейтинги платформ жанров Action и Sports."
   ]
  },
  {
   "cell_type": "code",
   "execution_count": 170,
   "metadata": {},
   "outputs": [
    {
     "data": {
      "text/plain": [
       "7.1"
      ]
     },
     "execution_count": 170,
     "metadata": {},
     "output_type": "execute_result"
    }
   ],
   "source": [
    "data_new.query('genre == \"Action\" and not user_score.isna()')['user_score'].median()"
   ]
  },
  {
   "cell_type": "code",
   "execution_count": 171,
   "metadata": {},
   "outputs": [
    {
     "data": {
      "text/plain": [
       "5.5"
      ]
     },
     "execution_count": 171,
     "metadata": {},
     "output_type": "execute_result"
    }
   ],
   "source": [
    "data_new.query('genre == \"Sports\" and not user_score.isna()')['user_score'].median()"
   ]
  },
  {
   "cell_type": "markdown",
   "metadata": {},
   "source": [
    "Теперь проверим гипотезу о том, что средние пользовательские рейтинги жанров Action и Sports действительно различаются. Сформулируем нулевую и альтернативную гипотезы следующим образом:\n",
    "\n",
    "Н0 - средние пользовательские рейтинги жанров Action и Sports равны\n",
    "\n",
    "Н1 - средние пользовательские рейтинги жанров Action и Sports не равны"
   ]
  },
  {
   "cell_type": "code",
   "execution_count": 172,
   "metadata": {},
   "outputs": [
    {
     "name": "stdout",
     "output_type": "stream",
     "text": [
      "p-значение:  1.1825550382644557e-14\n",
      "Отвергаем нулевую гипотезу\n"
     ]
    }
   ],
   "source": [
    "Action = data_new.query('genre == \"Action\" and not user_score.isna()')['user_score']\n",
    "Sports = data_new.query('genre == \"Sports\" and not user_score.isna()')['user_score']\n",
    "results = st.ttest_ind(Action, Sports, equal_var=False)\n",
    "print('p-значение: ', results.pvalue)\n",
    "\n",
    "alpha = 0.05\n",
    "\n",
    "if results.pvalue < alpha:\n",
    "    print('Отвергаем нулевую гипотезу')\n",
    "else:\n",
    "    print('Не сможем отвергнуть нулевую гипотезу')"
   ]
  },
  {
   "cell_type": "markdown",
   "metadata": {},
   "source": [
    "Тут напротив данные указывают на то, что нулевая гипотеза может быть отвергнута, а значит средние пользовательские рейтинги жанров Action и Sports статзначимо различаются."
   ]
  },
  {
   "cell_type": "markdown",
   "metadata": {},
   "source": [
    "**Вывод:**\n",
    "\n",
    "Были проверены две гипотезы:\n",
    "  1. Гипотеза о том, что средние оценки пользователей платформ Xbox One и PС равны. Данная гипотеза подтвердилась, различия оказались не статзначимы.\n",
    "  2. Гипотеза о том, что средние оценки пользователей жанров Action и Sports различаются, что в данном случае подтвердилось."
   ]
  },
  {
   "cell_type": "markdown",
   "metadata": {},
   "source": [
    "### 6. Вывод"
   ]
  },
  {
   "cell_type": "markdown",
   "metadata": {},
   "source": [
    "Анализировали данные о продаже компьютерных игр. \n",
    "\n",
    "Целью было выявить определяющие успешность игры закономерности.\n",
    "\n",
    "Стоит принять во внимание, что данные за 2016 год могут быть не полными.\n",
    "\n",
    "Изучив общую информацию было замечено, что:\n",
    "\n",
    "   - датафрейм содержит данные о продаже игр с 1980 по 2016 год\n",
    "   - в данных есть некоторое количество пропусков в колонках 'Name', 'Year_of_Release', 'Genre', 'Critic_Score', 'User_Score', 'Rating'\n",
    "   - выбросов не обнаружено; все значения выглядят вполне реальными\n",
    "\n",
    "Во время предобработки данных были замечены и обработаны пропущенные значения в следующих столбцах:\n",
    "\n",
    "   - name - строки с пропущенными значениями удалены (было всего 2 строки)\n",
    "   - year_of_release - строки с пропущенными значенями были удалены (269 строк)\n",
    "   - critic_score - пропуски были оставлены, так как не известно точное значение\n",
    "   - user_score - пропущенные значения также оставлены, значения 'tbd' заменены на NaN.\n",
    "   - rating - пропуски заменены на 'undefined'\n",
    "    \n",
    "Также в данные была добавлена информация о суммарных продажах во всех регионах - создана колонка `total_sales`\n",
    "\n",
    "Был проведен исследовательский анализ данных, во время которого были сделаны следующие выводы:\n",
    "\n",
    "   1. До 1995 года выпускалось малое количество игр.\n",
    "   2. Выделяются топ 5 платформ по суммарным продажам: 'PS2', 'X360', 'PS3', 'Wii', 'DS'.\n",
    "   3. Характерный срок существования (активных продаж) платформ 5-6 лет. После этого продажи идут на спад.\n",
    "   4. В такой динамично меняющейся индустрии, как компьютерные игры, идеальным для прогноза на следующий год будет взять данные за последние 2-3 года (2014-2016 гг.), чтобы не захватывать уже отжившие тренды.\n",
    "   5. По объему продаж на фоне других выделяются 2 платформы 'PS4' и 'XOne'. Они существуют только 4 года, в то время как остальные платформы более старые, и продажи по ним уже стремятся к 0. Однако и срок жизни этих двух платформ подходит к концу, стоит задуматься о выпуске новых.\n",
    "   6. В целом по популярным платформам отзывы критиков оказывают небольшое влияние на объемы продаж, в то время как от отзывов пользователей ничего не зависит. Однако и имеющаяся зависимость слабая.\n",
    "   7. Стабильно прибыльным жанром является Shooter, он заметно выделяется на фоне остальных. Также в топ 5 входят: Sports, Platform, Fighting, Role-Playing. При этом жанры Puzzle и Adventure наименее популярны и прибыльны.\n",
    "\n",
    "Был составлен портрет пользователя по каждому из 3-х регионов (NA, EU, JP) и сделаны следующие выводы:\n",
    "\n",
    "   1. Популярные платформы различаются в зависимости от региона. Самая популярная платформа NA - X360, для EU - PS3, у JP это 3DS.\n",
    "   2. Пользователи na и eu предпочитают преимущественно одинаковые жанры (в топе Shooter, Platform), в то время как пользователи jp предпочитают Role-Playing, Fighting.\n",
    "   3. Отзывы критиков более важны для пользователей na и eu, но в целом, как отмечалось ранее, оказывают слабое влияние, а у пользователей jp зависимость продаж от отзывов критиков практически отсутствует. Также видим, что в na и eu бОльший объем продаж у игр, где рейтинг проставлен, а у jp бОльшие объемы показывают игры без проставленной оценки критиков.\n",
    "    \n",
    "В целом можно сделать вывод, что портреты пользователей из na и eu схожи, а jp принципиально отличается.\n",
    "  \n",
    "Были проверены две гипотезы:\n",
    "\n",
    "  - Гипотеза о том, что средние оценки пользователей платформ Xbox One и PС равны. Данная гипотеза подтвердилась, различия оказались не статзначимы.\n",
    "  - Гипотеза о том, что средние оценки пользователей жанров Action и Sports различаются, что в данном случае подтвердилось.\n",
    "  \n",
    "**Выводы:** Делая прогнозы на следующий год, стоит учесть следующие моменты:\n",
    "\n",
    " - Почти все существующие платформы достаточно старые. Срок прибыльной жизни платформы составляет около 6 лет, а самым новым платформам уже 4 года. Стоит задуматься о выпуске новой.\n",
    " - Стоит обратить внимание на то, что пользователи по-разному ведут себя в разных регионах, в большинстве своем отличаются пользователи Японии. Также они по-разному реагируют на рейтинг ESBR.\n",
    " - Стабильную прибыль по суммарным продажам во всех регионах приносят игры в жанре Shooter.\n",
    " - отзывы критиков оказывают очень слабое влияние на объемы продаж, в то время как от отзывов пользователей вообще ничего не зависит."
   ]
  }
 ],
 "metadata": {
  "ExecuteTimeLog": [
   {
    "duration": 1367,
    "start_time": "2023-01-25T06:53:33.563Z"
   },
   {
    "duration": 140,
    "start_time": "2023-01-25T06:53:34.932Z"
   },
   {
    "duration": 46,
    "start_time": "2023-01-25T06:53:44.610Z"
   },
   {
    "duration": 69,
    "start_time": "2023-01-25T06:53:47.766Z"
   },
   {
    "duration": 30,
    "start_time": "2023-01-25T06:53:55.273Z"
   },
   {
    "duration": 14,
    "start_time": "2023-01-25T06:53:57.612Z"
   },
   {
    "duration": 136,
    "start_time": "2023-01-25T06:54:00.672Z"
   },
   {
    "duration": 36,
    "start_time": "2023-01-25T06:54:05.476Z"
   },
   {
    "duration": 3,
    "start_time": "2023-01-25T06:55:31.831Z"
   },
   {
    "duration": 8,
    "start_time": "2023-01-25T06:55:47.217Z"
   },
   {
    "duration": 12,
    "start_time": "2023-01-25T06:57:13.465Z"
   },
   {
    "duration": 13,
    "start_time": "2023-01-25T06:57:13.826Z"
   },
   {
    "duration": 41,
    "start_time": "2023-01-25T06:58:25.675Z"
   },
   {
    "duration": 5,
    "start_time": "2023-01-25T06:59:11.821Z"
   },
   {
    "duration": 6,
    "start_time": "2023-01-25T06:59:12.317Z"
   },
   {
    "duration": 5,
    "start_time": "2023-01-25T06:59:33.865Z"
   },
   {
    "duration": 5,
    "start_time": "2023-01-25T06:59:36.114Z"
   },
   {
    "duration": 8,
    "start_time": "2023-01-25T06:59:50.750Z"
   },
   {
    "duration": 26,
    "start_time": "2023-01-25T06:59:53.081Z"
   },
   {
    "duration": 8,
    "start_time": "2023-01-25T07:00:41.911Z"
   },
   {
    "duration": 15,
    "start_time": "2023-01-25T07:00:57.906Z"
   },
   {
    "duration": 11,
    "start_time": "2023-01-25T07:01:34.335Z"
   },
   {
    "duration": 9,
    "start_time": "2023-01-25T07:02:06.541Z"
   },
   {
    "duration": 19,
    "start_time": "2023-01-25T07:02:08.312Z"
   },
   {
    "duration": 7,
    "start_time": "2023-01-25T07:02:11.776Z"
   },
   {
    "duration": 235,
    "start_time": "2023-01-25T07:02:12.029Z"
   },
   {
    "duration": 9,
    "start_time": "2023-01-25T07:02:15.405Z"
   },
   {
    "duration": 287,
    "start_time": "2023-01-25T07:10:18.238Z"
   },
   {
    "duration": 281,
    "start_time": "2023-01-25T07:10:42.448Z"
   },
   {
    "duration": 135,
    "start_time": "2023-01-25T07:10:53.326Z"
   },
   {
    "duration": 144,
    "start_time": "2023-01-25T07:43:58.061Z"
   },
   {
    "duration": 358,
    "start_time": "2023-01-25T07:44:00.618Z"
   },
   {
    "duration": 308,
    "start_time": "2023-01-25T07:44:02.199Z"
   },
   {
    "duration": 194,
    "start_time": "2023-01-25T07:44:06.546Z"
   },
   {
    "duration": 13,
    "start_time": "2023-01-25T07:44:20.120Z"
   },
   {
    "duration": 14,
    "start_time": "2023-01-25T07:44:20.512Z"
   },
   {
    "duration": 10,
    "start_time": "2023-01-25T07:44:20.716Z"
   },
   {
    "duration": 20,
    "start_time": "2023-01-25T07:44:21.587Z"
   },
   {
    "duration": 10,
    "start_time": "2023-01-25T07:44:22.160Z"
   },
   {
    "duration": 10,
    "start_time": "2023-01-25T07:44:23.403Z"
   },
   {
    "duration": 10,
    "start_time": "2023-01-25T07:44:23.604Z"
   },
   {
    "duration": 131,
    "start_time": "2023-01-25T07:44:23.951Z"
   },
   {
    "duration": 141,
    "start_time": "2023-01-25T07:44:25.375Z"
   },
   {
    "duration": 137,
    "start_time": "2023-01-25T07:44:25.824Z"
   },
   {
    "duration": 25,
    "start_time": "2023-01-25T07:47:24.407Z"
   },
   {
    "duration": 24,
    "start_time": "2023-01-25T07:47:31.000Z"
   },
   {
    "duration": 1468,
    "start_time": "2023-01-26T10:30:28.005Z"
   },
   {
    "duration": 198,
    "start_time": "2023-01-26T10:30:29.475Z"
   },
   {
    "duration": 17,
    "start_time": "2023-01-26T10:30:32.222Z"
   },
   {
    "duration": 34,
    "start_time": "2023-01-26T10:31:26.633Z"
   },
   {
    "duration": 3,
    "start_time": "2023-01-26T10:39:44.976Z"
   },
   {
    "duration": 12,
    "start_time": "2023-01-26T10:39:47.666Z"
   },
   {
    "duration": 15,
    "start_time": "2023-01-26T10:39:53.192Z"
   },
   {
    "duration": 126,
    "start_time": "2023-01-26T10:39:57.013Z"
   },
   {
    "duration": 10,
    "start_time": "2023-01-26T10:44:19.772Z"
   },
   {
    "duration": 7,
    "start_time": "2023-01-26T10:47:44.600Z"
   },
   {
    "duration": 5,
    "start_time": "2023-01-26T10:48:14.267Z"
   },
   {
    "duration": 4,
    "start_time": "2023-01-26T10:48:59.936Z"
   },
   {
    "duration": 4,
    "start_time": "2023-01-26T10:49:20.113Z"
   },
   {
    "duration": 6,
    "start_time": "2023-01-26T10:49:32.854Z"
   },
   {
    "duration": 6,
    "start_time": "2023-01-26T10:49:46.789Z"
   },
   {
    "duration": 7,
    "start_time": "2023-01-26T10:50:06.716Z"
   },
   {
    "duration": 7,
    "start_time": "2023-01-26T10:50:41.909Z"
   },
   {
    "duration": 33,
    "start_time": "2023-01-26T10:51:11.706Z"
   },
   {
    "duration": 6,
    "start_time": "2023-01-26T10:51:17.155Z"
   },
   {
    "duration": 5,
    "start_time": "2023-01-26T10:51:19.393Z"
   },
   {
    "duration": 4,
    "start_time": "2023-01-26T10:51:22.408Z"
   },
   {
    "duration": 9,
    "start_time": "2023-01-26T10:51:24.442Z"
   },
   {
    "duration": 10,
    "start_time": "2023-01-26T10:51:26.561Z"
   },
   {
    "duration": 23,
    "start_time": "2023-01-26T10:51:42.915Z"
   },
   {
    "duration": 5,
    "start_time": "2023-01-26T10:56:06.277Z"
   },
   {
    "duration": 21,
    "start_time": "2023-01-26T10:56:18.707Z"
   },
   {
    "duration": 6,
    "start_time": "2023-01-26T10:56:26.996Z"
   },
   {
    "duration": 17,
    "start_time": "2023-01-26T10:56:45.453Z"
   },
   {
    "duration": 14,
    "start_time": "2023-01-26T10:57:11.406Z"
   },
   {
    "duration": 12,
    "start_time": "2023-01-26T10:57:30.663Z"
   },
   {
    "duration": 199,
    "start_time": "2023-01-26T10:58:37.437Z"
   },
   {
    "duration": 16,
    "start_time": "2023-01-26T10:59:07.363Z"
   },
   {
    "duration": 32,
    "start_time": "2023-01-26T10:59:30.576Z"
   },
   {
    "duration": 352,
    "start_time": "2023-01-26T11:00:31.444Z"
   },
   {
    "duration": 342,
    "start_time": "2023-01-26T11:00:51.003Z"
   },
   {
    "duration": 364,
    "start_time": "2023-01-26T11:03:51.981Z"
   },
   {
    "duration": 15,
    "start_time": "2023-01-26T11:04:32.826Z"
   },
   {
    "duration": 18,
    "start_time": "2023-01-26T11:04:36.288Z"
   },
   {
    "duration": 7,
    "start_time": "2023-01-26T11:04:43.362Z"
   },
   {
    "duration": 239,
    "start_time": "2023-01-26T11:04:47.160Z"
   },
   {
    "duration": 9,
    "start_time": "2023-01-26T11:12:01.609Z"
   },
   {
    "duration": 341,
    "start_time": "2023-01-26T11:12:25.233Z"
   },
   {
    "duration": 273,
    "start_time": "2023-01-26T11:12:42.293Z"
   },
   {
    "duration": 312,
    "start_time": "2023-01-26T11:13:43.612Z"
   },
   {
    "duration": 320,
    "start_time": "2023-01-26T11:19:20.160Z"
   },
   {
    "duration": 331,
    "start_time": "2023-01-26T11:20:22.225Z"
   },
   {
    "duration": 284,
    "start_time": "2023-01-26T11:20:35.748Z"
   },
   {
    "duration": 241,
    "start_time": "2023-01-26T11:21:30.019Z"
   },
   {
    "duration": 192,
    "start_time": "2023-01-26T11:26:09.835Z"
   },
   {
    "duration": 226,
    "start_time": "2023-01-26T11:42:57.659Z"
   },
   {
    "duration": 222,
    "start_time": "2023-01-26T11:44:01.593Z"
   },
   {
    "duration": 300,
    "start_time": "2023-01-26T11:44:13.199Z"
   },
   {
    "duration": 164,
    "start_time": "2023-01-26T11:44:21.286Z"
   },
   {
    "duration": 243,
    "start_time": "2023-01-26T11:44:26.332Z"
   },
   {
    "duration": 229,
    "start_time": "2023-01-26T11:44:30.266Z"
   },
   {
    "duration": 257,
    "start_time": "2023-01-26T11:44:35.833Z"
   },
   {
    "duration": 214,
    "start_time": "2023-01-26T11:44:43.821Z"
   },
   {
    "duration": 241,
    "start_time": "2023-01-26T11:44:48.932Z"
   },
   {
    "duration": 250,
    "start_time": "2023-01-26T11:44:53.424Z"
   },
   {
    "duration": 216,
    "start_time": "2023-01-26T11:44:56.752Z"
   },
   {
    "duration": 400,
    "start_time": "2023-01-26T11:44:59.636Z"
   },
   {
    "duration": 91,
    "start_time": "2023-01-26T11:45:28.448Z"
   },
   {
    "duration": 230,
    "start_time": "2023-01-26T11:47:31.981Z"
   },
   {
    "duration": 85,
    "start_time": "2023-01-26T11:48:05.498Z"
   },
   {
    "duration": 299,
    "start_time": "2023-01-26T11:48:16.910Z"
   },
   {
    "duration": 301,
    "start_time": "2023-01-26T11:48:32.528Z"
   },
   {
    "duration": 253,
    "start_time": "2023-01-26T11:48:45.478Z"
   },
   {
    "duration": 352,
    "start_time": "2023-01-26T11:48:54.552Z"
   },
   {
    "duration": 417,
    "start_time": "2023-01-26T11:49:02.770Z"
   },
   {
    "duration": 301,
    "start_time": "2023-01-26T11:49:16.621Z"
   },
   {
    "duration": 330,
    "start_time": "2023-01-26T11:49:34.485Z"
   },
   {
    "duration": 275,
    "start_time": "2023-01-26T11:49:47.885Z"
   },
   {
    "duration": 291,
    "start_time": "2023-01-26T11:49:55.387Z"
   },
   {
    "duration": 264,
    "start_time": "2023-01-26T11:50:00.833Z"
   },
   {
    "duration": 268,
    "start_time": "2023-01-26T11:50:11.830Z"
   },
   {
    "duration": 280,
    "start_time": "2023-01-26T11:50:16.921Z"
   },
   {
    "duration": 421,
    "start_time": "2023-01-26T11:51:42.112Z"
   },
   {
    "duration": 309,
    "start_time": "2023-01-26T11:52:04.542Z"
   },
   {
    "duration": 281,
    "start_time": "2023-01-26T11:52:43.028Z"
   },
   {
    "duration": 11,
    "start_time": "2023-01-26T11:53:03.847Z"
   },
   {
    "duration": 13,
    "start_time": "2023-01-26T11:53:05.686Z"
   },
   {
    "duration": 11,
    "start_time": "2023-01-26T11:53:38.968Z"
   },
   {
    "duration": 11,
    "start_time": "2023-01-26T11:54:06.937Z"
   },
   {
    "duration": 292,
    "start_time": "2023-01-26T11:54:18.293Z"
   },
   {
    "duration": 11,
    "start_time": "2023-01-26T11:54:31.861Z"
   },
   {
    "duration": 11,
    "start_time": "2023-01-26T11:54:33.531Z"
   },
   {
    "duration": 259,
    "start_time": "2023-01-26T11:54:42.089Z"
   },
   {
    "duration": 12,
    "start_time": "2023-01-26T11:55:11.704Z"
   },
   {
    "duration": 13,
    "start_time": "2023-01-26T11:55:16.769Z"
   },
   {
    "duration": 14,
    "start_time": "2023-01-26T11:55:18.793Z"
   },
   {
    "duration": 263,
    "start_time": "2023-01-26T11:56:22.184Z"
   },
   {
    "duration": 253,
    "start_time": "2023-01-26T11:56:32.608Z"
   },
   {
    "duration": 382,
    "start_time": "2023-01-26T11:56:38.576Z"
   },
   {
    "duration": 263,
    "start_time": "2023-01-26T11:56:45.875Z"
   },
   {
    "duration": 170,
    "start_time": "2023-01-26T11:58:50.341Z"
   },
   {
    "duration": 161,
    "start_time": "2023-01-26T11:58:57.784Z"
   },
   {
    "duration": 159,
    "start_time": "2023-01-26T11:59:05.694Z"
   },
   {
    "duration": 5,
    "start_time": "2023-01-26T12:04:35.209Z"
   },
   {
    "duration": 6,
    "start_time": "2023-01-26T12:05:10.286Z"
   },
   {
    "duration": 5,
    "start_time": "2023-01-26T12:05:24.173Z"
   },
   {
    "duration": 5,
    "start_time": "2023-01-26T12:05:31.428Z"
   },
   {
    "duration": 5,
    "start_time": "2023-01-26T12:06:12.719Z"
   },
   {
    "duration": 9,
    "start_time": "2023-01-26T12:07:26.613Z"
   },
   {
    "duration": 15,
    "start_time": "2023-01-26T12:08:07.403Z"
   },
   {
    "duration": 1352,
    "start_time": "2023-01-26T12:13:39.521Z"
   },
   {
    "duration": 14,
    "start_time": "2023-01-26T12:14:24.546Z"
   },
   {
    "duration": 17,
    "start_time": "2023-01-26T12:15:12.847Z"
   },
   {
    "duration": 18,
    "start_time": "2023-01-26T12:15:18.421Z"
   },
   {
    "duration": 13,
    "start_time": "2023-01-26T12:16:10.765Z"
   },
   {
    "duration": 13,
    "start_time": "2023-01-26T12:16:19.668Z"
   },
   {
    "duration": 14,
    "start_time": "2023-01-26T12:16:25.722Z"
   },
   {
    "duration": 12,
    "start_time": "2023-01-26T12:16:48.445Z"
   },
   {
    "duration": 21,
    "start_time": "2023-01-26T12:21:42.121Z"
   },
   {
    "duration": 13,
    "start_time": "2023-01-26T12:21:48.737Z"
   },
   {
    "duration": 10,
    "start_time": "2023-01-26T12:23:43.378Z"
   },
   {
    "duration": 10,
    "start_time": "2023-01-26T12:24:02.512Z"
   },
   {
    "duration": 138,
    "start_time": "2023-01-26T12:30:07.059Z"
   },
   {
    "duration": 13,
    "start_time": "2023-01-26T12:30:47.620Z"
   },
   {
    "duration": 12,
    "start_time": "2023-01-26T12:30:49.250Z"
   },
   {
    "duration": 14,
    "start_time": "2023-01-26T12:31:23.099Z"
   },
   {
    "duration": 3,
    "start_time": "2023-01-26T12:51:02.539Z"
   },
   {
    "duration": 68,
    "start_time": "2023-01-26T12:51:02.545Z"
   },
   {
    "duration": 25,
    "start_time": "2023-01-26T12:51:02.614Z"
   },
   {
    "duration": 36,
    "start_time": "2023-01-26T12:51:02.641Z"
   },
   {
    "duration": 5,
    "start_time": "2023-01-26T12:51:02.679Z"
   },
   {
    "duration": 43,
    "start_time": "2023-01-26T12:51:02.686Z"
   },
   {
    "duration": 19,
    "start_time": "2023-01-26T12:51:02.730Z"
   },
   {
    "duration": 8,
    "start_time": "2023-01-26T12:51:02.751Z"
   },
   {
    "duration": 7,
    "start_time": "2023-01-26T12:51:02.762Z"
   },
   {
    "duration": 11,
    "start_time": "2023-01-26T12:51:02.771Z"
   },
   {
    "duration": 7,
    "start_time": "2023-01-26T12:51:02.784Z"
   },
   {
    "duration": 8,
    "start_time": "2023-01-26T12:51:02.821Z"
   },
   {
    "duration": 31,
    "start_time": "2023-01-26T12:51:02.830Z"
   },
   {
    "duration": 10,
    "start_time": "2023-01-26T12:51:02.863Z"
   },
   {
    "duration": 16,
    "start_time": "2023-01-26T12:51:02.875Z"
   },
   {
    "duration": 36,
    "start_time": "2023-01-26T12:51:02.894Z"
   },
   {
    "duration": 20,
    "start_time": "2023-01-26T12:51:02.932Z"
   },
   {
    "duration": 38,
    "start_time": "2023-01-26T12:51:02.954Z"
   },
   {
    "duration": 41,
    "start_time": "2023-01-26T12:51:02.994Z"
   },
   {
    "duration": 11,
    "start_time": "2023-01-26T12:51:03.040Z"
   },
   {
    "duration": 382,
    "start_time": "2023-01-26T12:51:03.053Z"
   },
   {
    "duration": 12,
    "start_time": "2023-01-26T12:51:03.440Z"
   },
   {
    "duration": 17,
    "start_time": "2023-01-26T12:51:03.455Z"
   },
   {
    "duration": 7,
    "start_time": "2023-01-26T12:51:03.476Z"
   },
   {
    "duration": 268,
    "start_time": "2023-01-26T12:51:03.485Z"
   },
   {
    "duration": 10,
    "start_time": "2023-01-26T12:51:03.756Z"
   },
   {
    "duration": 311,
    "start_time": "2023-01-26T12:51:03.768Z"
   },
   {
    "duration": 471,
    "start_time": "2023-01-26T12:51:04.081Z"
   },
   {
    "duration": 413,
    "start_time": "2023-01-26T12:51:04.554Z"
   },
   {
    "duration": 393,
    "start_time": "2023-01-26T12:51:04.969Z"
   },
   {
    "duration": 344,
    "start_time": "2023-01-26T12:51:05.365Z"
   },
   {
    "duration": 357,
    "start_time": "2023-01-26T12:51:05.711Z"
   },
   {
    "duration": 274,
    "start_time": "2023-01-26T12:51:06.072Z"
   },
   {
    "duration": 13,
    "start_time": "2023-01-26T12:51:06.348Z"
   },
   {
    "duration": 18,
    "start_time": "2023-01-26T12:51:06.363Z"
   },
   {
    "duration": 45,
    "start_time": "2023-01-26T12:51:06.383Z"
   },
   {
    "duration": 301,
    "start_time": "2023-01-26T12:51:06.430Z"
   },
   {
    "duration": 13,
    "start_time": "2023-01-26T12:51:06.740Z"
   },
   {
    "duration": 19,
    "start_time": "2023-01-26T12:51:06.755Z"
   },
   {
    "duration": 11,
    "start_time": "2023-01-26T12:51:06.776Z"
   },
   {
    "duration": 305,
    "start_time": "2023-01-26T12:51:06.788Z"
   },
   {
    "duration": 200,
    "start_time": "2023-01-26T12:51:07.096Z"
   },
   {
    "duration": 198,
    "start_time": "2023-01-26T12:51:07.297Z"
   },
   {
    "duration": 179,
    "start_time": "2023-01-26T12:51:07.497Z"
   },
   {
    "duration": 14,
    "start_time": "2023-01-26T12:51:07.678Z"
   },
   {
    "duration": 44,
    "start_time": "2023-01-26T12:51:07.694Z"
   },
   {
    "duration": 21,
    "start_time": "2023-01-26T12:51:07.745Z"
   },
   {
    "duration": 26,
    "start_time": "2023-01-26T12:51:07.767Z"
   },
   {
    "duration": 40,
    "start_time": "2023-01-26T12:51:07.795Z"
   },
   {
    "duration": 30,
    "start_time": "2023-01-26T12:51:07.838Z"
   },
   {
    "duration": 36,
    "start_time": "2023-01-26T12:51:07.871Z"
   },
   {
    "duration": 24,
    "start_time": "2023-01-26T12:51:07.909Z"
   }
  ],
  "kernelspec": {
   "display_name": "Python 3 (ipykernel)",
   "language": "python",
   "name": "python3"
  },
  "language_info": {
   "codemirror_mode": {
    "name": "ipython",
    "version": 3
   },
   "file_extension": ".py",
   "mimetype": "text/x-python",
   "name": "python",
   "nbconvert_exporter": "python",
   "pygments_lexer": "ipython3",
   "version": "3.9.12"
  },
  "toc": {
   "base_numbering": 1,
   "nav_menu": {},
   "number_sections": true,
   "sideBar": true,
   "skip_h1_title": true,
   "title_cell": "Table of Contents",
   "title_sidebar": "Contents",
   "toc_cell": false,
   "toc_position": {},
   "toc_section_display": true,
   "toc_window_display": false
  }
 },
 "nbformat": 4,
 "nbformat_minor": 4
}
